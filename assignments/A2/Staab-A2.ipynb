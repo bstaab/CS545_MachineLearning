{
 "cells": [
  {
   "cell_type": "markdown",
   "metadata": {},
   "source": [
    "$\\newcommand{\\xv}{\\mathbf{x}}\n",
    "\\newcommand{\\Xv}{\\mathbf{X}}\n",
    "\\newcommand{\\Xvh}{\\hat{\\mathbf{X}}}\n",
    "\\newcommand{\\yv}{\\mathbf{y}}\n",
    "\\newcommand{\\Yv}{\\mathbf{Y}}\n",
    "\\newcommand{\\av}{\\mathbf{a}}\n",
    "\\newcommand{\\Wv}{\\mathbf{W}}\n",
    "\\newcommand{\\wv}{\\mathbf{w}}\n",
    "\\newcommand{\\gv}{\\mathbf{g}}\n",
    "\\newcommand{\\Hv}{\\mathbf{H}}\n",
    "\\newcommand{\\dv}{\\mathbf{d}}\n",
    "\\newcommand{\\Vv}{\\mathbf{V}}\n",
    "\\newcommand{\\vv}{\\mathbf{v}}\n",
    "\\newcommand{\\Uv}{\\mathbf{U}}\n",
    "\\newcommand{\\tv}{\\mathbf{t}}\n",
    "\\newcommand{\\Tv}{\\mathbf{T}}\n",
    "\\newcommand{\\zv}{\\mathbf{z}}\n",
    "\\newcommand{\\Zv}{\\mathbf{Z}}\n",
    "\\newcommand{\\Zvh}{\\hat{\\mathbf{Z}}}\n",
    "\\newcommand{\\Ev}{\\mathbf{E}}\n",
    "\\newcommand{\\onev}{\\mathbf{1}}\n",
    "\\newcommand{\\muv}{\\boldsymbol{\\mu}}\n",
    "\\newcommand{\\sigmav}{\\boldsymbol{\\sigma}}\n",
    "\\newcommand{\\phiv}{\\boldsymbol{\\phi}}\n",
    "\\newcommand{\\Phiv}{\\boldsymbol{\\Phi}}\n",
    "\\newcommand{\\Sigmav}{\\boldsymbol{\\Sigma}}\n",
    "\\newcommand{\\Lambdav}{\\boldsymbol{\\Lambda}}\n",
    "\\newcommand{\\half}{\\frac{1}{2}}\n",
    "\\newcommand{\\argmax}[1]{\\underset{#1}{\\operatorname{argmax}}}\n",
    "\\newcommand{\\argmin}[1]{\\underset{#1}{\\operatorname{argmin}}}\n",
    "\\newcommand{\\dimensionbar}[1]{\\underset{#1}{\\operatorname{|}}}\n",
    "$\n"
   ]
  },
  {
   "cell_type": "markdown",
   "metadata": {},
   "source": [
    "# A2.4 Three-Layer Neural Network"
   ]
  },
  {
   "cell_type": "markdown",
   "metadata": {},
   "source": [
    "Brent Staab"
   ]
  },
  {
   "cell_type": "markdown",
   "metadata": {},
   "source": [
    "For this assignment, we modify the two-layer neural network matrix equations and code from lecture notes to become a three-layer neural network, one with two hidden layers.  In the following diagram, you will be adding another layer on the left between in the inputs, $x$, and the show hiddden layer.\n",
    "\n",
    "You must complete three steps.\n",
    "1. Complete the matrix equations using latex notation in the markdown cell,\n",
    "2. Implement the required functions in python.\n",
    "3. Perform the described experiments."
   ]
  },
  {
   "cell_type": "markdown",
   "metadata": {},
   "source": [
    "## Network Diagram\n",
    "Three-layer neural network with two hidden layers\n",
    "\n",
    "![Two Layers](http://www.cs.colostate.edu/~anderson/cs545/notebooks/net-A2.png)"
   ]
  },
  {
   "cell_type": "markdown",
   "metadata": {},
   "source": [
    "$$ \n",
    "\\begin{align*}\n",
    "N &= \\text{ number of samples } \\\\\n",
    "I &= \\text{ the number of attributes in each sample }\\\\\n",
    "K &= \\text{ number of units in output layer } \\\\\n",
    "H_1 &= \\text{ number of units in first hidden layer }\\\\\n",
    "H_2 &= \\text{ number of units in second hidden layer }\\\\\n",
    "~\\\\\n",
    "\\Zv_1 &= \\tanh(\\Xvh\\, \\Uv) \\\\\n",
    "\\Zv_2 &= \\tanh(\\Zvh_1\\, \\Vv) \\\\\n",
    "\\Yv &= \\Zvh_2\\, \\Wv\\\\\n",
    "\\Ev &= \\frac{1}{NK} \\sum_{n=1}^N \\sum_{k=1}^K (\\Tv_{n,k} - \\Yv_{n,k})^2 \\\\\n",
    "~\\\\\n",
    "%------------------------------------\n",
    "% Gradient of 'E' with respect to 'Y'\n",
    "\\nabla_\\Yv E_{n,k} &= \\frac{-2}{NK} (\\Tv_{n,k} - \\Yv_{n,k})\\\\\n",
    "~\\\\ \n",
    "%------------------------------------\n",
    "% Gradient of 'E' with respect to 'W'\n",
    "\\nabla_\\Wv E &=  \\Zvh_2^T \\delta_\\Yv \\;\\;\\;\\;\\text{ where } \\delta_\\Yv = \\frac{-2}{NK} (\\Tv - \\Yv)\\\\\n",
    "~\\\\ \n",
    "%------------------------------------\n",
    "% Gradient of 'E' with respect to 'V'\n",
    "\\nabla_\\Vv E &= \\Zvh_1^T \\; \\delta_{\\Zv_2} \\;\\;\\;\\;\\text{ where } \\delta_{\\Zv_2} = (\\delta_\\Yv \\; \\Wv_{1:}^T)\\; \\cdot\\; (1-\\Zv_2^2) \\;\\;\\;\\; \\text{ if } f(\\Zvh_1 \\Vv) = \\tanh(\\Zvh_1 \\Vv)\\\\\n",
    "~\\\\ \n",
    "%------------------------------------\n",
    "% Gradient of 'E' with respect to 'U'\n",
    "\\nabla_\\Uv E &= \\Xvh^T \\; \\delta_{\\Zv_1} \\;\\;\\;\\;\\text{ where } \\delta_{\\Zv_z1} = (\\delta_{\\Zv_2} \\; \\Vv_{1:}^T)\\; \\cdot\\; (1-\\Zv_1^2) \\;\\;\\;\\; \\text{ if } f(\\Xvh \\Uv) = \\tanh(\\Xvh \\Uv)\\\\\n",
    "\\end{align*}\n",
    "$$"
   ]
  },
  {
   "cell_type": "markdown",
   "metadata": {},
   "source": [
    "## Code\n",
    "\n",
    "Modify the functions `network` `error_gradient` and `mse` to do the compuations for a three-layer neural network.  They must have the following arguments:\n",
    "* `Y = network(w, n_inputs, n_hiddens_1, n_hiddens_2, n_outputs, X, all_outputs=False)`\n",
    "or\n",
    "* `Y, Z1, Z2 = network(w, n_inputs, n_hiddens_1, n_hiddens_2, n_outputs, X, all_outputs=True)`\n",
    "* `gradient = error_gradient(w, n_inputs, n_hiddens_1, n_hiddens_2, n_outputs, X, T)`\n",
    "* `mean_squared_error = mse(w, n_inputs, n_hiddens_1, n_hiddens_2, n_outputs, X, T)`"
   ]
  },
  {
   "cell_type": "markdown",
   "metadata": {},
   "source": [
    "### Import code needed in this notebook"
   ]
  },
  {
   "cell_type": "code",
   "execution_count": 1,
   "metadata": {},
   "outputs": [],
   "source": [
    "import numpy as np\n",
    "import matplotlib.pyplot as plt\n",
    "\n",
    "import warnings\n",
    "warnings.filterwarnings(\"ignore\")\n",
    "\n",
    "import pandas\n",
    "import optimizers as opt  # from Lecture Notes"
   ]
  },
  {
   "cell_type": "markdown",
   "metadata": {},
   "source": [
    "### network function"
   ]
  },
  {
   "cell_type": "code",
   "execution_count": 2,
   "metadata": {},
   "outputs": [],
   "source": [
    "# -------------------------------------------------------\n",
    "# Defines the forward calculation of a three layer neural \n",
    "# network with two hidden layers\n",
    "# Inputs:\n",
    "#    w           : Weights for ALL layers   \n",
    "#    n_inputs    : Number of input values\n",
    "#    n_hiddens_1 : Number of elements in hidden layer 1\n",
    "#    n_hiddens_2 : Number of elements in hidden layer 2\n",
    "#    n_outputs   : Number of outputs\n",
    "#    X           : Input data\n",
    "#    all_outputs : Flag that controls output content\n",
    "#                  TRUE  = Y, Z1 & Z2\n",
    "#                  FALSE = Y\n",
    "# Output:\n",
    "#   Data from the network based on 'all_outputs' flag\n",
    "def network(w, n_inputs, n_hiddens_1, n_hiddens_2, n_outputs, X, all_outputs=False):\n",
    "    # Determine amount of data (number of weights) for each layer\n",
    "    n_U = (n_inputs + 1) * n_hiddens_1\n",
    "    n_V = (n_hiddens_1 + 1) * n_hiddens_2\n",
    "    \n",
    "    # 'w' contains data for ALL layers.  Extract the data for each\n",
    "    # layer based on size determined above\n",
    "    U = w[0:n_U].reshape((n_inputs + 1, n_hiddens_1))\n",
    "    V = w[n_U: n_U + n_V].reshape((n_hiddens_1 + 1, n_hiddens_2))\n",
    "    W = w[n_U + n_V:].reshape((n_hiddens_2 + 1, n_outputs))\n",
    "    \n",
    "    # Determine the output of each Layer (forward calculation)\n",
    "    Z_1 = np.tanh(U[0:1, :] + X @ U[1:, :])\n",
    "    Z_2 = np.tanh(V[0:1, :] + Z_1 @ V[1:, :])\n",
    "    Y = W[0:1, :] + Z_2 @ W[1:, :]\n",
    "    \n",
    "    # Return output and conditionally the values from the hidden layers\n",
    "    return (Y, Z_1, Z_2) if all_outputs else Y "
   ]
  },
  {
   "cell_type": "markdown",
   "metadata": {},
   "source": [
    "##### network function verification \n",
    "This is from A2grader.py"
   ]
  },
  {
   "cell_type": "code",
   "execution_count": 3,
   "metadata": {},
   "outputs": [],
   "source": [
    "X = np.arange(3 * 4).reshape((3, 4)) * 0.1\n",
    "T = np.hstack(( np.sin(X[:, 0:1]) + X[:, 1:2],\n",
    "                X[:, 2:3] * -0.5,\n",
    "                X[:, 3:4] ** 2))\n",
    "n_inputs = X.shape[1]\n",
    "n_outputs = T.shape[1]\n",
    "n_hiddens_1 = 6\n",
    "n_hiddens_2 = 2\n",
    "n_w = (n_inputs + 1) * n_hiddens_1 + (n_hiddens_1 + 1) * n_hiddens_2 + (n_hiddens_2 + 1) * n_outputs\n",
    "w = (np.arange(n_w) - n_w/2) * 0.01"
   ]
  },
  {
   "cell_type": "code",
   "execution_count": 4,
   "metadata": {},
   "outputs": [
    {
     "data": {
      "text/plain": [
       "array([[0.12022254, 0.12773632, 0.13525011],\n",
       "       [0.08581156, 0.09176614, 0.09772072],\n",
       "       [0.05582873, 0.06042448, 0.06502022]])"
      ]
     },
     "execution_count": 4,
     "metadata": {},
     "output_type": "execute_result"
    }
   ],
   "source": [
    "Y = network(w, n_inputs, n_hiddens_1, n_hiddens_2, n_outputs, X)\n",
    "Y"
   ]
  },
  {
   "cell_type": "code",
   "execution_count": 5,
   "metadata": {
    "scrolled": true
   },
   "outputs": [
    {
     "name": "stdout",
     "output_type": "stream",
     "text": [
      "--------------------------------------------------------------------------------\n",
      "Y =\n",
      "[[0.12022254 0.12773632 0.13525011]\n",
      " [0.08581156 0.09176614 0.09772072]\n",
      " [0.05582873 0.06042448 0.06502022]]\n",
      "--------------------------------------------------------------------------------\n",
      "Z1 =\n",
      "[[-0.29496888 -0.28029298 -0.26548486 -0.25055041 -0.23549575 -0.22032722]\n",
      " [-0.45262762 -0.4268185  -0.40029486 -0.37308313 -0.34521403 -0.31672254]\n",
      " [-0.58629394 -0.55390692 -0.51975207 -0.4838508  -0.44624361 -0.40699138]]\n",
      "--------------------------------------------------------------------------------\n",
      "Z2 =\n",
      "[[-0.12161728 -0.12700392]\n",
      " [-0.19596638 -0.20857586]\n",
      " [-0.26095696 -0.27946846]]\n"
     ]
    }
   ],
   "source": [
    "Y, Z1, Z2 = network(w, n_inputs, n_hiddens_1, n_hiddens_2, n_outputs, X, all_outputs=True)\n",
    "print('-' * 80)\n",
    "print(\"Y =\")\n",
    "print(Y)\n",
    "print('-' * 80)\n",
    "print(\"Z1 =\")\n",
    "print(Z1)\n",
    "print('-' * 80)\n",
    "print(\"Z2 =\")\n",
    "print(Z2)"
   ]
  },
  {
   "cell_type": "markdown",
   "metadata": {},
   "source": [
    "### error_gradient function"
   ]
  },
  {
   "cell_type": "code",
   "execution_count": 6,
   "metadata": {},
   "outputs": [],
   "source": [
    "# -------------------------------------------------------\n",
    "# Defines the error_gradient calculation of a three layer\n",
    "# neural network with two hidden layers\n",
    "# Inputs:\n",
    "#    w           : Weights for ALL layers   \n",
    "#    n_inputs    : Number of input values\n",
    "#    n_hiddens_1 : Number of elements in hidden layer 1\n",
    "#    n_hiddens_2 : Number of elements in hidden layer 2\n",
    "#    n_outputs   : Number of outputs\n",
    "#    X           : Input data\n",
    "#    T           : Target values (i.e. expected outputs)\n",
    "# Output:\n",
    "#   The adjustment needed for each weight in all layers and units\n",
    "def error_gradient(w, n_inputs, n_hiddens_1, n_hiddens_2, n_outputs, X, T):\n",
    "    Y, Z1, Z2 = network(w, n_inputs, n_hiddens_1, n_hiddens_2, n_outputs, X, all_outputs=True)\n",
    "    n_samples = X.shape[0]\n",
    "    delta_Y = -2 / (n_samples * n_outputs) * (T - Y)\n",
    "    Z2_hat = np.insert(Z2, 0, 1, axis=1)\n",
    "    dEdW = Z2_hat.T @ delta_Y\n",
    "    \n",
    "    # Determine amount of data for each layer\n",
    "    n_U = (n_inputs + 1) * n_hiddens_1\n",
    "    n_V = (n_hiddens_1 + 1) * n_hiddens_2\n",
    "    n_W = (n_hiddens_2 + 1) * n_outputs\n",
    "    \n",
    "    # 'w' contains data for each layer, extract the data\n",
    "    # based on size determined above\n",
    "    # I think this is good\n",
    "    U = w[0:n_U].reshape((n_inputs + 1, n_hiddens_1))\n",
    "    V = w[n_U: n_U + n_V].reshape((n_hiddens_1 + 1, n_hiddens_2))\n",
    "    W = w[n_U + n_V:].reshape((n_hiddens_2 + 1, n_outputs))\n",
    "    \n",
    "    # Gradient of E with respect to V\n",
    "    delta_Z2 = (delta_Y @ W[1:, :].T) * (1 - Z2**2)\n",
    "    Z1_hat = np.insert(Z1, 0, 1, axis=1)\n",
    "    dEdV = Z1_hat.T @ delta_Z2\n",
    "    \n",
    "    # Gradient of E with respect to U\n",
    "    delta_Z1 = (delta_Z2 @ V[1:, :].T) * (1 - Z1**2)\n",
    "    X_hat = np.insert(X, 0, 1, axis=1)\n",
    "    dEdU = X_hat.T @ delta_Z1\n",
    " \n",
    "    dEdw = np.hstack((dEdU.flatten(), dEdV.flatten(), dEdW.flatten()))\n",
    "\n",
    "    return dEdw"
   ]
  },
  {
   "cell_type": "markdown",
   "metadata": {},
   "source": [
    "##### error_gradient function Verification \n",
    "This is from A2grader.py"
   ]
  },
  {
   "cell_type": "code",
   "execution_count": 7,
   "metadata": {},
   "outputs": [
    {
     "data": {
      "text/plain": [
       "array([-0.01004135, -0.0140896 , -0.01848553, -0.0232127 , -0.02824685,\n",
       "       -0.0335556 , -0.00785947, -0.01100037, -0.01440092, -0.01804931,\n",
       "       -0.02192779, -0.02601239, -0.00886361, -0.01240933, -0.01624947,\n",
       "       -0.02037058, -0.02475247, -0.02936795, -0.00986774, -0.01381829,\n",
       "       -0.01809803, -0.02269185, -0.02757716, -0.03272351, -0.01087188,\n",
       "       -0.01522725, -0.01994658, -0.02501312, -0.03040184, -0.03607907,\n",
       "       -0.11689819, -0.13210337,  0.0677528 ,  0.07656248,  0.06395863,\n",
       "        0.0722746 ,  0.05997313,  0.0677706 ,  0.0557992 ,  0.06305375,\n",
       "        0.05144169,  0.05812953,  0.04690754,  0.0530058 , -0.52109147,\n",
       "        0.26220599, -0.33155754,  0.12500265, -0.05571474,  0.08225796,\n",
       "        0.13365384, -0.05939052,  0.08801306])"
      ]
     },
     "execution_count": 7,
     "metadata": {},
     "output_type": "execute_result"
    }
   ],
   "source": [
    "grad = error_gradient(w, n_inputs, n_hiddens_1, n_hiddens_2, n_outputs, X, T)\n",
    "grad"
   ]
  },
  {
   "cell_type": "markdown",
   "metadata": {},
   "source": [
    "### mse (mean-squared-error) function"
   ]
  },
  {
   "cell_type": "code",
   "execution_count": 8,
   "metadata": {},
   "outputs": [],
   "source": [
    "# -------------------------------------------------------\n",
    "# Defines the mean squared erro calculation for a three \n",
    "# layer neural network with two hidden layers\n",
    "# Inputs:\n",
    "#    w           : Weights for ALL layers   \n",
    "#    n_inputs    : Number of input values\n",
    "#    n_hiddens_1 : Number of elements in hidden layer 1\n",
    "#    n_hiddens_2 : Number of elements in hidden layer 2\n",
    "#    n_outputs   : Number of outputs\n",
    "#    X           : Input data\n",
    "#    T           : Target values (i.e. expected outputs)\n",
    "# Output:\n",
    "#   The mean squared error result\n",
    "def mse(w, n_inputs, n_hiddens_1, n_hiddens_2, n_outputs, X, T):\n",
    "    Y =  network(w, n_inputs, n_hiddens_1, n_hiddens_2, n_outputs, X)\n",
    "    return np.mean((T - Y)**2)"
   ]
  },
  {
   "cell_type": "markdown",
   "metadata": {},
   "source": [
    "## Test on Air Quality Data\n",
    "Use your code to, as before, predict CO from the Hour of the day.\n",
    "\n",
    "Set up the data matrices `X` and `T` as follows."
   ]
  },
  {
   "cell_type": "code",
   "execution_count": 9,
   "metadata": {},
   "outputs": [
    {
     "name": "stdout",
     "output_type": "stream",
     "text": [
      "data.shape = (443, 2)\n"
     ]
    },
    {
     "data": {
      "text/plain": [
       "array([[18. ,  2.6],\n",
       "       [19. ,  2. ],\n",
       "       [20. ,  2.2],\n",
       "       [21. ,  2.2],\n",
       "       [22. ,  1.6],\n",
       "       [23. ,  1.2],\n",
       "       [ 0. ,  1.2],\n",
       "       [ 1. ,  1. ],\n",
       "       [ 2. ,  0.9],\n",
       "       [ 3. ,  0.6]])"
      ]
     },
     "execution_count": 9,
     "metadata": {},
     "output_type": "execute_result"
    }
   ],
   "source": [
    "data = pandas.read_csv('AirQualityUCI.csv', delimiter=';', decimal=',', usecols=range(15), na_values=-200)\n",
    "data = data[['Time', 'CO(GT)']]\n",
    "data = data [:23 * 20]  # first 20 days of data\n",
    "data = data.dropna(axis=0)\n",
    "print('data.shape =', data.shape)\n",
    "\n",
    "hour = [int(t[:2]) for t in data['Time']]\n",
    "X = np.array(hour).reshape(-1, 1)\n",
    "CO = data['CO(GT)']\n",
    "T = np.array(CO).reshape(-1, 1)\n",
    "np.hstack((X, T))[:10]  # show the first 10 samples of hour, CO"
   ]
  },
  {
   "cell_type": "markdown",
   "metadata": {},
   "source": [
    "Define the network parameters.  Use the shapes of `X` and `T` to assign the number of inputs and outputs.  Define each of the two hidden layers to have 5 units."
   ]
  },
  {
   "cell_type": "code",
   "execution_count": 10,
   "metadata": {},
   "outputs": [
    {
     "name": "stdout",
     "output_type": "stream",
     "text": [
      "n_inputs(1) n_hiddens_1(5) n_hiddens_2(5) n_outputs(1)\n"
     ]
    }
   ],
   "source": [
    "n_inputs = X.shape[1]\n",
    "n_hiddens_1 = 5\n",
    "n_hiddens_2 = 5\n",
    "n_outputs = T.shape[1]\n",
    "print(\"n_inputs({}) n_hiddens_1({}) n_hiddens_2({}) n_outputs({})\".format(\n",
    "    n_inputs, n_hiddens_1, n_hiddens_2, n_outputs))"
   ]
  },
  {
   "cell_type": "markdown",
   "metadata": {},
   "source": [
    "Now we must define the intial weight vector.  The vector contains a value for each weight in all three layers."
   ]
  },
  {
   "cell_type": "code",
   "execution_count": 11,
   "metadata": {},
   "outputs": [
    {
     "name": "stdout",
     "output_type": "stream",
     "text": [
      "n_U(10) n_V(30) n_W(6)\n"
     ]
    }
   ],
   "source": [
    "n_U = (n_inputs + 1) * n_hiddens_1\n",
    "n_V = (n_hiddens_1 + 1) * n_hiddens_2\n",
    "n_W = (n_hiddens_2 + 1) * n_outputs\n",
    "\n",
    "initial_w = np.random.uniform(-0.1, 0.1, n_U + n_V + n_W)  # range of weights is -0.1 to 0.1\n",
    "print(\"n_U({}) n_V({}) n_W({})\".format(n_U, n_V, n_W))"
   ]
  },
  {
   "cell_type": "markdown",
   "metadata": {},
   "source": [
    "Before training our network, standardize the input values, to change the hour to have zero mean and unit variance across the set of samples.  Change `True` to `False` to not perform this step, allowing you to compare results with and without standardization.  It is not required to show the results here.  When you check in your notebook, leave `standardize` set to `True`."
   ]
  },
  {
   "cell_type": "code",
   "execution_count": 12,
   "metadata": {},
   "outputs": [
    {
     "name": "stdout",
     "output_type": "stream",
     "text": [
      "X mean is 0.000 and its standard deviation is 1.000\n"
     ]
    }
   ],
   "source": [
    "standardize = True\n",
    "\n",
    "if standardize:\n",
    "    X_mean = X.mean(axis=0)\n",
    "    X_std = X.std(axis=0)\n",
    "    X = (X - X_mean) / X_std\n",
    "    \n",
    "print(f'X mean is {X.mean(axis=0)[0]:.3f} and its standard deviation is {X.std(axis=0)[0]:.3f}')"
   ]
  },
  {
   "cell_type": "markdown",
   "metadata": {},
   "source": [
    "Now we can train our network using each of our three optimization algorithms."
   ]
  },
  {
   "cell_type": "code",
   "execution_count": 13,
   "metadata": {},
   "outputs": [
    {
     "name": "stdout",
     "output_type": "stream",
     "text": [
      "SGD final error is 1.167 and it took 0.99 seconds\n",
      "Adam final error is 1.200 and it took 1.07 seconds\n",
      "SCG final error is 0.912 and it took 2.11 seconds\n"
     ]
    }
   ],
   "source": [
    "n_iterations = 2000\n",
    "\n",
    "result_sgd = opt.sgd(initial_w,\n",
    "                     mse, error_gradient, fargs=[n_inputs, n_hiddens_1, n_hiddens_2, n_outputs, X, T],\n",
    "                     n_iterations=n_iterations, learning_rate=1e-1, momentum_rate=0.2, \n",
    "                     save_wtrace=True)\n",
    "print(f'SGD final error is {result_sgd[\"ftrace\"][-1]:.3f} and it took {result_sgd[\"time\"]:.2f} seconds')\n",
    "\n",
    "result_adam = opt.adam(initial_w, \n",
    "                       mse, error_gradient, fargs=[n_inputs, n_hiddens_1, n_hiddens_2, n_outputs, X, T],\n",
    "                       n_iterations=n_iterations, learning_rate=1e-2, \n",
    "                       save_wtrace=True)\n",
    "print(f'Adam final error is {result_adam[\"ftrace\"][-1]:.3f} and it took {result_adam[\"time\"]:.2f} seconds')\n",
    "\n",
    "result_scg = opt.scg(initial_w,\n",
    "                     mse, error_gradient, fargs=[n_inputs, n_hiddens_1, n_hiddens_2, n_outputs, X, T],\n",
    "                     n_iterations=n_iterations,\n",
    "                     save_wtrace=True)\n",
    "print(f'SCG final error is {result_scg[\"ftrace\"][-1]:.3f} and it took {result_scg[\"time\"]:.2f} seconds')"
   ]
  },
  {
   "cell_type": "markdown",
   "metadata": {},
   "source": [
    "Examine the error curve and the model fits for each of the optimization algorithms."
   ]
  },
  {
   "cell_type": "code",
   "execution_count": 14,
   "metadata": {
    "scrolled": false
   },
   "outputs": [
    {
     "data": {
      "image/png": "[encoded data removed]",
      "text/plain": [
       "<Figure size 1440x576 with 2 Axes>"
      ]
     },
     "metadata": {
      "needs_background": "light"
     },
     "output_type": "display_data"
    }
   ],
   "source": [
    "plt.figure(figsize=(20, 8))\n",
    "plt.subplot(1, 2, 1)\n",
    "plt.plot(result_sgd['ftrace'], label='SGD')\n",
    "plt.plot(result_adam['ftrace'], label='Adam')\n",
    "plt.plot(result_scg['ftrace'], label='SCG')\n",
    "plt.legend()\n",
    "plt.xlabel('Iteration')\n",
    "plt.ylabel('MSE')\n",
    "plt.ylim(0, 4)\n",
    "\n",
    "plt.subplot(1, 2, 2)\n",
    "if standardize:\n",
    "    plt.plot(X * X_std + X_mean, T, 'k.')  # unstandardize X\n",
    "else:\n",
    "    plt.plot(X, T, 'k.')\n",
    "xs = np.linspace(0, 23, 100).reshape((-1, 1))\n",
    "xs_standardized = (xs - X_mean) / X_std if standardize else xs\n",
    "plt.plot(xs, network(result_sgd['w'], n_inputs, n_hiddens_1, n_hiddens_2, n_outputs, xs_standardized), label='SGD')\n",
    "plt.plot(xs, network(result_adam['w'], n_inputs, n_hiddens_1, n_hiddens_2, n_outputs, xs_standardized), label='Adam')\n",
    "plt.plot(xs, network(result_scg['w'], n_inputs, n_hiddens_1, n_hiddens_2, n_outputs, xs_standardized), label='SCG')\n",
    "plt.legend()\n",
    "plt.xlabel('Hour')\n",
    "plt.ylabel('CO');"
   ]
  },
  {
   "cell_type": "markdown",
   "metadata": {},
   "source": [
    "The plot on the left shows the mean squared error (MSE) for a network trained with the three algorithms vs the number of training iterations.  The 'SCG' algorithm achieves the best result (lowest MSE) the quickest and shows no change after about 200 iterations.  The 'sgd' and 'adam' functions show very similar behavior and flatten off around 1500 iterations.  The plot on the right shows how the training data (black dots) and predicted output from the network for the three algorithms.  Also, you should be able to tell that the  final mse values reported from the training data (code cell 13) are consisten with the plotted data.  The 'adam' function looks the least like the training data and the 'scg' function produced the best result"
   ]
  },
  {
   "cell_type": "markdown",
   "metadata": {},
   "source": [
    "Here is some code that tries a number of values for the key parameters of `n_iterations`, `n_hiddens_1`, `n_hiddens_2` and `learning_rate`.\n",
    "\n",
    "**Required:** Modify the lists of values in the four for loops to try other parameter values.  Try to find ranges that work well for all three algorithms."
   ]
  },
  {
   "cell_type": "code",
   "execution_count": 15,
   "metadata": {
    "scrolled": false
   },
   "outputs": [
    {
     "data": {
      "text/html": [
       "<div>\n",
       "<style scoped>\n",
       "    .dataframe tbody tr th:only-of-type {\n",
       "        vertical-align: middle;\n",
       "    }\n",
       "\n",
       "    .dataframe tbody tr th {\n",
       "        vertical-align: top;\n",
       "    }\n",
       "\n",
       "    .dataframe thead th {\n",
       "        text-align: right;\n",
       "    }\n",
       "</style>\n",
       "<table border=\"1\" class=\"dataframe\">\n",
       "  <thead>\n",
       "    <tr style=\"text-align: right;\">\n",
       "      <th></th>\n",
       "      <th>Iterations</th>\n",
       "      <th>nh1</th>\n",
       "      <th>nh2</th>\n",
       "      <th>lr</th>\n",
       "      <th>algo</th>\n",
       "      <th>mse</th>\n",
       "    </tr>\n",
       "  </thead>\n",
       "  <tbody>\n",
       "    <tr>\n",
       "      <td>0</td>\n",
       "      <td>1</td>\n",
       "      <td>1</td>\n",
       "      <td>1</td>\n",
       "      <td>0</td>\n",
       "      <td>scg</td>\n",
       "      <td>1.884524</td>\n",
       "    </tr>\n",
       "    <tr>\n",
       "      <td>1</td>\n",
       "      <td>1</td>\n",
       "      <td>1</td>\n",
       "      <td>1</td>\n",
       "      <td>scg</td>\n",
       "      <td>1.88452</td>\n",
       "      <td>NaN</td>\n",
       "    </tr>\n",
       "    <tr>\n",
       "      <td>2</td>\n",
       "      <td>1</td>\n",
       "      <td>1</td>\n",
       "      <td>1</td>\n",
       "      <td>0.001</td>\n",
       "      <td>sgd</td>\n",
       "      <td>6.902777</td>\n",
       "    </tr>\n",
       "    <tr>\n",
       "      <td>3</td>\n",
       "      <td>1</td>\n",
       "      <td>1</td>\n",
       "      <td>1</td>\n",
       "      <td>0.001</td>\n",
       "      <td>adam</td>\n",
       "      <td>6.902777</td>\n",
       "    </tr>\n",
       "    <tr>\n",
       "      <td>4</td>\n",
       "      <td>1</td>\n",
       "      <td>1</td>\n",
       "      <td>1</td>\n",
       "      <td>scg</td>\n",
       "      <td>1.88452</td>\n",
       "      <td>NaN</td>\n",
       "    </tr>\n",
       "    <tr>\n",
       "      <td>...</td>\n",
       "      <td>...</td>\n",
       "      <td>...</td>\n",
       "      <td>...</td>\n",
       "      <td>...</td>\n",
       "      <td>...</td>\n",
       "      <td>...</td>\n",
       "    </tr>\n",
       "    <tr>\n",
       "      <td>1275</td>\n",
       "      <td>1000</td>\n",
       "      <td>20</td>\n",
       "      <td>20</td>\n",
       "      <td>0.2</td>\n",
       "      <td>sgd</td>\n",
       "      <td>1.207252</td>\n",
       "    </tr>\n",
       "    <tr>\n",
       "      <td>1276</td>\n",
       "      <td>1000</td>\n",
       "      <td>20</td>\n",
       "      <td>20</td>\n",
       "      <td>0.2</td>\n",
       "      <td>adam</td>\n",
       "      <td>1.222114</td>\n",
       "    </tr>\n",
       "    <tr>\n",
       "      <td>1277</td>\n",
       "      <td>1000</td>\n",
       "      <td>20</td>\n",
       "      <td>20</td>\n",
       "      <td>scg</td>\n",
       "      <td>0.91002</td>\n",
       "      <td>NaN</td>\n",
       "    </tr>\n",
       "    <tr>\n",
       "      <td>1278</td>\n",
       "      <td>1000</td>\n",
       "      <td>20</td>\n",
       "      <td>20</td>\n",
       "      <td>0.5</td>\n",
       "      <td>sgd</td>\n",
       "      <td>1.547093</td>\n",
       "    </tr>\n",
       "    <tr>\n",
       "      <td>1279</td>\n",
       "      <td>1000</td>\n",
       "      <td>20</td>\n",
       "      <td>20</td>\n",
       "      <td>0.5</td>\n",
       "      <td>adam</td>\n",
       "      <td>1.597596</td>\n",
       "    </tr>\n",
       "  </tbody>\n",
       "</table>\n",
       "<p>1280 rows × 6 columns</p>\n",
       "</div>"
      ],
      "text/plain": [
       "      Iterations  nh1  nh2     lr     algo       mse\n",
       "0              1    1    1      0      scg  1.884524\n",
       "1              1    1    1    scg  1.88452       NaN\n",
       "2              1    1    1  0.001      sgd  6.902777\n",
       "3              1    1    1  0.001     adam  6.902777\n",
       "4              1    1    1    scg  1.88452       NaN\n",
       "...          ...  ...  ...    ...      ...       ...\n",
       "1275        1000   20   20    0.2      sgd  1.207252\n",
       "1276        1000   20   20    0.2     adam  1.222114\n",
       "1277        1000   20   20    scg  0.91002       NaN\n",
       "1278        1000   20   20    0.5      sgd  1.547093\n",
       "1279        1000   20   20    0.5     adam  1.597596\n",
       "\n",
       "[1280 rows x 6 columns]"
      ]
     },
     "execution_count": 15,
     "metadata": {},
     "output_type": "execute_result"
    }
   ],
   "source": [
    "results = []\n",
    "for n_iterations in [1, 10, 100, 500, 1000]:\n",
    "    for nh1 in [1, 2, 5, 20]:\n",
    "        for nh2 in [1, 2, 5, 20]:\n",
    "            \n",
    "            n_U = (n_inputs + 1) * nh1\n",
    "            n_V = (nh1 + 1) * nh2\n",
    "            n_W = (nh2 + 1) * n_outputs\n",
    "            initial_w = np.random.uniform(-0.1, 0.1, n_U + n_V + n_W)\n",
    "\n",
    "            result_scg = opt.scg(initial_w, mse, error_gradient, fargs=[n_inputs, nh1, nh2, n_outputs, X, T],\n",
    "                                 n_iterations=n_iterations)\n",
    "            results.append([n_iterations, nh1, nh2, 0, 'scg', result_scg['ftrace'][-1]])\n",
    "            \n",
    "            for lr in [1e-3, 1e-5, 0.1, 0.2, 0.5]:\n",
    "                result_sgd = opt.sgd(initial_w, mse, error_gradient, fargs=[n_inputs, nh1, nh2, n_outputs, X, T],\n",
    "                                     n_iterations=n_iterations, learning_rate=lr, momentum_rate=0)\n",
    "                result_adam = opt.adam(initial_w, mse, error_gradient, fargs=[n_inputs, nh1, nh2, n_outputs, X, T],\n",
    "                                       n_iterations=n_iterations, learning_rate=lr)\n",
    "\n",
    "                results.append([n_iterations, nh1, nh2, 'scg', result_scg['ftrace'][-1]])\n",
    "                results.append([n_iterations, nh1, nh2, lr, 'sgd', result_sgd['ftrace'][-1]])\n",
    "                results.append([n_iterations, nh1, nh2, lr, 'adam', result_adam['ftrace'][-1]])\n",
    "\n",
    "results = pandas.DataFrame(results, columns=('Iterations', 'nh1', 'nh2', 'lr', 'algo', 'mse'))\n",
    "results"
   ]
  },
  {
   "cell_type": "markdown",
   "metadata": {},
   "source": [
    "### Analyzing the results"
   ]
  },
  {
   "cell_type": "markdown",
   "metadata": {},
   "source": [
    "##### 'scg' \n",
    "Filter the 'scg' results and only display the top ten results (lowest 'mse')"
   ]
  },
  {
   "cell_type": "code",
   "execution_count": 16,
   "metadata": {},
   "outputs": [
    {
     "data": {
      "text/html": [
       "<div>\n",
       "<style scoped>\n",
       "    .dataframe tbody tr th:only-of-type {\n",
       "        vertical-align: middle;\n",
       "    }\n",
       "\n",
       "    .dataframe tbody tr th {\n",
       "        vertical-align: top;\n",
       "    }\n",
       "\n",
       "    .dataframe thead th {\n",
       "        text-align: right;\n",
       "    }\n",
       "</style>\n",
       "<table border=\"1\" class=\"dataframe\">\n",
       "  <thead>\n",
       "    <tr style=\"text-align: right;\">\n",
       "      <th></th>\n",
       "      <th>Iterations</th>\n",
       "      <th>nh1</th>\n",
       "      <th>nh2</th>\n",
       "      <th>lr</th>\n",
       "      <th>algo</th>\n",
       "      <th>mse</th>\n",
       "    </tr>\n",
       "  </thead>\n",
       "  <tbody>\n",
       "    <tr>\n",
       "      <td>1264</td>\n",
       "      <td>1000</td>\n",
       "      <td>20</td>\n",
       "      <td>20</td>\n",
       "      <td>0</td>\n",
       "      <td>scg</td>\n",
       "      <td>0.910020</td>\n",
       "    </tr>\n",
       "    <tr>\n",
       "      <td>1248</td>\n",
       "      <td>1000</td>\n",
       "      <td>20</td>\n",
       "      <td>5</td>\n",
       "      <td>0</td>\n",
       "      <td>scg</td>\n",
       "      <td>0.912209</td>\n",
       "    </tr>\n",
       "    <tr>\n",
       "      <td>1184</td>\n",
       "      <td>1000</td>\n",
       "      <td>5</td>\n",
       "      <td>5</td>\n",
       "      <td>0</td>\n",
       "      <td>scg</td>\n",
       "      <td>0.912220</td>\n",
       "    </tr>\n",
       "    <tr>\n",
       "      <td>1008</td>\n",
       "      <td>500</td>\n",
       "      <td>20</td>\n",
       "      <td>20</td>\n",
       "      <td>0</td>\n",
       "      <td>scg</td>\n",
       "      <td>0.912268</td>\n",
       "    </tr>\n",
       "    <tr>\n",
       "      <td>1200</td>\n",
       "      <td>1000</td>\n",
       "      <td>5</td>\n",
       "      <td>20</td>\n",
       "      <td>0</td>\n",
       "      <td>scg</td>\n",
       "      <td>0.912318</td>\n",
       "    </tr>\n",
       "    <tr>\n",
       "      <td>1168</td>\n",
       "      <td>1000</td>\n",
       "      <td>5</td>\n",
       "      <td>2</td>\n",
       "      <td>0</td>\n",
       "      <td>scg</td>\n",
       "      <td>0.912482</td>\n",
       "    </tr>\n",
       "    <tr>\n",
       "      <td>992</td>\n",
       "      <td>500</td>\n",
       "      <td>20</td>\n",
       "      <td>5</td>\n",
       "      <td>0</td>\n",
       "      <td>scg</td>\n",
       "      <td>0.912529</td>\n",
       "    </tr>\n",
       "    <tr>\n",
       "      <td>928</td>\n",
       "      <td>500</td>\n",
       "      <td>5</td>\n",
       "      <td>5</td>\n",
       "      <td>0</td>\n",
       "      <td>scg</td>\n",
       "      <td>0.912620</td>\n",
       "    </tr>\n",
       "    <tr>\n",
       "      <td>944</td>\n",
       "      <td>500</td>\n",
       "      <td>5</td>\n",
       "      <td>20</td>\n",
       "      <td>0</td>\n",
       "      <td>scg</td>\n",
       "      <td>0.913510</td>\n",
       "    </tr>\n",
       "    <tr>\n",
       "      <td>1056</td>\n",
       "      <td>1000</td>\n",
       "      <td>1</td>\n",
       "      <td>5</td>\n",
       "      <td>0</td>\n",
       "      <td>scg</td>\n",
       "      <td>0.915009</td>\n",
       "    </tr>\n",
       "  </tbody>\n",
       "</table>\n",
       "</div>"
      ],
      "text/plain": [
       "      Iterations  nh1  nh2 lr algo       mse\n",
       "1264        1000   20   20  0  scg  0.910020\n",
       "1248        1000   20    5  0  scg  0.912209\n",
       "1184        1000    5    5  0  scg  0.912220\n",
       "1008         500   20   20  0  scg  0.912268\n",
       "1200        1000    5   20  0  scg  0.912318\n",
       "1168        1000    5    2  0  scg  0.912482\n",
       "992          500   20    5  0  scg  0.912529\n",
       "928          500    5    5  0  scg  0.912620\n",
       "944          500    5   20  0  scg  0.913510\n",
       "1056        1000    1    5  0  scg  0.915009"
      ]
     },
     "execution_count": 16,
     "metadata": {},
     "output_type": "execute_result"
    }
   ],
   "source": [
    "results[results.algo == 'scg'].sort_values(by=['mse'], ascending=True).head(10)"
   ]
  },
  {
   "cell_type": "markdown",
   "metadata": {},
   "source": [
    "The best result found was with the largest number of iterations (1000), twenty units in hidden layer one and two and the smallest leearning rate. Also, it looks like you get very similar results with half the iterations, or the maximum number of iterations and more units in either hidden layer."
   ]
  },
  {
   "cell_type": "markdown",
   "metadata": {},
   "source": [
    "##### 'sgd' \n",
    "Filter the 'sgd' results and only display the top ten results (lowest 'mse')"
   ]
  },
  {
   "cell_type": "code",
   "execution_count": 17,
   "metadata": {
    "scrolled": true
   },
   "outputs": [
    {
     "data": {
      "text/html": [
       "<div>\n",
       "<style scoped>\n",
       "    .dataframe tbody tr th:only-of-type {\n",
       "        vertical-align: middle;\n",
       "    }\n",
       "\n",
       "    .dataframe tbody tr th {\n",
       "        vertical-align: top;\n",
       "    }\n",
       "\n",
       "    .dataframe thead th {\n",
       "        text-align: right;\n",
       "    }\n",
       "</style>\n",
       "<table border=\"1\" class=\"dataframe\">\n",
       "  <thead>\n",
       "    <tr style=\"text-align: right;\">\n",
       "      <th></th>\n",
       "      <th>Iterations</th>\n",
       "      <th>nh1</th>\n",
       "      <th>nh2</th>\n",
       "      <th>lr</th>\n",
       "      <th>algo</th>\n",
       "      <th>mse</th>\n",
       "    </tr>\n",
       "  </thead>\n",
       "  <tbody>\n",
       "    <tr>\n",
       "      <td>1259</td>\n",
       "      <td>1000</td>\n",
       "      <td>20</td>\n",
       "      <td>5</td>\n",
       "      <td>0.2</td>\n",
       "      <td>sgd</td>\n",
       "      <td>1.146370</td>\n",
       "    </tr>\n",
       "    <tr>\n",
       "      <td>1195</td>\n",
       "      <td>1000</td>\n",
       "      <td>5</td>\n",
       "      <td>5</td>\n",
       "      <td>0.2</td>\n",
       "      <td>sgd</td>\n",
       "      <td>1.171821</td>\n",
       "    </tr>\n",
       "    <tr>\n",
       "      <td>1211</td>\n",
       "      <td>1000</td>\n",
       "      <td>5</td>\n",
       "      <td>20</td>\n",
       "      <td>0.2</td>\n",
       "      <td>sgd</td>\n",
       "      <td>1.190995</td>\n",
       "    </tr>\n",
       "    <tr>\n",
       "      <td>1118</td>\n",
       "      <td>1000</td>\n",
       "      <td>2</td>\n",
       "      <td>2</td>\n",
       "      <td>0.5</td>\n",
       "      <td>sgd</td>\n",
       "      <td>1.205199</td>\n",
       "    </tr>\n",
       "    <tr>\n",
       "      <td>1275</td>\n",
       "      <td>1000</td>\n",
       "      <td>20</td>\n",
       "      <td>20</td>\n",
       "      <td>0.2</td>\n",
       "      <td>sgd</td>\n",
       "      <td>1.207252</td>\n",
       "    </tr>\n",
       "    <tr>\n",
       "      <td>1150</td>\n",
       "      <td>1000</td>\n",
       "      <td>2</td>\n",
       "      <td>20</td>\n",
       "      <td>0.5</td>\n",
       "      <td>sgd</td>\n",
       "      <td>1.220543</td>\n",
       "    </tr>\n",
       "    <tr>\n",
       "      <td>1131</td>\n",
       "      <td>1000</td>\n",
       "      <td>2</td>\n",
       "      <td>5</td>\n",
       "      <td>0.2</td>\n",
       "      <td>sgd</td>\n",
       "      <td>1.235319</td>\n",
       "    </tr>\n",
       "    <tr>\n",
       "      <td>1272</td>\n",
       "      <td>1000</td>\n",
       "      <td>20</td>\n",
       "      <td>20</td>\n",
       "      <td>0.1</td>\n",
       "      <td>sgd</td>\n",
       "      <td>1.238063</td>\n",
       "    </tr>\n",
       "    <tr>\n",
       "      <td>955</td>\n",
       "      <td>500</td>\n",
       "      <td>5</td>\n",
       "      <td>20</td>\n",
       "      <td>0.2</td>\n",
       "      <td>sgd</td>\n",
       "      <td>1.241002</td>\n",
       "    </tr>\n",
       "    <tr>\n",
       "      <td>1019</td>\n",
       "      <td>500</td>\n",
       "      <td>20</td>\n",
       "      <td>20</td>\n",
       "      <td>0.2</td>\n",
       "      <td>sgd</td>\n",
       "      <td>1.241758</td>\n",
       "    </tr>\n",
       "  </tbody>\n",
       "</table>\n",
       "</div>"
      ],
      "text/plain": [
       "      Iterations  nh1  nh2   lr algo       mse\n",
       "1259        1000   20    5  0.2  sgd  1.146370\n",
       "1195        1000    5    5  0.2  sgd  1.171821\n",
       "1211        1000    5   20  0.2  sgd  1.190995\n",
       "1118        1000    2    2  0.5  sgd  1.205199\n",
       "1275        1000   20   20  0.2  sgd  1.207252\n",
       "1150        1000    2   20  0.5  sgd  1.220543\n",
       "1131        1000    2    5  0.2  sgd  1.235319\n",
       "1272        1000   20   20  0.1  sgd  1.238063\n",
       "955          500    5   20  0.2  sgd  1.241002\n",
       "1019         500   20   20  0.2  sgd  1.241758"
      ]
     },
     "execution_count": 17,
     "metadata": {},
     "output_type": "execute_result"
    }
   ],
   "source": [
    "results[results.algo == 'sgd'].sort_values(by=['mse'], ascending=True).head(10)"
   ]
  },
  {
   "cell_type": "markdown",
   "metadata": {},
   "source": [
    "The best result was found with the largest number of iterations (1000), twenty units in hidden layer one, five units in hidden layer two and a learning rate of 0.2.  Overall, the number of iterations seems to have the biggest impact, followed by the learning rate and number of units in a hidden layer."
   ]
  },
  {
   "cell_type": "markdown",
   "metadata": {},
   "source": [
    "##### 'adam' \n",
    "Filter the 'adam' results and only display the top ten results (lowest 'mse')"
   ]
  },
  {
   "cell_type": "code",
   "execution_count": 18,
   "metadata": {},
   "outputs": [
    {
     "data": {
      "text/html": [
       "<div>\n",
       "<style scoped>\n",
       "    .dataframe tbody tr th:only-of-type {\n",
       "        vertical-align: middle;\n",
       "    }\n",
       "\n",
       "    .dataframe tbody tr th {\n",
       "        vertical-align: top;\n",
       "    }\n",
       "\n",
       "    .dataframe thead th {\n",
       "        text-align: right;\n",
       "    }\n",
       "</style>\n",
       "<table border=\"1\" class=\"dataframe\">\n",
       "  <thead>\n",
       "    <tr style=\"text-align: right;\">\n",
       "      <th></th>\n",
       "      <th>Iterations</th>\n",
       "      <th>nh1</th>\n",
       "      <th>nh2</th>\n",
       "      <th>lr</th>\n",
       "      <th>algo</th>\n",
       "      <th>mse</th>\n",
       "    </tr>\n",
       "  </thead>\n",
       "  <tbody>\n",
       "    <tr>\n",
       "      <td>1212</td>\n",
       "      <td>1000</td>\n",
       "      <td>5</td>\n",
       "      <td>20</td>\n",
       "      <td>0.2</td>\n",
       "      <td>adam</td>\n",
       "      <td>0.910810</td>\n",
       "    </tr>\n",
       "    <tr>\n",
       "      <td>1273</td>\n",
       "      <td>1000</td>\n",
       "      <td>20</td>\n",
       "      <td>20</td>\n",
       "      <td>0.1</td>\n",
       "      <td>adam</td>\n",
       "      <td>0.911444</td>\n",
       "    </tr>\n",
       "    <tr>\n",
       "      <td>1151</td>\n",
       "      <td>1000</td>\n",
       "      <td>2</td>\n",
       "      <td>20</td>\n",
       "      <td>0.5</td>\n",
       "      <td>adam</td>\n",
       "      <td>0.911827</td>\n",
       "    </tr>\n",
       "    <tr>\n",
       "      <td>956</td>\n",
       "      <td>500</td>\n",
       "      <td>5</td>\n",
       "      <td>20</td>\n",
       "      <td>0.2</td>\n",
       "      <td>adam</td>\n",
       "      <td>0.911935</td>\n",
       "    </tr>\n",
       "    <tr>\n",
       "      <td>1196</td>\n",
       "      <td>1000</td>\n",
       "      <td>5</td>\n",
       "      <td>5</td>\n",
       "      <td>0.2</td>\n",
       "      <td>adam</td>\n",
       "      <td>0.912315</td>\n",
       "    </tr>\n",
       "    <tr>\n",
       "      <td>1017</td>\n",
       "      <td>500</td>\n",
       "      <td>20</td>\n",
       "      <td>20</td>\n",
       "      <td>0.1</td>\n",
       "      <td>adam</td>\n",
       "      <td>0.912371</td>\n",
       "    </tr>\n",
       "    <tr>\n",
       "      <td>1148</td>\n",
       "      <td>1000</td>\n",
       "      <td>2</td>\n",
       "      <td>20</td>\n",
       "      <td>0.2</td>\n",
       "      <td>adam</td>\n",
       "      <td>0.912516</td>\n",
       "    </tr>\n",
       "    <tr>\n",
       "      <td>1145</td>\n",
       "      <td>1000</td>\n",
       "      <td>2</td>\n",
       "      <td>20</td>\n",
       "      <td>0.1</td>\n",
       "      <td>adam</td>\n",
       "      <td>0.912519</td>\n",
       "    </tr>\n",
       "    <tr>\n",
       "      <td>1193</td>\n",
       "      <td>1000</td>\n",
       "      <td>5</td>\n",
       "      <td>5</td>\n",
       "      <td>0.1</td>\n",
       "      <td>adam</td>\n",
       "      <td>0.912652</td>\n",
       "    </tr>\n",
       "    <tr>\n",
       "      <td>1177</td>\n",
       "      <td>1000</td>\n",
       "      <td>5</td>\n",
       "      <td>2</td>\n",
       "      <td>0.1</td>\n",
       "      <td>adam</td>\n",
       "      <td>0.912891</td>\n",
       "    </tr>\n",
       "  </tbody>\n",
       "</table>\n",
       "</div>"
      ],
      "text/plain": [
       "      Iterations  nh1  nh2   lr  algo       mse\n",
       "1212        1000    5   20  0.2  adam  0.910810\n",
       "1273        1000   20   20  0.1  adam  0.911444\n",
       "1151        1000    2   20  0.5  adam  0.911827\n",
       "956          500    5   20  0.2  adam  0.911935\n",
       "1196        1000    5    5  0.2  adam  0.912315\n",
       "1017         500   20   20  0.1  adam  0.912371\n",
       "1148        1000    2   20  0.2  adam  0.912516\n",
       "1145        1000    2   20  0.1  adam  0.912519\n",
       "1193        1000    5    5  0.1  adam  0.912652\n",
       "1177        1000    5    2  0.1  adam  0.912891"
      ]
     },
     "execution_count": 18,
     "metadata": {},
     "output_type": "execute_result"
    }
   ],
   "source": [
    "results[results.algo == 'adam'].sort_values(by=['mse'], ascending=True).head(10)"
   ]
  },
  {
   "cell_type": "markdown",
   "metadata": {},
   "source": [
    "The best result was found with 1000 iterations, the five units in hidden layer one, twenty units in hidden layer two and a learning rate of 0.2.  You can see from the best result and the fourth best result that doubling the number of iterations, with everything else being the same, results in less than 0.1% improvement."
   ]
  },
  {
   "cell_type": "markdown",
   "metadata": {},
   "source": [
    "### Overall result summary"
   ]
  },
  {
   "cell_type": "markdown",
   "metadata": {},
   "source": [
    "These are the best results for each algorithm, taken from the filtered data above.  \n",
    "- 1264 \t  1000 \t20 \t20 \t0 \t    scg \t0.910020\n",
    "- 1259 \t  1000 \t20 \t5 \t0.2 \tsgd \t1.146370\n",
    "- 1212 \t  1000 \t5 \t20 \t0.2 \tadam \t0.910810\n",
    "  \n",
    "It can be seen that the best performance was achieved with some combination of five or twenty units hidden layer one and two.  The 'scg' and 'adam' algorithms were statistically identical with a learning rate of 1e-5 and 0.2 respectively.  \n",
    "  \n",
    "While experimenting with the four for loop values, I encountered the following warnings.  \n",
    "- RuntimeWarning: overflow encountered in reduce  \n",
    "- RuntimeWarning: overflow encountered in square  \n",
    "- RuntimeWarning: overflow encountered in matmul  \n",
    "- RuntimeWarning: invalid value encountered in multiply  \n",
    "\n",
    "Via print statements, I found that this was only an issue at the higher learning rates and it didn't affect all results.  Since they were only warnings, I kept the range used for experimentation in the final notebook.  That being said, if I had to select new ranges for each for loop, I'd use  \n",
    "- for n_iterations in [1000]:  \n",
    "- for nh1 in [5, 20]:  \n",
    "- for nh2 in [20, 5]:  \n",
    "- for lr in [1e-5, 0.2]:"
   ]
  },
  {
   "cell_type": "markdown",
   "metadata": {},
   "source": [
    "**Required:** Show the results for the 20 lowest MSE values, sorted by increasing MSE. Read about the `sort_values` and `head` methods on a `DataFrame`.  You can do this with a single line of python code."
   ]
  },
  {
   "cell_type": "code",
   "execution_count": 19,
   "metadata": {},
   "outputs": [
    {
     "data": {
      "text/html": [
       "<div>\n",
       "<style scoped>\n",
       "    .dataframe tbody tr th:only-of-type {\n",
       "        vertical-align: middle;\n",
       "    }\n",
       "\n",
       "    .dataframe tbody tr th {\n",
       "        vertical-align: top;\n",
       "    }\n",
       "\n",
       "    .dataframe thead th {\n",
       "        text-align: right;\n",
       "    }\n",
       "</style>\n",
       "<table border=\"1\" class=\"dataframe\">\n",
       "  <thead>\n",
       "    <tr style=\"text-align: right;\">\n",
       "      <th></th>\n",
       "      <th>Iterations</th>\n",
       "      <th>nh1</th>\n",
       "      <th>nh2</th>\n",
       "      <th>lr</th>\n",
       "      <th>algo</th>\n",
       "      <th>mse</th>\n",
       "    </tr>\n",
       "  </thead>\n",
       "  <tbody>\n",
       "    <tr>\n",
       "      <td>1264</td>\n",
       "      <td>1000</td>\n",
       "      <td>20</td>\n",
       "      <td>20</td>\n",
       "      <td>0</td>\n",
       "      <td>scg</td>\n",
       "      <td>0.910020</td>\n",
       "    </tr>\n",
       "    <tr>\n",
       "      <td>1212</td>\n",
       "      <td>1000</td>\n",
       "      <td>5</td>\n",
       "      <td>20</td>\n",
       "      <td>0.2</td>\n",
       "      <td>adam</td>\n",
       "      <td>0.910810</td>\n",
       "    </tr>\n",
       "    <tr>\n",
       "      <td>1273</td>\n",
       "      <td>1000</td>\n",
       "      <td>20</td>\n",
       "      <td>20</td>\n",
       "      <td>0.1</td>\n",
       "      <td>adam</td>\n",
       "      <td>0.911444</td>\n",
       "    </tr>\n",
       "    <tr>\n",
       "      <td>1151</td>\n",
       "      <td>1000</td>\n",
       "      <td>2</td>\n",
       "      <td>20</td>\n",
       "      <td>0.5</td>\n",
       "      <td>adam</td>\n",
       "      <td>0.911827</td>\n",
       "    </tr>\n",
       "    <tr>\n",
       "      <td>956</td>\n",
       "      <td>500</td>\n",
       "      <td>5</td>\n",
       "      <td>20</td>\n",
       "      <td>0.2</td>\n",
       "      <td>adam</td>\n",
       "      <td>0.911935</td>\n",
       "    </tr>\n",
       "    <tr>\n",
       "      <td>1248</td>\n",
       "      <td>1000</td>\n",
       "      <td>20</td>\n",
       "      <td>5</td>\n",
       "      <td>0</td>\n",
       "      <td>scg</td>\n",
       "      <td>0.912209</td>\n",
       "    </tr>\n",
       "    <tr>\n",
       "      <td>1184</td>\n",
       "      <td>1000</td>\n",
       "      <td>5</td>\n",
       "      <td>5</td>\n",
       "      <td>0</td>\n",
       "      <td>scg</td>\n",
       "      <td>0.912220</td>\n",
       "    </tr>\n",
       "    <tr>\n",
       "      <td>1008</td>\n",
       "      <td>500</td>\n",
       "      <td>20</td>\n",
       "      <td>20</td>\n",
       "      <td>0</td>\n",
       "      <td>scg</td>\n",
       "      <td>0.912268</td>\n",
       "    </tr>\n",
       "    <tr>\n",
       "      <td>1196</td>\n",
       "      <td>1000</td>\n",
       "      <td>5</td>\n",
       "      <td>5</td>\n",
       "      <td>0.2</td>\n",
       "      <td>adam</td>\n",
       "      <td>0.912315</td>\n",
       "    </tr>\n",
       "    <tr>\n",
       "      <td>1200</td>\n",
       "      <td>1000</td>\n",
       "      <td>5</td>\n",
       "      <td>20</td>\n",
       "      <td>0</td>\n",
       "      <td>scg</td>\n",
       "      <td>0.912318</td>\n",
       "    </tr>\n",
       "    <tr>\n",
       "      <td>1017</td>\n",
       "      <td>500</td>\n",
       "      <td>20</td>\n",
       "      <td>20</td>\n",
       "      <td>0.1</td>\n",
       "      <td>adam</td>\n",
       "      <td>0.912371</td>\n",
       "    </tr>\n",
       "    <tr>\n",
       "      <td>1168</td>\n",
       "      <td>1000</td>\n",
       "      <td>5</td>\n",
       "      <td>2</td>\n",
       "      <td>0</td>\n",
       "      <td>scg</td>\n",
       "      <td>0.912482</td>\n",
       "    </tr>\n",
       "    <tr>\n",
       "      <td>1148</td>\n",
       "      <td>1000</td>\n",
       "      <td>2</td>\n",
       "      <td>20</td>\n",
       "      <td>0.2</td>\n",
       "      <td>adam</td>\n",
       "      <td>0.912516</td>\n",
       "    </tr>\n",
       "    <tr>\n",
       "      <td>1145</td>\n",
       "      <td>1000</td>\n",
       "      <td>2</td>\n",
       "      <td>20</td>\n",
       "      <td>0.1</td>\n",
       "      <td>adam</td>\n",
       "      <td>0.912519</td>\n",
       "    </tr>\n",
       "    <tr>\n",
       "      <td>992</td>\n",
       "      <td>500</td>\n",
       "      <td>20</td>\n",
       "      <td>5</td>\n",
       "      <td>0</td>\n",
       "      <td>scg</td>\n",
       "      <td>0.912529</td>\n",
       "    </tr>\n",
       "    <tr>\n",
       "      <td>928</td>\n",
       "      <td>500</td>\n",
       "      <td>5</td>\n",
       "      <td>5</td>\n",
       "      <td>0</td>\n",
       "      <td>scg</td>\n",
       "      <td>0.912620</td>\n",
       "    </tr>\n",
       "    <tr>\n",
       "      <td>1193</td>\n",
       "      <td>1000</td>\n",
       "      <td>5</td>\n",
       "      <td>5</td>\n",
       "      <td>0.1</td>\n",
       "      <td>adam</td>\n",
       "      <td>0.912652</td>\n",
       "    </tr>\n",
       "    <tr>\n",
       "      <td>1177</td>\n",
       "      <td>1000</td>\n",
       "      <td>5</td>\n",
       "      <td>2</td>\n",
       "      <td>0.1</td>\n",
       "      <td>adam</td>\n",
       "      <td>0.912891</td>\n",
       "    </tr>\n",
       "    <tr>\n",
       "      <td>1209</td>\n",
       "      <td>1000</td>\n",
       "      <td>5</td>\n",
       "      <td>20</td>\n",
       "      <td>0.1</td>\n",
       "      <td>adam</td>\n",
       "      <td>0.913265</td>\n",
       "    </tr>\n",
       "    <tr>\n",
       "      <td>944</td>\n",
       "      <td>500</td>\n",
       "      <td>5</td>\n",
       "      <td>20</td>\n",
       "      <td>0</td>\n",
       "      <td>scg</td>\n",
       "      <td>0.913510</td>\n",
       "    </tr>\n",
       "  </tbody>\n",
       "</table>\n",
       "</div>"
      ],
      "text/plain": [
       "      Iterations  nh1  nh2   lr  algo       mse\n",
       "1264        1000   20   20    0   scg  0.910020\n",
       "1212        1000    5   20  0.2  adam  0.910810\n",
       "1273        1000   20   20  0.1  adam  0.911444\n",
       "1151        1000    2   20  0.5  adam  0.911827\n",
       "956          500    5   20  0.2  adam  0.911935\n",
       "1248        1000   20    5    0   scg  0.912209\n",
       "1184        1000    5    5    0   scg  0.912220\n",
       "1008         500   20   20    0   scg  0.912268\n",
       "1196        1000    5    5  0.2  adam  0.912315\n",
       "1200        1000    5   20    0   scg  0.912318\n",
       "1017         500   20   20  0.1  adam  0.912371\n",
       "1168        1000    5    2    0   scg  0.912482\n",
       "1148        1000    2   20  0.2  adam  0.912516\n",
       "1145        1000    2   20  0.1  adam  0.912519\n",
       "992          500   20    5    0   scg  0.912529\n",
       "928          500    5    5    0   scg  0.912620\n",
       "1193        1000    5    5  0.1  adam  0.912652\n",
       "1177        1000    5    2  0.1  adam  0.912891\n",
       "1209        1000    5   20  0.1  adam  0.913265\n",
       "944          500    5   20    0   scg  0.913510"
      ]
     },
     "execution_count": 19,
     "metadata": {},
     "output_type": "execute_result"
    }
   ],
   "source": [
    "# NOTE: 'ascending=True' is the default, but setting it to be explicit\n",
    "results.sort_values(by=['mse'], ascending=True).head(20)"
   ]
  },
  {
   "cell_type": "markdown",
   "metadata": {},
   "source": [
    "Since you have cleverly written your code to handle any value of $I$, $H_1$, $H_2$, and $K$, your code should be able to handle the following data that contains three attributes for each of 5 samples and two output values for each sample."
   ]
  },
  {
   "cell_type": "code",
   "execution_count": 20,
   "metadata": {},
   "outputs": [
    {
     "name": "stdout",
     "output_type": "stream",
     "text": [
      "  Input            Target\n",
      "[0 1 2] \t [0. 4.]\n",
      "[3 4 5] \t [ 1.2 25. ]\n",
      "[6 7 8] \t [ 4.2 64. ]\n",
      "[ 9 10 11] \t [  9. 121.]\n",
      "[12 13 14] \t [ 15.6 196. ]\n"
     ]
    }
   ],
   "source": [
    "X = np.arange(15).reshape((5, 3))\n",
    "T = np.hstack((X[:, 0:1] * 0.1 * X[:, 1:2], X[:, 2:]**2)) # making two target values for each sample\n",
    "T = T.reshape((5, 2))\n",
    "print('  Input            Target')\n",
    "for x, t in zip(X, T):\n",
    "    print(x, '\\t', t)"
   ]
  },
  {
   "cell_type": "markdown",
   "metadata": {},
   "source": [
    "Let's use your code to train a neural network with two hidden layers, having 50 units in the first hidden layer and 3 units in the second hidden layer.  This example does not perform the standardization step."
   ]
  },
  {
   "cell_type": "code",
   "execution_count": 21,
   "metadata": {},
   "outputs": [
    {
     "name": "stdout",
     "output_type": "stream",
     "text": [
      "SGD final error is 2433.744 and it took 0.23 seconds\n",
      "Adam final error is 3359.516 and it took 0.26 seconds\n",
      "SCG final error is 0.038 and it took 0.43 seconds\n"
     ]
    }
   ],
   "source": [
    "n_hiddens_1 = 50\n",
    "n_hiddens_2 = 3\n",
    "n_iterations = 1000\n",
    "\n",
    "\n",
    "n_inputs = X.shape[1]\n",
    "n_outputs = T.shape[1]\n",
    "\n",
    "n_U = (n_inputs + 1) * n_hiddens_1\n",
    "n_V = (n_hiddens_1 + 1) * n_hiddens_2\n",
    "n_W = (n_hiddens_2 + 1) * n_outputs\n",
    "\n",
    "initial_w = np.random.uniform(-0.1, 0.1, n_U + n_V + n_W)  # range of weights is -0.1 to 0.1\n",
    "\n",
    "result_sgd = opt.sgd(initial_w,\n",
    "                     mse, error_gradient, fargs=[n_inputs, n_hiddens_1, n_hiddens_2, n_outputs, X, T],\n",
    "                     n_iterations=n_iterations, learning_rate=1e-1, momentum_rate=0.2, \n",
    "                     save_wtrace=True)\n",
    "print(f'SGD final error is {result_sgd[\"ftrace\"][-1]:.3f} and it took {result_sgd[\"time\"]:.2f} seconds')\n",
    "\n",
    "result_adam = opt.adam(initial_w, \n",
    "                       mse, error_gradient, fargs=[n_inputs, n_hiddens_1, n_hiddens_2, n_outputs, X, T],\n",
    "                       n_iterations=n_iterations, learning_rate=1e-2, \n",
    "                       save_wtrace=True)\n",
    "print(f'Adam final error is {result_adam[\"ftrace\"][-1]:.3f} and it took {result_adam[\"time\"]:.2f} seconds')\n",
    "\n",
    "result_scg = opt.scg(initial_w,\n",
    "                     mse, error_gradient, fargs=[n_inputs, n_hiddens_1, n_hiddens_2, n_outputs, X, T],\n",
    "                     n_iterations=n_iterations,\n",
    "                     save_wtrace=True)\n",
    "print(f'SCG final error is {result_scg[\"ftrace\"][-1]:.3f} and it took {result_scg[\"time\"]:.2f} seconds')"
   ]
  },
  {
   "cell_type": "code",
   "execution_count": 22,
   "metadata": {},
   "outputs": [
    {
     "data": {
      "text/plain": [
       "(5, 2)"
      ]
     },
     "execution_count": 22,
     "metadata": {},
     "output_type": "execute_result"
    }
   ],
   "source": [
    "w = result_scg['w']\n",
    "\n",
    "Y = network(w, n_inputs, n_hiddens_1, n_hiddens_2, n_outputs, X)\n",
    "Y.shape"
   ]
  },
  {
   "cell_type": "code",
   "execution_count": 23,
   "metadata": {},
   "outputs": [
    {
     "data": {
      "image/png": "[encoded data removed]",
      "text/plain": [
       "<Figure size 864x360 with 3 Axes>"
      ]
     },
     "metadata": {
      "needs_background": "light"
     },
     "output_type": "display_data"
    }
   ],
   "source": [
    "def plot_diagonal(T, Y):\n",
    "    a = min(T.min(), Y.min())\n",
    "    b = max(T.max(), Y.max())\n",
    "    plt.plot([a, b], [a, b], '-', lw=3, alpha=0.5)\n",
    "\n",
    "plt.figure(figsize=(12, 5))\n",
    "\n",
    "plt.subplot(1, 3, 1)\n",
    "plt.plot(result_scg['ftrace'])\n",
    "plt.xlabel('Iteration')\n",
    "plt.ylabel('MSE')\n",
    "plt.title('SCG')\n",
    "\n",
    "plt.subplot(1, 3, 2)\n",
    "plt.plot(T[:, 0], Y[:, 0], '.')\n",
    "plot_diagonal(T[:, 0], Y[:, 0])\n",
    "plt.xlabel('Target')\n",
    "plt.ylabel('Prediction')\n",
    "plt.title('$Y_1$')\n",
    "\n",
    "plt.subplot(1, 3, 3)\n",
    "plt.plot(T[:, 1], Y[:, 1], '.')\n",
    "plot_diagonal(T[:, 1], Y[: 1])\n",
    "plt.xlabel('Target')\n",
    "plt.ylabel('Prediction')\n",
    "plt.title('$Y_2$');"
   ]
  },
  {
   "cell_type": "markdown",
   "metadata": {},
   "source": [
    "The left most plot shows the mean squared error vs iteration for a network trained with the 'scg' algorithm and 50 units in hidden layer 1 and 3 units in hidden layer two and two outputs.  The error quickly reduces to a near zero value in ~200 iterations and reaches the final mse around 600 iterations.  The middle and right plot shows the the performance of the first and second output respectively.  Since all predicted values (blue dots) are essentially on the target line (orange line), it confirms the error rate reported."
   ]
  },
  {
   "cell_type": "markdown",
   "metadata": {},
   "source": [
    "## Grading\n",
    "\n",
    "Your notebook will be run and graded automatically. Test this grading process by first downloading [A2grader.zip](http://www.cs.colostate.edu/~anderson/cs545/notebooks/A2grader.zip) and extract `A2grader.py` from it. Run the code in the following cell to demonstrate an example grading session. You should see a perfect execution score of 80/80 if your functions are defined correctly. The remaining 20 points will be based on other testing and the results you obtain and your discussions. \n",
    "\n",
    "A different, but similar, grading script will be used to grade your checked-in notebook. It will include additional tests. You should design and perform additional tests on all of your functions to be sure they run correctly before checking in your notebook.  \n",
    "\n",
    "For the grading script to run correctly, you must first name this notebook as 'Lastname-A2.ipynb' with 'Lastname' being your last name, and then save this notebook."
   ]
  },
  {
   "cell_type": "code",
   "execution_count": 24,
   "metadata": {},
   "outputs": [
    {
     "name": "stdout",
     "output_type": "stream",
     "text": [
      "\n",
      "======================= Code Execution =======================\n",
      "\n",
      "Extracting python code from notebook named 'Staab-A2.ipynb' and storing in notebookcode.py\n",
      "Removing all statements that are not function or class defs or import statements.\n",
      "\n",
      "Testing\n",
      "X = np.arange(3 * 4).reshape((3, 4)) * 0.1\n",
      "T = np.hstack(( np.sin(X[:, 0:1]) + X[:, 1:2],\n",
      "                X[:, 2:3] * -0.5,\n",
      "                X[:, 3:4] ** 2))\n",
      "n_inputs = X.shape[1]\n",
      "n_outputs = T.shape[1]\n",
      "n_hiddens_1 = 6\n",
      "n_hiddens_2 = 2\n",
      "n_w = (n_inputs + 1) * n_hiddens_1 + (n_hiddens_1 + 1) * n_hiddens_2 + (n_hiddens_2 + 1) * n_outputs\n",
      "w = (np.arange(n_w) - n_w/2) * 0.01\n",
      "Y = network(w, n_inputs, n_hiddens_1, n_hiddens_2, n_outputs, X)\n",
      "\n",
      "\n",
      "--- 20/20 points. Returned correct values.\n",
      "\n",
      "Testing\n",
      "Y, Z1, Z2 = network(w, n_inputs, n_hiddens_1, n_hiddens_2, n_outputs, X, all_outputs=True)\n",
      "\n",
      "\n",
      "--- 20/20 points. Returned correct values.\n",
      "\n",
      "Testing\n",
      "grad = error_gradient(w, n_inputs, n_hiddens_1, n_hiddens_2, n_outputs, X, T)\n",
      "\n",
      "grad [-0.01004135 -0.0140896  -0.01848553 -0.0232127  -0.02824685 -0.0335556\n",
      " -0.00785947 -0.01100037 -0.01440092 -0.01804931 -0.02192779 -0.02601239\n",
      " -0.00886361 -0.01240933 -0.01624947 -0.02037058 -0.02475247 -0.02936795\n",
      " -0.00986774 -0.01381829 -0.01809803 -0.02269185 -0.02757716 -0.03272351\n",
      " -0.01087188 -0.01522725 -0.01994658 -0.02501312 -0.03040184 -0.03607907\n",
      " -0.11689819 -0.13210337  0.0677528   0.07656248  0.06395863  0.0722746\n",
      "  0.05997313  0.0677706   0.0557992   0.06305375  0.05144169  0.05812953\n",
      "  0.04690754  0.0530058  -0.52109147  0.26220599 -0.33155754  0.12500265\n",
      " -0.05571474  0.08225796  0.13365384 -0.05939052  0.08801306]\n",
      "\n",
      "--- 20/20 points. Returned correct values.\n",
      "\n",
      "Testing\n",
      "m = mse(w, n_inputs, n_hiddens_1, n_hiddens_2, n_outputs, X, T)\n",
      "\n",
      "\n",
      "--- 20/20 points. Returned correct values.\n",
      "\n",
      "A2 Execution Grade is 80 / 80\n",
      "\n",
      "Your final assignment grade will be based on other tests.  Run additional tests\n",
      "of your own design to check your functions before checking in this notebook.\n",
      "\n",
      "A2 FINAL GRADE is ___ / 100\n"
     ]
    }
   ],
   "source": [
    "%run -i A2grader.py"
   ]
  },
  {
   "cell_type": "markdown",
   "metadata": {},
   "source": [
    "## Check-In\n",
    "\n",
    "Do not include this section in your notebook.\n",
    "\n",
    "Name your notebook ```Lastname-A2.ipynb```.  Submit the file using the ```Assignment 2``` link on [Canvas](https://colostate.instructure.com/courses/86986)."
   ]
  },
  {
   "cell_type": "markdown",
   "metadata": {},
   "source": [
    "## Extra Credit\n",
    "\n",
    "Train a neural network with two hidden layers with five units in each layer to predict CO from the Hour of the day.  After it is trained plot the outputs of the five units in the first hidden layer versus 100 floating point values of hour from 0 to 23 in one subplot of one figure.  Then, in another subplot plot the outputs of the five units in the second hidden layer.  In a third subplot, plot the predicted CO from the output of the neural network.  Arrange the subplots vertically.  Describe what you see in the plots."
   ]
  },
  {
   "cell_type": "markdown",
   "metadata": {},
   "source": [
    "#### Copy code to get Air Quality data\n",
    "Need to do this becuase some varibles have been redefined above"
   ]
  },
  {
   "cell_type": "code",
   "execution_count": 25,
   "metadata": {},
   "outputs": [],
   "source": [
    "data = pandas.read_csv('AirQualityUCI.csv', delimiter=';', decimal=',', usecols=range(15), na_values=-200)\n",
    "data = data[['Time', 'CO(GT)']]\n",
    "data = data [:23 * 20]  # first 20 days of data\n",
    "data = data.dropna(axis=0)\n",
    "hour = [int(t[:2]) for t in data['Time']]\n",
    "X = np.array(hour).reshape(-1, 1)\n",
    "CO = data['CO(GT)']\n",
    "T = np.array(CO).reshape(-1, 1)"
   ]
  },
  {
   "cell_type": "markdown",
   "metadata": {},
   "source": [
    "#### Define the network based on description above"
   ]
  },
  {
   "cell_type": "code",
   "execution_count": 26,
   "metadata": {},
   "outputs": [],
   "source": [
    "n_inputs = X.shape[1]\n",
    "n_hiddens_1 = 5\n",
    "n_hiddens_2 = 5\n",
    "n_outputs = T.shape[1]"
   ]
  },
  {
   "cell_type": "markdown",
   "metadata": {},
   "source": [
    "### Derrived values need for training"
   ]
  },
  {
   "cell_type": "code",
   "execution_count": 27,
   "metadata": {},
   "outputs": [],
   "source": [
    "n_U = (n_inputs + 1) * n_hiddens_1\n",
    "n_V = (n_hiddens_1 + 1) * n_hiddens_2\n",
    "n_W = (n_hiddens_2 + 1) * n_outputs\n",
    "initial_w = np.random.uniform(-0.1, 0.1, n_U + n_V + n_W)  # range of weights is -0.1 to 0.1"
   ]
  },
  {
   "cell_type": "markdown",
   "metadata": {},
   "source": [
    "### Train the network\n",
    "Use all three algorithms from the optimizers library to find out which one gives the best result (lowest mse)"
   ]
  },
  {
   "cell_type": "code",
   "execution_count": 28,
   "metadata": {},
   "outputs": [
    {
     "name": "stdout",
     "output_type": "stream",
     "text": [
      "SGD final error is 1.325 and it took 0.54 seconds\n",
      "Adam final error is 1.044 and it took 0.53 seconds\n",
      "SCG final error is 1.160 and it took 0.99 seconds\n"
     ]
    }
   ],
   "source": [
    "n_iterations = 1000\n",
    "\n",
    "result_sgd = opt.sgd(initial_w,\n",
    "                     mse, error_gradient, fargs=[n_inputs, n_hiddens_1, n_hiddens_2, n_outputs, X, T],\n",
    "                     n_iterations=n_iterations, learning_rate=1e-1, momentum_rate=0.2, \n",
    "                     save_wtrace=True)\n",
    "print(f'SGD final error is {result_sgd[\"ftrace\"][-1]:.3f} and it took {result_sgd[\"time\"]:.2f} seconds')\n",
    "\n",
    "result_adam = opt.adam(initial_w, \n",
    "                       mse, error_gradient, fargs=[n_inputs, n_hiddens_1, n_hiddens_2, n_outputs, X, T],\n",
    "                       n_iterations=n_iterations, learning_rate=1e-2, \n",
    "                       save_wtrace=True)\n",
    "print(f'Adam final error is {result_adam[\"ftrace\"][-1]:.3f} and it took {result_adam[\"time\"]:.2f} seconds')\n",
    "\n",
    "result_scg = opt.scg(initial_w,\n",
    "                     mse, error_gradient, fargs=[n_inputs, n_hiddens_1, n_hiddens_2, n_outputs, X, T],\n",
    "                     n_iterations=n_iterations,\n",
    "                     save_wtrace=False)\n",
    "print(f'SCG final error is {result_scg[\"ftrace\"][-1]:.3f} and it took {result_scg[\"time\"]:.2f} seconds')"
   ]
  },
  {
   "cell_type": "markdown",
   "metadata": {},
   "source": [
    "### Define variables needed for call to 'network'"
   ]
  },
  {
   "cell_type": "code",
   "execution_count": 29,
   "metadata": {},
   "outputs": [],
   "source": [
    "x_test = np.linspace(0, 23, 100).reshape(-1, 1)"
   ]
  },
  {
   "cell_type": "markdown",
   "metadata": {},
   "source": [
    "### Call 'network' using weights from the training step above\n",
    "NOTE: Using weights from the 'adam' result because it produced the best performance (lowest mse)"
   ]
  },
  {
   "cell_type": "code",
   "execution_count": 30,
   "metadata": {},
   "outputs": [],
   "source": [
    "Y, Z1, Z2 = network(\n",
    "    result_adam['w'], n_inputs, n_hiddens_1, n_hiddens_2, n_outputs, x_test, all_outputs=True)"
   ]
  },
  {
   "cell_type": "markdown",
   "metadata": {},
   "source": [
    "### Plot the data"
   ]
  },
  {
   "cell_type": "code",
   "execution_count": 31,
   "metadata": {},
   "outputs": [
    {
     "data": {
      "image/png": "[encoded data removed]",
      "text/plain": [
       "<Figure size 720x1440 with 3 Axes>"
      ]
     },
     "metadata": {
      "needs_background": "light"
     },
     "output_type": "display_data"
    }
   ],
   "source": [
    "plt.figure(figsize=(10, 20))\n",
    "plt.subplot(3, 1, 1)\n",
    "plt.title('Hidden Layer 1')\n",
    "plt.plot(x_test, Z1[:,0], '.-', label='Unit 0')\n",
    "plt.plot(x_test, Z1[:,1], '.-', label='Unit 1')\n",
    "plt.plot(x_test, Z1[:,2], '.-', label='Unit 2')\n",
    "plt.plot(x_test, Z1[:,3], '.-', label='Unit 3')\n",
    "plt.plot(x_test, Z1[:,4], '.-', label='Unit 4')\n",
    "plt.legend()\n",
    "plt.grid(True)\n",
    "plt.xlabel('Hour')\n",
    "plt.ylabel('Output');\n",
    "\n",
    "plt.subplot(3, 1, 2)\n",
    "plt.title('Hidden Layer 2')\n",
    "plt.plot(x_test, Z2[:,0], '.-', label='Unit 0')\n",
    "plt.plot(x_test, Z2[:,1], '.-', label='Unit 1')\n",
    "plt.plot(x_test, Z2[:,2], '.-', label='Unit 2')\n",
    "plt.plot(x_test, Z2[:,3], '.-', label='Unit 3')\n",
    "plt.plot(x_test, Z2[:,4], '.-', label='Unit 4')\n",
    "plt.legend()\n",
    "plt.grid(True)\n",
    "plt.xlabel('Hour')\n",
    "plt.ylabel('Output');\n",
    "\n",
    "plt.subplot(3, 1, 3)\n",
    "plt.title('CO estimate from network')\n",
    "plt.plot(X, T, 'k.')\n",
    "plt.plot(x_test, Y, '.-')\n",
    "plt.grid(True)\n",
    "plt.xlabel('Hour')\n",
    "plt.ylabel('CO');"
   ]
  },
  {
   "cell_type": "markdown",
   "metadata": {},
   "source": [
    "### Describe results"
   ]
  },
  {
   "cell_type": "markdown",
   "metadata": {},
   "source": [
    "The first two plots show the output of each unit vs the 100 points of input data.  The first layer produced much smother, piece-wise linear results, while the second layer looks to have much more sinusoidal shapes.  For both hidden layers, unit 0 starts off negative and increases over time and units 1, 2 and 4 start off positive and decrease over time.  The final plot shows the predicted output from the trained neural network.  The black dots represent the actual data, which was used to train the network, and the blue dotted line shows the prediction for all 100 values.  Overall, I think the predicted values match the actual values extremely well."
   ]
  }
 ],
 "metadata": {
  "kernelspec": {
   "display_name": "Python 3",
   "language": "python",
   "name": "python3"
  },
  "language_info": {
   "codemirror_mode": {
    "name": "ipython",
    "version": 3
   },
   "file_extension": ".py",
   "mimetype": "text/x-python",
   "name": "python",
   "nbconvert_exporter": "python",
   "pygments_lexer": "ipython3",
   "version": "3.6.2"
  }
 },
 "nbformat": 4,
 "nbformat_minor": 2
}
