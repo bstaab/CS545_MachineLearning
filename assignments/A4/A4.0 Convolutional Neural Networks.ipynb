{
 "cells": [
  {
   "cell_type": "markdown",
   "metadata": {},
   "source": [
    "# A4.0 Convolutional Neural Networks\n",
    "\n",
    "*by Chuck Anderson for [CS545: Machine Learning](https://www.cs.colostate.edu/~anderson/cs545) at Colorado State University*\n",
    "\n",
    "In this assignment, you will create a new class, named `NeuralNetwork_Convolutional` that uses the `torch.nn` module to construct neural networks with initial convolutional layers followed by fully connected layers to learn to classify images."
   ]
  },
  {
   "cell_type": "code",
   "execution_count": null,
   "metadata": {},
   "outputs": [],
   "source": [
    "class NeuralNetwork_Convolutional():\n",
    "    \n",
    "    def __init__(self, n_channels_in_image, image_size, n_units_in_conv_layers, \n",
    "                 n_units_in_fc_hidden_layers, classes,\n",
    "                 conv_kernels, use_gpu=False):\n",
    "        '''\n",
    "        n_channels_in_image: (int) number of values per pixel\n",
    "        image_size: (int) number of rows in image, same as number of columns\n",
    "        n_units_in_conv_layers: (list of ints) number of units in each convolutional layer\n",
    "        n_units_in_fc_hidden_layers: (list of ints) number of units in fully-connected layers\n",
    "        classes: (list of ints) labels for each class\n",
    "        conv_kernels: (list of lists) each list is [kernel_size, kernel_stride] for each convolutional layer\n",
    "        '''\n",
    "        .\n",
    "        .\n",
    "        .\n",
    "\n",
    "    def __repr__(self):\n",
    "        .\n",
    "        .\n",
    "        .\n",
    "        \n",
    "    def train(self, X, T, n_epochs, learning_rate):\n",
    "        '''\n",
    "        X: (4-dimensional numpy array) n_samples x n_channels x n_rows x n_columns\n",
    "        T: (1-dimensional numpy array of ints) n_samples  with values from `classes` given in constructor\n",
    "        n_epochs: (int) number of updates to make\n",
    "        learning_rate: (float) learning rate to be used for the Adam optimizer\n",
    "        '''\n",
    "        .\n",
    "        .\n",
    "        .\n",
    "        \n",
    "    def use(self, X):\n",
    "        .\n",
    "        .\n",
    "        ."
   ]
  },
  {
   "cell_type": "markdown",
   "metadata": {},
   "source": [
    "Investigate the application of your code to the classification of MNIST digits, which you may download from [this site](http://deeplearning.net/tutorial/gettingstarted.html)."
   ]
  },
  {
   "cell_type": "code",
   "execution_count": 3,
   "metadata": {},
   "outputs": [],
   "source": [
    "import numpy as np\n",
    "import matplotlib.pyplot as plt\n",
    "import pickle, gzip\n",
    "\n",
    "# Load the dataset\n",
    "with gzip.open('mnist.pkl.gz', 'rb') as f:\n",
    "    train_set, valid_set, test_set = pickle.load(f, encoding='latin1')"
   ]
  },
  {
   "cell_type": "code",
   "execution_count": 9,
   "metadata": {},
   "outputs": [
    {
     "data": {
      "text/plain": [
       "((50000, 784), (50000,))"
      ]
     },
     "execution_count": 9,
     "metadata": {},
     "output_type": "execute_result"
    }
   ],
   "source": [
    "Xtrain = train_set[0]\n",
    "Ttrain = train_set[1]\n",
    "Xtrain.shape, Ttrain.shape"
   ]
  },
  {
   "cell_type": "code",
   "execution_count": 11,
   "metadata": {},
   "outputs": [
    {
     "data": {
      "text/plain": [
       "(28, 28)"
      ]
     },
     "execution_count": 11,
     "metadata": {},
     "output_type": "execute_result"
    }
   ],
   "source": [
    "a = Xtrain[0, :].reshape(28, 28)\n",
    "a.shape"
   ]
  },
  {
   "cell_type": "code",
   "execution_count": 27,
   "metadata": {},
   "outputs": [
    {
     "data": {
      "image/png": "[encoded data removed]",
      "text/plain": [
       "<Figure size 432x288 with 4 Axes>"
      ]
     },
     "metadata": {
      "needs_background": "light"
     },
     "output_type": "display_data"
    }
   ],
   "source": [
    "for i in range(4):\n",
    "    plt.subplot(2, 2, i + 1)\n",
    "    plt.imshow(Xtrain[i, :].reshape(28, 28), cmap='binary')\n",
    "    plt.title(Ttrain[i])\n",
    "    plt.axis('off');"
   ]
  }
 ],
 "metadata": {
  "kernelspec": {
   "display_name": "Python 3",
   "language": "python",
   "name": "python3"
  },
  "language_info": {
   "codemirror_mode": {
    "name": "ipython",
    "version": 3
   },
   "file_extension": ".py",
   "mimetype": "text/x-python",
   "name": "python",
   "nbconvert_exporter": "python",
   "pygments_lexer": "ipython3",
   "version": "3.7.3"
  }
 },
 "nbformat": 4,
 "nbformat_minor": 2
}
