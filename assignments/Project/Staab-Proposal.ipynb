{
 "cells": [
  {
   "cell_type": "markdown",
   "metadata": {},
   "source": [
    "$\\newcommand{\\xv}{\\mathbf{x}}\n",
    "\\newcommand{\\Xv}{\\mathbf{X}}\n",
    "\\newcommand{\\yv}{\\mathbf{y}}\n",
    "\\newcommand{\\zv}{\\mathbf{z}}\n",
    "\\newcommand{\\av}{\\mathbf{a}}\n",
    "\\newcommand{\\Wv}{\\mathbf{W}}\n",
    "\\newcommand{\\wv}{\\mathbf{w}}\n",
    "\\newcommand{\\tv}{\\mathbf{t}}\n",
    "\\newcommand{\\Tv}{\\mathbf{T}}\n",
    "\\newcommand{\\muv}{\\boldsymbol{\\mu}}\n",
    "\\newcommand{\\sigmav}{\\boldsymbol{\\sigma}}\n",
    "\\newcommand{\\phiv}{\\boldsymbol{\\phi}}\n",
    "\\newcommand{\\Phiv}{\\boldsymbol{\\Phi}}\n",
    "\\newcommand{\\Sigmav}{\\boldsymbol{\\Sigma}}\n",
    "\\newcommand{\\Lambdav}{\\boldsymbol{\\Lambda}}\n",
    "\\newcommand{\\half}{\\frac{1}{2}}\n",
    "\\newcommand{\\argmax}[1]{\\underset{#1}{\\operatorname{argmax}}}\n",
    "\\newcommand{\\argmin}[1]{\\underset{#1}{\\operatorname{argmin}}}$"
   ]
  },
  {
   "cell_type": "markdown",
   "metadata": {},
   "source": [
    "# Project Proposal for CS545"
   ]
  },
  {
   "cell_type": "markdown",
   "metadata": {},
   "source": [
    "Brent Staab"
   ]
  },
  {
   "cell_type": "markdown",
   "metadata": {},
   "source": [
    "## Introduction"
   ]
  },
  {
   "cell_type": "markdown",
   "metadata": {},
   "source": [
    "Baseball is a sport rich in tradition and loves to keep track of data.  It tracks the performance of individuals and teams, and provides this data for a single season or the entirety of their carrer.  With the sport being approximately 150 years old, there is a plethora of real world data to analyze.  The objective of my project will be to apply this data set to a neural network classifier and see if it's possible to predict certain outcomes.  The initial focus will see if it can determine which players will be an all-start based on single season statistics.  The next task will see if it can determine if a player will make the Hall of Fame based on the entirety of their career.  If time permits, we will attempt to analyze the data set to see if specific samples are more importan than others or extend to other interesting aspects."
   ]
  },
  {
   "cell_type": "markdown",
   "metadata": {},
   "source": [
    "## Methods"
   ]
  },
  {
   "cell_type": "markdown",
   "metadata": {},
   "source": [
    "I selected this project because I have been involved with baseball for as long as I could remember.  I played as a youth, coached my son and continue to follow the game today.  Over the past several years, the term analytics has become much more main stream.  Decisions made during the game are based on this analysis and it is also used to determine a players value during contract negotiations.  This project will focus on seaon/career long results and would be more useful in the context of player valuation.\n",
    "\n",
    "To complete the project, we expect to complete the folloiwng steps\n",
    "* Select the data set\n",
    "* Aggregate statistics for individual years into carrer numbers\n",
    "* Experiment with NeuralNetworkClassifier configurations\n",
    "    * Find a good combination of hidden layers and units per hidden layer \n",
    "* Train and test the network with 100% of the data\n",
    "* Train with 80% of the data, test with 20%\n",
    "* Analyze the results\n",
    "\n",
    "We will use the NeuralNetworkClassifier from Assignment 3 as the starting point for the implementation.  We will experiment with PyTorch to see if we can overcome the extreme slowness observed by many.  Pandas will be used to read, store and manipulate the data.\n",
    "\n",
    "The data set will come from http://www.seanlahman.com/baseball-archive/statistics  \n",
    "The database contains complete batting and pitching statistics from 1871 to 2018, plus fielding statistics, standings, team stats, managerial records, post-season data, and more\n",
    "\n",
    "The work will be divided as follows (All currently TBD)\n",
    "- Submit Project proposal\n",
    "- Collect and process input data\n",
    "- NeuralNetworkClassifier investigation (decide between NumPy vs PyTorch vs etc)\n",
    "- Optimize network for All-Start analysis\n",
    "- Optimize network for Hall-of-Fame\n",
    "- Summarize results\n",
    "- Submit Final Project"
   ]
  },
  {
   "cell_type": "markdown",
   "metadata": {},
   "source": [
    "## Possible Results"
   ]
  },
  {
   "cell_type": "markdown",
   "metadata": {},
   "source": [
    "Given the large set of data, it is possible the NN will accurately predicte the expected outcomes, but this seems unlikely given the nature of the sport.  Individual awards, like the All-Star or Hall-of-Fame, are not strictly based on merit.  There is a rule that requires at least one player from each team to be selected, even if they wouldn't otherwise been deserving.  Also, popularity plays a big part and this is impossible to capture in the data.  There have been many instances where a player should have made the all star game, but missed out due to the circumstances listed above."
   ]
  },
  {
   "cell_type": "markdown",
   "metadata": {},
   "source": [
    "## Timeline\n",
    "\n",
    "* 10/23/2019 - Submit project proposal\n",
    "* 11/01/2019 - Complete data set processing\n",
    "* 11/15/2019 - NeuralNet design complete, start testing\n",
    "* 11/28/2019 - Testing complete, start analysis\n",
    "* 12/06/2019 - turn in project"
   ]
  }
 ],
 "metadata": {
  "kernelspec": {
   "display_name": "Python 3",
   "language": "python",
   "name": "python3"
  },
  "language_info": {
   "codemirror_mode": {
    "name": "ipython",
    "version": 3
   },
   "file_extension": ".py",
   "mimetype": "text/x-python",
   "name": "python",
   "nbconvert_exporter": "python",
   "pygments_lexer": "ipython3",
   "version": "3.6.2"
  }
 },
 "nbformat": 4,
 "nbformat_minor": 1
}
