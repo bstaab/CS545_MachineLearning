{
 "cells": [
  {
   "cell_type": "markdown",
   "metadata": {},
   "source": [
    "# CS545: Machine Learning\n",
    "## Fall 2019 - Final Project"
   ]
  },
  {
   "cell_type": "markdown",
   "metadata": {},
   "source": [
    "Brent Staab and Seth Hughes"
   ]
  },
  {
   "cell_type": "markdown",
   "metadata": {},
   "source": [
    "## Import code needed in this notebook"
   ]
  },
  {
   "cell_type": "code",
   "execution_count": 1,
   "metadata": {},
   "outputs": [],
   "source": [
    "import numpy as np\n",
    "import pandas\n",
    "import torch\n",
    "import copy\n",
    "\n",
    "import os\n",
    "import time\n",
    "\n",
    "import warnings\n",
    "warnings.filterwarnings(\"ignore\")\n",
    "\n",
    "import matplotlib.pyplot as plt\n",
    "%matplotlib inline"
   ]
  },
  {
   "cell_type": "markdown",
   "metadata": {},
   "source": [
    "## DATA"
   ]
  },
  {
   "cell_type": "markdown",
   "metadata": {},
   "source": [
    "##### Download the data"
   ]
  },
  {
   "cell_type": "code",
   "execution_count": 2,
   "metadata": {},
   "outputs": [],
   "source": [
    "# I'm not sure why this doesn't work.  When I run the following two commands, I get the\n",
    "# output at the bottom of this cell.  I had to manually download from the browser and\n",
    "# unzip for this notebook to work.\n",
    "\n",
    "#!curl -O https://github.com/chadwickbureau/baseballdatabank/archive/v2019.2.zip\n",
    "#!unzip -o v2019.2.zip\n",
    "\n",
    "#---------------------------------------------------------------------------------\n",
    "#   % Total    % Received % Xferd  Average Speed   Time    Time     Time  Current\n",
    "#                                  Dload  Upload   Total   Spent    Left  Speed\n",
    "# 100   137    0   137    0     0    193      0 --:--:-- --:--:-- --:--:--   193\n",
    "# Archive:  v2019.2.zip\n",
    "#   End-of-central-directory signature not found.  Either this file is not\n",
    "#   a zipfile, or it constitutes one disk of a multi-part archive.  In the\n",
    "#   latter case the central directory and zipfile comment will be found on\n",
    "#   the last disk(s) of this archive.\n",
    "# unzip:  cannot find zipfile directory in one of v2019.2.zip or\n",
    "#         v2019.2.zip.zip, and cannot find v2019.2.zip.ZIP, period."
   ]
  },
  {
   "cell_type": "markdown",
   "metadata": {},
   "source": [
    "#### Import data from files"
   ]
  },
  {
   "cell_type": "code",
   "execution_count": 3,
   "metadata": {},
   "outputs": [],
   "source": [
    "# Get a list of all players\n",
    "# Note: We only need the first column ('playerID') from this data set\n",
    "df_players = pandas.read_csv('baseballdatabank-2019.2/baseballdatabank-2019.2/core/People.csv')\n",
    "df_players = df_players['playerID']\n",
    "\n",
    "# Get batting information for all players\n",
    "# Note: For records with missing data, pandas inserts 'NaN', replace\n",
    "#       these values with a 0 for downstream processing.\n",
    "df_batting = pandas.read_csv('baseballdatabank-2019.2/baseballdatabank-2019.2/core/Batting.csv')\n",
    "df_batting.fillna(0, inplace=True)\n",
    "\n",
    "# Get fielding information for all players\n",
    "# Note: For records with missing data, pandas inserts 'NaN', replace\n",
    "#       these values with a 0 for downstream processing.\n",
    "# Note: There may be more than one entry for a specific combination of\n",
    "#       'playerID' and 'yearID'.  This occurs if a player played more than\n",
    "#       one position\n",
    "df_fielding = pandas.read_csv('baseballdatabank-2019.2/baseballdatabank-2019.2/core/Fielding.csv')\n",
    "df_fielding.fillna(0, inplace=True)\n",
    "\n",
    "# Get pitching information for all players\n",
    "# Note: For records with missing data, pandas inserts 'NaN', replace\n",
    "#       these values with a 0 for downstream processing.\n",
    "# Note: There may be more than one entry for a specific combination of\n",
    "#       'playerID' and 'yearID'.  This occurs if a player played more than\n",
    "#       one position\n",
    "df_pitching = pandas.read_csv('baseballdatabank-2019.2/baseballdatabank-2019.2/core/Pitching.csv')\n",
    "df_pitching.fillna(0, inplace=True)\n",
    "\n",
    "# Get batting information for all players\n",
    "# The db has records of anyone (players & coaches) who received votes.\n",
    "# We only want players who were voted in\n",
    "df_hof = pandas.read_csv('baseballdatabank-2019.2/baseballdatabank-2019.2/core/HallOfFame.csv')\n",
    "df_hof.fillna(0, inplace=True)\n",
    "df_hof = df_hof.loc[(df_hof['inducted'] == 'Y') & (df_hof['category'] == 'Player')]\n",
    "df_hof = df_hof['playerID']\n",
    "hof_list = list(df_hof.unique())"
   ]
  },
  {
   "cell_type": "markdown",
   "metadata": {},
   "source": [
    "#### Generate career statistics"
   ]
  },
  {
   "cell_type": "markdown",
   "metadata": {},
   "source": [
    "###### Pitching Statistics"
   ]
  },
  {
   "cell_type": "code",
   "execution_count": 4,
   "metadata": {},
   "outputs": [
    {
     "name": "stdout",
     "output_type": "stream",
     "text": [
      "It took 357.3989112377167 seconds to process the pitching data. count(9655)\n"
     ]
    }
   ],
   "source": [
    "# Create new dataframe to hold career stats for pitchers\n",
    "# A pitcher is anyone showing up in the 'df_pitching' dataframe, which was imported above\n",
    "df_career_pitching = pandas.DataFrame()\n",
    "\n",
    "if os.path.isfile('df_career_pitching.csv'):\n",
    "    df_career_pitching = pandas.read_csv('df_career_pitching.csv')\n",
    "else:\n",
    "    start_time = time.time()\n",
    "    \n",
    "    # Build data set for each pitcher in the pitching database\n",
    "    count = 0\n",
    "    for player in df_pitching['playerID'].unique():\n",
    "        # Set variable to '1' if player is in the HOF, else set to '0'\n",
    "        in_hof = 1 if player in hof_list else 0\n",
    "    \n",
    "        # Get all pitching statistics for this player and sum\n",
    "        ds_pitch = df_pitching.loc[df_batting['playerID'] == player].sum()\n",
    "        \n",
    "        # Get the fielding statistics, only when they were a pitcher, for this player and sum\n",
    "        ds_field = df_fielding.loc[(df_fielding['playerID'] == player) & (df_fielding['POS'] == 'P')].sum()\n",
    "        \n",
    "        # Determine the number of years played (should be the same in both sets, but who knows)\n",
    "        pitch_yrs = ds_pitch['stint']\n",
    "        field_yrs = ds_field['stint']\n",
    "        max_yrs = max(pitch_yrs, field_yrs)\n",
    "        \n",
    "        # Get rid of the fields we don't want in both data sets\n",
    "        ds_pitch.drop(['yearID', 'teamID'], inplace=True, errors='ignore')\n",
    "        ds_field.drop(['playerID', 'yearID', 'stint', 'teamID', 'lgID', 'POS', 'G', 'GS', 'WP'], inplace=True, errors='ignore')\n",
    "        \n",
    "        # Overwrite specific fields\n",
    "        ds_pitch['playerID'] = player\n",
    "        ds_pitch['stint'] = max_yrs\n",
    "        ds_pitch['ERA'] = ds_pitch['ERA'] / pitch_yrs\n",
    "        \n",
    "        # Add 'HOF' field to data set\n",
    "        ds_field['HOF'] = in_hof\n",
    "        \n",
    "        # For reference, these are the columns for the combined set of data\n",
    "        # df_career_pitching.columns\n",
    "        # Index([ 'A',    'BAOpp',   'BB', 'BFP', 'BK',  'CG', 'CS',  'DP',      'E',      'ER', 'ERA',\n",
    "        #         'G',       'GF', 'GIDP',  'GS',  'H', 'HBP', 'HR', 'IBB', 'IPouts', 'InnOuts',\n",
    "        #         'L',       'PB',   'PO',   'R', 'SB',  'SF', 'SH', 'SHO',     'SO',      'SV',   'W', \n",
    "        #        'WP',       'ZR', 'playerID', 'stint', 'HOF'],dtype='object')\n",
    "        \n",
    "        # Append fielding data to batting data and append to the dataframe\n",
    "        df_career_pitching = df_career_pitching.append(ds_pitch.append(ds_field), ignore_index=True)\n",
    "        count += 1\n",
    "    \n",
    "    # The order of the columns gets messed up, so fix at the end\n",
    "    # Move 'stint' to the front, then 'playerID' so we'll get 'playerID' 'stint' ...\n",
    "    # Move 'HOF' to the end of the list so we'll get ... 'HOF'\n",
    "    df_career_pitching.drop(['Unnamed: 0'], axis=1, errors='ignore')\n",
    "    col_name_lst = list(df_career_pitching.columns)\n",
    "    col_name_lst.insert(0, col_name_lst.pop(col_name_lst.index('stint')))\n",
    "    col_name_lst.insert(0, col_name_lst.pop(col_name_lst.index('playerID')))\n",
    "    col_name_lst.append(col_name_lst.pop(col_name_lst.index('HOF')))\n",
    "    df_career_pitching = df_career_pitching[col_name_lst]\n",
    "\n",
    "    end_time = time.time()\n",
    "    elapsed_time = end_time - start_time\n",
    "    print(f'It took {elapsed_time} seconds to process the pitching data. count({count})')\n",
    "    \n",
    "    # Save to file so we only need to generate once    \n",
    "    df_career_pitching.to_csv('df_career_pitching.csv')"
   ]
  },
  {
   "cell_type": "markdown",
   "metadata": {},
   "source": [
    "###### Fielding Statistics"
   ]
  },
  {
   "cell_type": "code",
   "execution_count": 5,
   "metadata": {
    "scrolled": false
   },
   "outputs": [
    {
     "name": "stdout",
     "output_type": "stream",
     "text": [
      "It took 233.62158155441284 seconds to process the fielder data. count(9574)\n"
     ]
    }
   ],
   "source": [
    "# Create new dataframe to hold career stats for fielders\n",
    "# A fielder is anyone showing up in the 'df_fielding' dataframe \n",
    "# AND NOT in the 'df_pitching' dataframe, both were imported above\n",
    "df_career_fielder = pandas.DataFrame()\n",
    "\n",
    "if os.path.isfile('df_career_fielder.csv'):\n",
    "    df_career_fielder = pandas.read_csv('df_career_fielder.csv')\n",
    "else:\n",
    "    start_time = time.time()\n",
    "    \n",
    "    # Get a list of pitchers, these will be excluded from processing\n",
    "    pitchers = list(df_pitching['playerID'].unique())\n",
    "    \n",
    "    # Build data set for each player in the fielding database\n",
    "    count = 0\n",
    "    for player in df_fielding['playerID'].unique():\n",
    "        \n",
    "        # If the player is a pitcher, exclude them from this dataset\n",
    "        if player in pitchers:\n",
    "            continue\n",
    "        \n",
    "        # Set variable to '1' if player is in the HOF, else set to '0'\n",
    "        in_hof = 1 if player in hof_list else 0\n",
    "        \n",
    "        # Get all batting and fielding information for this player and sum\n",
    "        ds_bat = df_batting.loc[df_batting['playerID'] == player].sum()\n",
    "        ds_fld = df_fielding.loc[df_fielding['playerID'] == player].sum()\n",
    "        \n",
    "        # Determine the number of years played (should be the same in both sets, but who knows)\n",
    "        bat_yrs = ds_bat['stint']\n",
    "        fld_yrs = ds_fld['stint']\n",
    "        max_yrs = max(bat_yrs, fld_yrs)\n",
    "        \n",
    "        # Get rid of the fields we don't want\n",
    "        ds_bat.drop(['yearID', 'teamID', 'lgID', 'POS', 'G'], inplace=True, errors='ignore')\n",
    "        ds_fld.drop(['playerID', 'yearID', 'stint', 'teamID', 'lgID', 'POS', 'G', 'GS', 'SB', 'CS'], inplace=True, errors='ignore')\n",
    "        \n",
    "        # Overwrite specific fields\n",
    "        ds_bat['playerID'] = player\n",
    "        ds_bat['stint'] = max_yrs\n",
    "        \n",
    "        # Add 'HOF' field to data set\n",
    "        ds_fld['HOF'] = in_hof\n",
    "        \n",
    "        # Append fielding data to batting data and append to the dataframe\n",
    "        df_career_fielder = df_career_fielder.append(ds_bat.append(ds_fld), ignore_index=True)\n",
    "        \n",
    "        count += 1\n",
    "    \n",
    "    # The order of the columns gets messed up, so fix at the end\n",
    "    # Move 'stint' to the front, then 'playerID' so we'll get 'playerID' 'stint' ...\n",
    "    # Move 'HOF' to the end of the list so we'll get ... 'HOF'\n",
    "    col_name_lst = list(df_career_fielder.columns)\n",
    "    col_name_lst.insert(0, col_name_lst.pop(col_name_lst.index('stint')))\n",
    "    col_name_lst.insert(0, col_name_lst.pop(col_name_lst.index('playerID')))\n",
    "    col_name_lst.append(col_name_lst.pop(col_name_lst.index('HOF')))\n",
    "    df_career_fielder = df_career_fielder[col_name_lst]\n",
    "    \n",
    "    end_time = time.time()\n",
    "    elapsed_time = end_time - start_time\n",
    "    print(f'It took {elapsed_time} seconds to process the fielder data. count({count})')\n",
    "\n",
    "    # Save to file so we only need to generate once    \n",
    "    df_career_fielder.to_csv('df_career_fielder.csv')"
   ]
  },
  {
   "cell_type": "markdown",
   "metadata": {},
   "source": [
    "#### Summary of career statistics"
   ]
  },
  {
   "cell_type": "code",
   "execution_count": 6,
   "metadata": {
    "scrolled": true
   },
   "outputs": [
    {
     "name": "stdout",
     "output_type": "stream",
     "text": [
      "-----------------Summary--------------------------\n",
      "Total number of pitchers - 9655\n",
      "Total number of fielders - 9574\n",
      "Total number of players - 19229\n",
      "--------------------------------------------------\n",
      "Number of pitchers in HOF (96) or  (0.994)%\n",
      "Number of fielders in HOF (134) or  (1.400)%\n",
      "Total in HOF (256) or (1.331)%\n"
     ]
    }
   ],
   "source": [
    "num_fielders = df_career_fielder.count()[0]\n",
    "num_pitchers = df_career_pitching.count()[0]\n",
    "num_players = num_fielders + num_pitchers\n",
    "num_hof = df_hof.count()\n",
    "pct_hof = (num_hof / num_players) * 100\n",
    "\n",
    "hofers = set(df_hof.unique())\n",
    "pitchers = set(df_career_pitching['playerID'].unique())\n",
    "fielders = set(df_career_fielder['playerID'].unique())\n",
    "num_hof_pitchers = len(pitchers.intersection(hofers))\n",
    "pct_hof_pitchers = (num_hof_pitchers / num_pitchers) * 100\n",
    "num_hof_fielders = len(fielders.intersection(hofers))\n",
    "pct_hof_fielders = (num_hof_fielders / num_fielders) * 100\n",
    "\n",
    "print('-----------------Summary--------------------------')\n",
    "print(f'Total number of pitchers - {num_pitchers}')\n",
    "print(f'Total number of fielders - {num_fielders}')\n",
    "print(f'Total number of players - {num_players}')\n",
    "print('--------------------------------------------------')\n",
    "print(f'Number of pitchers in HOF ({num_hof_pitchers}) or  ({pct_hof_pitchers:0.3f})%')\n",
    "print(f'Number of fielders in HOF ({num_hof_fielders}) or  ({pct_hof_fielders:0.3f})%')\n",
    "print(f'Total in HOF ({num_hof}) or ({pct_hof:0.3f})%')"
   ]
  },
  {
   "cell_type": "markdown",
   "metadata": {},
   "source": [
    "These statistics show how hard it is for a player to make the hall of fame.  This also means that the data set is exteremely unbalanced where there are more players who do NOT make the HOF than do."
   ]
  },
  {
   "cell_type": "markdown",
   "metadata": {},
   "source": [
    "## NeuralNetwork"
   ]
  },
  {
   "cell_type": "code",
   "execution_count": null,
   "metadata": {},
   "outputs": [],
   "source": []
  }
 ],
 "metadata": {
  "kernelspec": {
   "display_name": "Python 3",
   "language": "python",
   "name": "python3"
  },
  "language_info": {
   "codemirror_mode": {
    "name": "ipython",
    "version": 3
   },
   "file_extension": ".py",
   "mimetype": "text/x-python",
   "name": "python",
   "nbconvert_exporter": "python",
   "pygments_lexer": "ipython3",
   "version": "3.6.2"
  }
 },
 "nbformat": 4,
 "nbformat_minor": 2
}
