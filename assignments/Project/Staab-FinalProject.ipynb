{
 "cells": [
  {
   "cell_type": "markdown",
   "metadata": {},
   "source": [
    "# CS545: Machine Learning\n",
    "## Fall 2019 - Final Project"
   ]
  },
  {
   "cell_type": "markdown",
   "metadata": {},
   "source": [
    "Brent Staab and Seth Neal Hughes"
   ]
  },
  {
   "cell_type": "markdown",
   "metadata": {},
   "source": [
    "# CODE\n",
    "## Import code needed in this notebook"
   ]
  },
  {
   "cell_type": "code",
   "execution_count": 1,
   "metadata": {},
   "outputs": [],
   "source": [
    "import numpy as np\n",
    "import pandas\n",
    "import torch\n",
    "import copy\n",
    "\n",
    "import os\n",
    "import sys\n",
    "import time\n",
    "\n",
    "import warnings\n",
    "warnings.filterwarnings(\"ignore\")\n",
    "\n",
    "import matplotlib.pyplot as plt\n",
    "%matplotlib inline\n",
    "\n",
    "# sklearn isn't part of standard install, had to run the following ...\n",
    "# pip install sklearn\n",
    "from sklearn.model_selection import train_test_split\n",
    "\n",
    "from sys import platform\n",
    "import neuralnetworks as nn"
   ]
  },
  {
   "cell_type": "markdown",
   "metadata": {},
   "source": [
    "## Definition of `NeuralNetworkClassifier`"
   ]
  },
  {
   "cell_type": "code",
   "execution_count": 2,
   "metadata": {},
   "outputs": [],
   "source": [
    "# Extend the nn.NeuralNetwork class to reuse much of its implementation\n",
    "# Only those methods that must be altered to do classification are defined in NeuralNetworkClassifier\n",
    "class NeuralNetworkClassifier(nn.NeuralNetwork):\n",
    "\n",
    "    # Constructor\n",
    "    # Input parameters:\n",
    "    #    n_inputs: number of inputs\n",
    "    #    n_hiddens_list: a list containing the number of hidden layers\n",
    "    #    classes       : a list of classes (integer) to classify\n",
    "    #    use_torch     : flag indicating which library to use for the implementation\n",
    "    #                    False (default) - Use numpy\n",
    "    #                    True - Use pytorchc\n",
    "    def __init__(self, n_inputs, n_hiddens_list, classes, use_torch=False):\n",
    "\n",
    "        # Force n_hidens_list to be a list\n",
    "        if not isinstance(n_hiddens_list, list):\n",
    "            raise Exception('NeuralNetworkClassifier: n_hiddens_list must be a list.')\n",
    " \n",
    "        # Call the constructor for NeuralNetwork, passing in the number of unique class names (ints)\n",
    "        # as the number of outputs\n",
    "        super().__init__(n_inputs, n_hiddens_list, len(classes), use_torch)\n",
    "\n",
    "        # Store as member variables other things needed by instances of this class.\n",
    "        self.classes = np.array(classes) # to allow argmax in use()\n",
    "        \n",
    "        # Set functions used by the class based on 'use_torch' flag\n",
    "        if use_torch:\n",
    "            self.log    = torch.log\n",
    "            self.exp    = torch.exp\n",
    "            self.sum    = torch.sum\n",
    "            self.argmax = torch.argmax\n",
    "        else:\n",
    "            self.log    = np.log\n",
    "            self.exp    = np.exp\n",
    "            self.sum    = np.sum\n",
    "            self.argmax = np.argmax\n",
    "\n",
    "    # built-in function used to compute the \"official\" string representation for this object\n",
    "    def __repr__(self):\n",
    "        str = f'{type(self).__name__}({self.n_inputs}, {self.n_hiddens_list}, {self.classes}, use_torch={self.use_torch})'\n",
    "        if self.trained:\n",
    "            str += f'\\n   Network was trained for {self.n_epochs} epochs'\n",
    "            str += f' that took {self.training_time:.4f} seconds. Final objective value is {self.error_trace[-1]:.3f}'\n",
    "        else:\n",
    "            str += '  Network is not trained.'\n",
    "        return str\n",
    "    \n",
    "    # Override base class implementation to do nothing\n",
    "    def _standardizeT(self, T):\n",
    "        return T\n",
    "    \n",
    "    # Override base class implementation to do nothing\n",
    "    def _unstandardizeT(self, T):\n",
    "        return T\n",
    "    \n",
    "    # Override base class implementation to add classification specific \n",
    "    # behavior.  Just call g(s) (a.k.a. softmax) on base class result\n",
    "    # Input\n",
    "    #    X: input data\n",
    "    # Output\n",
    "    #    Y: output of neural network\n",
    "    #    Z: the inputs, as a list, for each layer\n",
    "    def _forward_pass(self, X):\n",
    "        Y, Z = super()._forward_pass(X)\n",
    "        Y = self._g(Y)\n",
    "        \n",
    "        return Y, Z\n",
    "\n",
    "    # Override base class implementation\n",
    "    # Return neg_mean_log_likelihood\n",
    "    # Input\n",
    "    #    w: Weights to use for nn\n",
    "    #    X: Input data to process\n",
    "    #    T: Targets\n",
    "    # Output\n",
    "    #    neg_mean_log_likelihood\n",
    "    def _objectiveF(self, w, X, T):\n",
    "        self._unpack(w)\n",
    "        Y, _ = self._forward_pass(X)\n",
    "        return -self.mean(self.log(Y) * T)\n",
    "        \n",
    "    # Override base class implementation\n",
    "    # Input\n",
    "    #    neg_mean_log_likelihood: Output of _objectiveF\n",
    "    def _objective_to_actual(self, neg_mean_log_likelihood):\n",
    "        return self.exp(- neg_mean_log_likelihood)\n",
    "    \n",
    "    # Override base class implementation\n",
    "    # Return neg_mean_log_likelihood\n",
    "    # Input\n",
    "    #    X                    : Input data to process\n",
    "    #    T                    : Targets\n",
    "    #    n_epochs             : number of max num iterations to train\n",
    "    #    method               : Which algorithm (scg, sgd, adam) to use for training\n",
    "    #    verbose              : flag (default false) to enable/disable extra messages\n",
    "    #    save_weights_history : flag (default false) to enable/disable saving of the weights\n",
    "    #    learning_rate        : value used for sgd and adam\n",
    "    #    momentum_rate        : value used for sgd and adam\n",
    "    def train(self, X, T, n_epochs, method='scg',\n",
    "              verbose=False, save_weights_history=False,\n",
    "              learning_rate=0.001, momentum_rate=0.0):\n",
    "        \n",
    "        # Convert targets into indicator variables\n",
    "        T_indicator_vars = self._make_indicator_variables(T)\n",
    "        \n",
    "        # Call base class with indicator variables instead of target values\n",
    "        return super().train(X, T_indicator_vars, n_epochs, method,\n",
    "                          verbose, save_weights_history,\n",
    "                          learning_rate, momentum_rate)\n",
    "    \n",
    "    # Override base class implementation\n",
    "    # Return output of trained network on input data\n",
    "    # Input\n",
    "    #    X           : Input data to process\n",
    "    #    all_outputs : Flag (default false) to control what is returned from this function\n",
    "    def use(self, X, all_outputs=False):\n",
    "        if self.use_torch:\n",
    "            if not isinstance(X, torch.Tensor):\n",
    "                X = torch.tensor(X, dtype=torch.float)\n",
    "        X = self._standardizeX(X)\n",
    "        Y, Z = self._forward_pass(X)\n",
    "        Y = self._unstandardizeT(Y)\n",
    "        \n",
    "        # Convert Y to 'classes' \n",
    "        # - argmax returns an index into the class array, not the value\n",
    "        Y_class_idx = list(self.argmax(Y, axis=1))\n",
    "        Y_classes = np.array([self.classes[i] for i in Y_class_idx]).reshape((-1,1))\n",
    "        \n",
    "        if self.use_torch:\n",
    "            Y_classes = torch.tensor(Y_classes)\n",
    "            Y = Y.detach().cpu().numpy()\n",
    "            Z = [Zi.detach().cpu().numpy() for Zi in Z]\n",
    "        \n",
    "        return (Y_classes, Y, Z[1:]) if all_outputs else Y_classes, Y\n",
    "        \n",
    "    # Function to convert a list of target values into an array \n",
    "    # of 'indicator variables'\n",
    "    def _make_indicator_variables(self, T):\n",
    "        # Make sure T is two-dimensiona. Should be nSamples x 1.\n",
    "        if T.ndim == 1:\n",
    "            T = T.reshape((-1,1))    \n",
    "        return (T == np.unique(T)).astype(int)\n",
    "    \n",
    "    # Function to compute the 'softmax'\n",
    "    def _g(self, Y):\n",
    "        fs = self.exp(Y)\n",
    "        denom = self.sum(fs, axis=1).reshape((-1,1))\n",
    "        gs = fs / denom\n",
    "        return gs"
   ]
  },
  {
   "cell_type": "markdown",
   "metadata": {},
   "source": [
    "## Helper functions"
   ]
  },
  {
   "cell_type": "code",
   "execution_count": 3,
   "metadata": {},
   "outputs": [],
   "source": [
    "# Helper function to create a nn, run a test and return results\n",
    "def run_test(ni, hl, cl, X_train, T_train, X_test, T_test, e, m, lr, mr, use_torch=False):\n",
    "    nnet = NeuralNetworkClassifier(ni, hl, cl, use_torch)\n",
    "    nnet.train(X_train, T_train, e, m, lr, mr)\n",
    "    Y_classes, Y = nnet.use(X_test)\n",
    "    n_correct = (Y_classes == T_test).sum()\n",
    "    n_total = T_test.shape[0]\n",
    "    pct_correct = ((n_correct/n_total)*100)\n",
    "    return [n_correct, n_total, pct_correct, Y_classes, nnet.get_error_trace()]"
   ]
  },
  {
   "cell_type": "code",
   "execution_count": 4,
   "metadata": {},
   "outputs": [],
   "source": [
    "# Helper function to print/plot results\n",
    "def print_results(results):\n",
    "    index = 0                                                 # Initialize counter variable\n",
    "    pct_correct = []                                          # Initialize variable to store % coo\n",
    "    for result in results:                                    # Process each result\n",
    "        pct_correct.append(result[2])                         # Get the % correct for this test\n",
    "        print(f'Test {index} - {result[0]} out of {result[1]} samples or {result[2]:.2f} percent.')\n",
    "        index += 1                                            # Increment the count                                                              \n",
    "                                                              #\n",
    "    Xvals = list(range(len(pct_correct)))                     # Get X values based on number of results\n",
    "                                                              #\n",
    "    plt.figure(figsize=(20, 5))                               # Set the overall plot size\n",
    "    plt.subplot(1, 2, 1)                                      # Define plot area and select 1st subplot\n",
    "    plt.title('Error Trace')                                  # Add subplot 1 title\n",
    "    plt.xlabel('epoch')                                       # Add subplot 1 X-axis label\n",
    "    plt.ylabel('MSE')                                         # Add subplot 1 Y-axis label\n",
    "                                                              #\n",
    "    index = 0                                                 # Initialize counter variable\n",
    "    for result in results:                                    # Iterate over each result\n",
    "        plt.plot(result[4], '-', label=f'Test {index}')       # Add first data set to plot\n",
    "        index += 1                                            # Increment the count\n",
    "                                                              #\n",
    "    plt.legend()                                              # Enable the legend for subplot 1\n",
    "    plt.grid(True)                                            # Enable the grid for subplot 1\n",
    "                                                              #\n",
    "    plt.subplot(1, 2, 2)                                      # Select 2nd subplot\n",
    "    plt.title('NN Acuracy')                                   # Add subplot 2 title\n",
    "    plt.xlabel('Test number')                                 # Add subplot 2 X-axis label\n",
    "    plt.ylabel('% correct')                                   # Add subplot 2 Y-axis label\n",
    "    plt.plot(Xvals, pct_correct, 'o-')                        # Add data set to plot\n",
    "    axes = plt.gca()                                          # Get Current Axis for plot 2\n",
    "    axes.set_ylim([0,100])                                    # Set Y-axis limits (0-100) for percentages\n",
    "    plt.grid(True)                                            # Enable the grid for subplot 2"
   ]
  },
  {
   "cell_type": "markdown",
   "metadata": {},
   "source": [
    "# DATA"
   ]
  },
  {
   "cell_type": "markdown",
   "metadata": {},
   "source": [
    "The data set can be found at http://www.seanlahman.com/baseball-archive/statistics  "
   ]
  },
  {
   "cell_type": "markdown",
   "metadata": {},
   "source": [
    "#### Import data from files"
   ]
  },
  {
   "cell_type": "code",
   "execution_count": 5,
   "metadata": {},
   "outputs": [],
   "source": [
    "# This selects the correct path based on OS\n",
    "if platform == 'linux':\n",
    "    people_file = 'baseballdatabank-2019.2/baseballdatabank-2019.2/core/People.csv'\n",
    "    batting_file = 'baseballdatabank-2019.2/baseballdatabank-2019.2/core/Batting.csv'\n",
    "    fielding_file = 'baseballdatabank-2019.2/baseballdatabank-2019.2/core/Fielding.csv'\n",
    "    pitchcing_file = 'baseballdatabank-2019.2/baseballdatabank-2019.2/core/Pitching.csv'\n",
    "    halloffame_file = 'baseballdatabank-2019.2/baseballdatabank-2019.2/core/HallOfFame.csv'\n",
    "    allstarfull_filie = 'baseballdatabank-2019.2/baseballdatabank-2019.2/core/AllstarFull.csv'\n",
    "else:\n",
    "    print(\"windows\")\n",
    "\n",
    "    people_file = 'C:\\\\Users\\\\user\\\\Notebooks\\\\CS545\\\\Project\\\\baseballdatabank-2019.2\\\\core\\\\People.csv'\n",
    "    batting_file = 'C:\\\\Users\\\\user\\\\Notebooks\\\\CS545\\\\Project\\\\baseballdatabank-2019.2\\\\core\\\\Batting.csv'\n",
    "    fielding_file = 'C:\\\\Users\\\\user\\\\Notebooks\\\\CS545\\\\Project\\\\baseballdatabank-2019.2\\\\core\\\\Fielding.csv'\n",
    "    pitchcing_file = 'C:\\\\Users\\\\user\\\\Notebooks\\\\CS545\\\\Project\\\\baseballdatabank-2019.2\\\\core\\\\Pitching.csv'\n",
    "    halloffame_file = 'C:\\\\Users\\\\user\\\\Notebooks\\\\CS545\\\\Project\\\\baseballdatabank-2019.2\\\\core\\\\HallofFame.csv'\n",
    "    allstarfull_filie = 'C:\\\\Users\\\\user\\\\Notebooks\\\\CS545\\\\Project\\\\baseballdatabank-2019.2\\\\core\\\\AllstarFull.csv'\n",
    "\n",
    "# Players\n",
    "df_players = pandas.read_csv(people_file)\n",
    "df_players = df_players['playerID']\n",
    "\n",
    "# Batting information for players\n",
    "df_batting = pandas.read_csv(batting_file)\n",
    "df_batting.fillna(0, inplace=True)\n",
    "\n",
    "# Fielding information\n",
    "df_fielding = pandas.read_csv(fielding_file)\n",
    "df_fielding.fillna(0, inplace=True)\n",
    "\n",
    "# Pitching information\n",
    "df_pitching = pandas.read_csv(pitchcing_file)\n",
    "df_pitching.fillna(0, inplace=True)\n",
    "\n",
    "# HoF\n",
    "df_hof = pandas.read_csv(halloffame_file)\n",
    "df_hof.fillna(0, inplace=True)\n",
    "df_hof = df_hof.loc[(df_hof['inducted'] == 'Y') & (df_hof['category'] == 'Player')]\n",
    "df_hof = df_hof['playerID']\n",
    "hof_list = list(df_hof.unique())\n",
    "\n",
    "#All-Star\n",
    "df_all_star = pandas.read_csv(allstarfull_filie)\n",
    "df_all_star.fillna(0, inplace=True)\n",
    "# allstar_list = list(df_all_star.unique()) # list of all star players\n",
    "df_all_star = df_all_star['playerID']\n",
    "allstar_list = list(df_all_star.unique())"
   ]
  },
  {
   "cell_type": "markdown",
   "metadata": {},
   "source": [
    "### Generate career statistics"
   ]
  },
  {
   "cell_type": "markdown",
   "metadata": {},
   "source": [
    "###### Pitching Statistics"
   ]
  },
  {
   "cell_type": "code",
   "execution_count": 6,
   "metadata": {},
   "outputs": [],
   "source": [
    "# Create new dataframe to hold career stats for pitchers\n",
    "# A pitcher is anyone showing up in the 'df_pitching' dataframe, which was imported above\n",
    "df_career_pitching = pandas.DataFrame()\n",
    "\n",
    "if os.path.isfile('df_career_pitching.csv'):\n",
    "    df_career_pitching = pandas.read_csv('df_career_pitching.csv')\n",
    "else:\n",
    "    start_time = time.time()\n",
    "    \n",
    "    # Build data set for each pitcher in the pitching database\n",
    "    count = 0\n",
    "    for player in df_pitching['playerID'].unique():\n",
    "        # Set variable to '1' if player is in the HOF, else set to '0'\n",
    "        in_hof = 1 if player in hof_list else 0\n",
    "    \n",
    "        # Get all pitching statistics for this player and sum\n",
    "        ds_pitch = df_pitching.loc[df_batting['playerID'] == player].sum()\n",
    "        \n",
    "        # Get the fielding statistics, only when they were a pitcher, for this player and sum\n",
    "        ds_field = df_fielding.loc[(df_fielding['playerID'] == player) & (df_fielding['POS'] == 'P')].sum()\n",
    "        \n",
    "        # Determine the number of years played (should be the same in both sets, but who knows)\n",
    "        pitch_yrs = ds_pitch['stint']\n",
    "        field_yrs = ds_field['stint']\n",
    "        max_yrs = max(pitch_yrs, field_yrs)\n",
    "        \n",
    "        # Get rid of the fields we don't want in both data sets\n",
    "        ds_pitch.drop(['yearID', 'teamID', 'lgID'], inplace=True, errors='ignore')\n",
    "        ds_field.drop(['playerID', 'yearID', 'stint', 'teamID', 'lgID', 'POS', 'G', 'GS', 'WP'], inplace=True, errors='ignore')\n",
    "        \n",
    "        # Overwrite specific fields\n",
    "        ds_pitch['playerID'] = player\n",
    "        ds_pitch['stint'] = max_yrs\n",
    "        ds_pitch['ERA'] = ds_pitch['ERA'] / pitch_yrs\n",
    "        \n",
    "        # Add 'HOF' field to data set\n",
    "        ds_field['HOF'] = in_hof\n",
    "        \n",
    "        # Append fielding data to batting data and append to the dataframe\n",
    "        df_career_pitching = df_career_pitching.append(ds_pitch.append(ds_field), ignore_index=True)\n",
    "        count += 1\n",
    "    \n",
    "    # The order of the columns gets messed up, so fix at the end\n",
    "    # Move 'stint' to the front, then 'playerID' so we'll get 'playerID' 'stint' ...\n",
    "    # Move 'HOF' to the end of the list so we'll get ... 'HOF'\n",
    "    df_career_pitching.drop(['Unnamed: 0'], axis=1, errors='ignore')\n",
    "    col_name_lst = list(df_career_pitching.columns)\n",
    "    col_name_lst.insert(0, col_name_lst.pop(col_name_lst.index('stint')))\n",
    "    col_name_lst.insert(0, col_name_lst.pop(col_name_lst.index('playerID')))\n",
    "    col_name_lst.append(col_name_lst.pop(col_name_lst.index('HOF')))\n",
    "    df_career_pitching = df_career_pitching[col_name_lst]\n",
    "\n",
    "    end_time = time.time()\n",
    "    elapsed_time = end_time - start_time\n",
    "    print(f'It took {elapsed_time} seconds to process the pitching data. count({count})')\n",
    "    \n",
    "    # Save to file so we only need to generate once    \n",
    "    df_career_pitching.to_csv('df_career_pitching.csv')\n",
    "\n",
    "df_career_pitching.drop(['Unnamed: 0'], axis=1, errors='ignore', inplace=True)\n",
    "df_career_pitching.drop(['lgID'], axis=1, errors='ignore', inplace=True)\n",
    "df_career_pitching.fillna(0, inplace=True)"
   ]
  },
  {
   "cell_type": "markdown",
   "metadata": {},
   "source": [
    "###### Fielding Statistics"
   ]
  },
  {
   "cell_type": "code",
   "execution_count": 7,
   "metadata": {
    "scrolled": false
   },
   "outputs": [],
   "source": [
    "# Create new dataframe to hold career stats for fielders\n",
    "# A fielder is anyone showing up in the 'df_fielding' dataframe \n",
    "# AND NOT in the 'df_pitching' dataframe, both were imported above\n",
    "df_career_fielder = pandas.DataFrame()\n",
    "\n",
    "if os.path.isfile('df_career_fielder.csv'):\n",
    "    df_career_fielder = pandas.read_csv('df_career_fielder.csv')\n",
    "else:\n",
    "    start_time = time.time()\n",
    "    \n",
    "    # Get a list of pitchers, these will be excluded from processing\n",
    "    pitchers = list(df_pitching['playerID'].unique())\n",
    "    \n",
    "    # Build data set for each player in the fielding database\n",
    "    count = 0\n",
    "    for player in df_fielding['playerID'].unique():\n",
    "        \n",
    "        # If the player is a pitcher, exclude them from this dataset\n",
    "        if player in pitchers:\n",
    "            continue\n",
    "        \n",
    "        # Set variable to '1' if player is in the HOF, else set to '0'\n",
    "        in_hof = 1 if player in hof_list else 0\n",
    "        \n",
    "        # Get all batting and fielding information for this player and sum\n",
    "        ds_bat = df_batting.loc[df_batting['playerID'] == player].sum()\n",
    "        ds_fld = df_fielding.loc[df_fielding['playerID'] == player].sum()\n",
    "        \n",
    "        # Determine the number of years played (should be the same in both sets, but who knows)\n",
    "        bat_yrs = ds_bat['stint']\n",
    "        fld_yrs = ds_fld['stint']\n",
    "        max_yrs = max(bat_yrs, fld_yrs)\n",
    "        \n",
    "        # Get rid of the fields we don't want\n",
    "        ds_bat.drop(['yearID', 'teamID', 'lgID', 'POS', 'G'], inplace=True, errors='ignore')\n",
    "        ds_fld.drop(['playerID', 'yearID', 'stint', 'teamID', 'lgID', 'POS', 'G', 'GS', 'SB', 'CS'], inplace=True, errors='ignore')\n",
    "        \n",
    "        # Overwrite specific fields\n",
    "        ds_bat['playerID'] = player\n",
    "        ds_bat['stint'] = max_yrs\n",
    "        \n",
    "        # Add 'HOF' field to data set\n",
    "        ds_fld['HOF'] = in_hof\n",
    "        \n",
    "        # Append fielding data to batting data and append to the dataframe\n",
    "        df_career_fielder = df_career_fielder.append(ds_bat.append(ds_fld), ignore_index=True)\n",
    "        \n",
    "        count += 1\n",
    "    \n",
    "    # The order of the columns gets messed up, so fix at the end\n",
    "    # Move 'stint' to the front, then 'playerID' so we'll get 'playerID' 'stint' ...\n",
    "    # Move 'HOF' to the end of the list so we'll get ... 'HOF'\n",
    "    col_name_lst = list(df_career_fielder.columns)\n",
    "    col_name_lst.insert(0, col_name_lst.pop(col_name_lst.index('stint')))\n",
    "    col_name_lst.insert(0, col_name_lst.pop(col_name_lst.index('playerID')))\n",
    "    col_name_lst.append(col_name_lst.pop(col_name_lst.index('HOF')))\n",
    "    df_career_fielder = df_career_fielder[col_name_lst]\n",
    "    \n",
    "    end_time = time.time()\n",
    "    elapsed_time = end_time - start_time\n",
    "    print(f'It took {elapsed_time} seconds to process the fielder data. count({count})')\n",
    "\n",
    "    # Save to file so we only need to generate once    \n",
    "    df_career_fielder.to_csv('df_career_fielder.csv')"
   ]
  },
  {
   "cell_type": "code",
   "execution_count": 8,
   "metadata": {},
   "outputs": [],
   "source": [
    "# Create new dataframe to hold season stats for pitchers\n",
    "# A pitcher is anyone showing up in the 'df_pitching' dataframe, which was imported above\n",
    "df_season_pitching = pandas.DataFrame()\n",
    "\n",
    "if os.path.isfile('df_season_pitching.csv'):\n",
    "    df_season_pitching = pandas.read_csv('df_season_pitching.csv')\n",
    "else:\n",
    "    start_time = time.time()\n",
    "    \n",
    "    count = 0\n",
    "\n",
    "    # Process all players in the pitching db\n",
    "    for player in df_pitching['playerID'].unique():\n",
    "        # Process each season for this player \n",
    "        for year in df_pitching.loc[(df_pitching['playerID'] == player)]['yearID'].unique():\n",
    "            # Set variable to '1' if player is in the HOF, else set to '0'\n",
    "            all_star = int(not df_all_star.loc[((df_all_star['playerID'] == player) & \n",
    "                                                (df_all_star['yearID'] == year))].empty)\n",
    "        \n",
    "            # Get all pitching statistics for this player and season\n",
    "            df_pitch = df_pitching.loc[(df_pitching['playerID'] == player) & \n",
    "                                       (df_pitching['yearID'] == year)]\n",
    "\n",
    "            # Get the fielding statistics for this player and season\n",
    "            df_field = df_fielding.loc[(df_fielding['playerID'] == player) & \n",
    "                                       (df_fielding['yearID'] == year) &\n",
    "                                       (df_fielding['POS'] == 'P')]\n",
    "            \n",
    "            # There may be more than one entry for a player + year (changed teams?)\n",
    "            # Average all stats for each column.\n",
    "            ds_pitch = df_pitch.mean()\n",
    "            ds_field = df_field.mean()\n",
    "        \n",
    "            # Get rid of the fields we don't want in both data sets\n",
    "            ds_pitch.drop(['stint', 'teamID', 'lgID'], inplace=True, errors='ignore')\n",
    "            ds_field.drop(['playerID', 'yearID', 'stint', 'teamID', 'lgID', 'POS', 'G', 'GS', 'WP'], inplace=True, errors='ignore')\n",
    "\n",
    "            # Add 'playerID' to pitch data set (it was lost during 'mean' step \n",
    "            # Add all-star' field to data set\n",
    "            ds_pitch['playerID'] = player\n",
    "            ds_field['all-star'] = all_star\n",
    "            \n",
    "            # Append fielding data to batting data and append to the dataframe\n",
    "            df_season_pitching = df_season_pitching.append(ds_pitch.append(ds_field), ignore_index=True)\n",
    "            \n",
    "            count += 1\n",
    "    \n",
    "    # The order of the columns gets messed up, so fix at the end\n",
    "    # Move 'yearID' to the front, then 'playerID' so we'll get 'playerID' 'yearID' ...\n",
    "    # Move 'all-star' to the end of the list so we'll get ... 'all-star'\n",
    "    #df_career_pitching.drop(['Unnamed: 0'], axis=1, errors='ignore')\n",
    "    col_name_lst = list(df_season_pitching.columns)\n",
    "    col_name_lst.insert(0, col_name_lst.pop(col_name_lst.index('yearID')))\n",
    "    col_name_lst.insert(0, col_name_lst.pop(col_name_lst.index('playerID')))\n",
    "    col_name_lst.append(col_name_lst.pop(col_name_lst.index('all-star')))\n",
    "    df_season_pitching = df_season_pitching[col_name_lst]\n",
    "\n",
    "    end_time = time.time()\n",
    "    elapsed_time = end_time - start_time\n",
    "    print(f'It took {elapsed_time} seconds to process the pitching data. count({count})')\n",
    "    \n",
    "    # Save to file so we only need to generate once    \n",
    "    df_season_pitching.to_csv('df_season_pitching.csv')"
   ]
  },
  {
   "cell_type": "code",
   "execution_count": 9,
   "metadata": {},
   "outputs": [],
   "source": [
    "# Create new dataframe to hold season stats for pitchers\n",
    "# A pitcher is anyone showing up in the 'df_pitching' dataframe, which was imported above\n",
    "df_season_fielding = pandas.DataFrame()\n",
    "\n",
    "if os.path.isfile('df_season_fielding.csv'):\n",
    "    df_season_fielding = pandas.read_csv('df_season_fielding.csv')\n",
    "else:\n",
    "    start_time = time.time()\n",
    "    \n",
    "    count = 0\n",
    "\n",
    "    # Get a list of pitchers, these will be excluded from processing\n",
    "    pitchers = list(df_pitching['playerID'].unique())\n",
    "    \n",
    "    # Process all players in the fielding db\n",
    "    for player in df_fielding['playerID'].unique():\n",
    "        \n",
    "        # If the player is a pitcher, exclude them from this dataset\n",
    "        if player in pitchers:\n",
    "            continue\n",
    "        \n",
    "        # Process each season for this player \n",
    "        for year in df_fielding.loc[(df_fielding['playerID'] == player)]['yearID'].unique():\n",
    "            # Set variable to '1' if player is in the HOF, else set to '0'\n",
    "            all_star = int(not df_all_star.loc[((df_all_star['playerID'] == player) & \n",
    "                                                (df_all_star['yearID'] == year))].empty)\n",
    "        \n",
    "            # Get all batting statistics for this player and season\n",
    "            df_hit = df_batting.loc[(df_batting['playerID'] == player) & \n",
    "                                    (df_batting['yearID'] == year)]\n",
    "\n",
    "            # Get the fielding statistics for this player and season\n",
    "            df_field = df_fielding.loc[(df_fielding['playerID'] == player) & \n",
    "                                       (df_fielding['yearID'] == year)]\n",
    "            \n",
    "            # There may be more than one entry for a player + year (changed teams?)\n",
    "            # Average all stats for each column.\n",
    "            ds_hit = df_hit.mean()\n",
    "            ds_field = df_field.mean()\n",
    "        \n",
    "            # Get rid of the fields we don't want in both data sets\n",
    "            ds_hit.drop(['stint'], inplace=True, errors='ignore')\n",
    "            ds_field.drop(['yearID', 'stint', 'G', 'CS', 'SB'], inplace=True, errors='ignore')\n",
    "\n",
    "            # Add 'playerID' to pitch data set (it was lost during 'mean' step \n",
    "            # Add all-star' field to data set\n",
    "            ds_hit['playerID'] = player\n",
    "            ds_field['all-star'] = all_star\n",
    "            \n",
    "            # Append fielding data to batting data and append to the dataframe\n",
    "            df_season_fielding = df_season_fielding.append(ds_hit.append(ds_field), ignore_index=True)\n",
    "            \n",
    "            count += 1\n",
    "    \n",
    "    # The order of the columns gets messed up, so fix at the end\n",
    "    # Move 'yearID' to the front, then 'playerID' so we'll get 'playerID' 'yearID' ...\n",
    "    # Move 'all-star' to the end of the list so we'll get ... 'all-star'\n",
    "    col_name_lst = list(df_season_fielding.columns)\n",
    "    col_name_lst.insert(0, col_name_lst.pop(col_name_lst.index('yearID')))\n",
    "    col_name_lst.insert(0, col_name_lst.pop(col_name_lst.index('playerID')))\n",
    "    col_name_lst.append(col_name_lst.pop(col_name_lst.index('all-star')))\n",
    "    df_season_fielding = df_season_fielding[col_name_lst]\n",
    "\n",
    "    end_time = time.time()\n",
    "    elapsed_time = end_time - start_time\n",
    "    print(f'It took {elapsed_time} seconds to process the fielding data. count({count})')\n",
    "    \n",
    "    # Save to file so we only need to generate once    \n",
    "    df_season_fielding.to_csv('df_season_fielding.csv')"
   ]
  },
  {
   "cell_type": "markdown",
   "metadata": {},
   "source": [
    "#### Summary of career statistics"
   ]
  },
  {
   "cell_type": "code",
   "execution_count": 10,
   "metadata": {
    "scrolled": true
   },
   "outputs": [
    {
     "name": "stdout",
     "output_type": "stream",
     "text": [
      "-----------------Summary--------------------------\n",
      "Total number of pitchers - 9655\n",
      "Total number of fielders - 9574\n",
      "Total number of players - 19229\n",
      "--------------------------------------------------\n",
      "Number of pitchers in HOF (96) or  (0.994)%\n",
      "Number of fielders in HOF (134) or  (1.400)%\n",
      "Total in HOF (256) or (1.331)%\n"
     ]
    }
   ],
   "source": [
    "num_fielders = df_career_fielder.count()[0]\n",
    "num_pitchers = df_career_pitching.count()[0]\n",
    "num_players = num_fielders + num_pitchers\n",
    "num_hof = df_hof.count()\n",
    "pct_hof = (num_hof / num_players) * 100\n",
    "\n",
    "hofers = set(df_hof.unique())\n",
    "pitchers = set(df_career_pitching['playerID'].unique())\n",
    "fielders = set(df_career_fielder['playerID'].unique())\n",
    "num_hof_pitchers = len(pitchers.intersection(hofers))\n",
    "pct_hof_pitchers = (num_hof_pitchers / num_pitchers) * 100\n",
    "num_hof_fielders = len(fielders.intersection(hofers))\n",
    "pct_hof_fielders = (num_hof_fielders / num_fielders) * 100\n",
    "\n",
    "print('-----------------Summary--------------------------')\n",
    "print(f'Total number of pitchers - {num_pitchers}')\n",
    "print(f'Total number of fielders - {num_fielders}')\n",
    "print(f'Total number of players - {num_players}')\n",
    "print('--------------------------------------------------')\n",
    "print(f'Number of pitchers in HOF ({num_hof_pitchers}) or  ({pct_hof_pitchers:0.3f})%')\n",
    "print(f'Number of fielders in HOF ({num_hof_fielders}) or  ({pct_hof_fielders:0.3f})%')\n",
    "print(f'Total in HOF ({num_hof}) or ({pct_hof:0.3f})%')"
   ]
  },
  {
   "cell_type": "markdown",
   "metadata": {},
   "source": [
    "These statistics show how hard it is for a player to make the hall of fame.  This also means that the data set is exteremely unbalanced where there are more players who do NOT make the HOF than do."
   ]
  },
  {
   "cell_type": "markdown",
   "metadata": {},
   "source": [
    "#### Summary of single season statistics"
   ]
  },
  {
   "cell_type": "code",
   "execution_count": 11,
   "metadata": {},
   "outputs": [
    {
     "name": "stdout",
     "output_type": "stream",
     "text": [
      "-----------------Summary--------------------------\n",
      "Total number of seasons played   - 49390\n",
      "Total number of all-star seasons - 5291\n",
      "Percent all-star seeasons        - 10.713\n"
     ]
    }
   ],
   "source": [
    "num_seasons_played = df_season_fielding.count()[0]\n",
    "num_seasons_all_star = df_all_star.count()\n",
    "pct_seasons_all_star = (num_seasons_all_star / num_seasons_played) * 100\n",
    "print('-----------------Summary--------------------------')\n",
    "print(f'Total number of seasons played   - {num_seasons_played}')\n",
    "print(f'Total number of all-star seasons - {num_seasons_all_star}')\n",
    "print(f'Percent all-star seeasons        - {pct_seasons_all_star:0.3f}')"
   ]
  },
  {
   "cell_type": "markdown",
   "metadata": {},
   "source": [
    "## Experiments"
   ]
  },
  {
   "cell_type": "markdown",
   "metadata": {},
   "source": [
    "### Hall-of-Fame for pitchers"
   ]
  },
  {
   "cell_type": "markdown",
   "metadata": {},
   "source": [
    "##### Setup dataset"
   ]
  },
  {
   "cell_type": "code",
   "execution_count": 12,
   "metadata": {},
   "outputs": [],
   "source": [
    "# Get all data and partition into 80% training 20% test data\n",
    "train_data, test_data = train_test_split(df_career_pitching, test_size=0.2)\n",
    "\n",
    "# Get the input data and convert to numpy variables\n",
    "Xdata  = df_career_pitching.loc[:,'stint':'ZR'].values\n",
    "Xtrain =         train_data.loc[:,'stint':'ZR'].values\n",
    "Xtest  =          test_data.loc[:,'stint':'ZR'].values\n",
    "\n",
    "# Get the target values and convert to numpy variables\n",
    "Tdata  = df_career_pitching.loc[:,'HOF'].reset_index().values[:,1].reshape(-1, 1).astype(int)\n",
    "Ttrain =         train_data.loc[:,'HOF'].reset_index().values[:,1].reshape(-1, 1).astype(int)\n",
    "Ttest  =          test_data.loc[:,'HOF'].reset_index().values[:,1].reshape(-1, 1).astype(int)"
   ]
  },
  {
   "cell_type": "markdown",
   "metadata": {},
   "source": [
    "##### Find best network using 100% of the data"
   ]
  },
  {
   "cell_type": "code",
   "execution_count": 13,
   "metadata": {},
   "outputs": [
    {
     "name": "stdout",
     "output_type": "stream",
     "text": [
      "Xdata.shape((9655, 35)) Tdata.shape((9655, 1))\n",
      "num_inputs(35) class_list([0 1])\n"
     ]
    }
   ],
   "source": [
    "# Extract info from the data sets\n",
    "num_inputs = Xdata.shape[1]\n",
    "class_list = np.unique(Tdata)\n",
    "\n",
    "print(f'Xdata.shape({Xdata.shape}) Tdata.shape({Tdata.shape})')\n",
    "print(f'num_inputs({num_inputs}) class_list({class_list})')"
   ]
  },
  {
   "cell_type": "code",
   "execution_count": 14,
   "metadata": {},
   "outputs": [],
   "source": [
    "%%capture\n",
    "results = []\n",
    "results.append(run_test(num_inputs,                   [1], class_list, Xdata, Tdata, Xdata, Tdata, 1000, 'scg',  0.001, 0.0, False))\n",
    "results.append(run_test(num_inputs,                  [50], class_list, Xdata, Tdata, Xdata, Tdata, 1000, 'scg',  0.001, 0.0, False))\n",
    "results.append(run_test(num_inputs,                 [100], class_list, Xdata, Tdata, Xdata, Tdata, 1000, 'scg',  0.001, 0.0, False))\n",
    "results.append(run_test(num_inputs,                 [500], class_list, Xdata, Tdata, Xdata, Tdata, 1000, 'scg',  0.001, 0.0, False))\n",
    "results.append(run_test(num_inputs,               [1,1,1], class_list, Xdata, Tdata, Xdata, Tdata, 1000, 'scg',  0.001, 0.0, False))\n",
    "results.append(run_test(num_inputs,         [100,100,100], class_list, Xdata, Tdata, Xdata, Tdata, 1000, 'scg',  0.001, 0.0, False))\n",
    "results.append(run_test(num_inputs, [100,100,100,100,100], class_list, Xdata, Tdata, Xdata, Tdata, 1000, 'scg',  0.001, 0.0, False))"
   ]
  },
  {
   "cell_type": "code",
   "execution_count": 15,
   "metadata": {},
   "outputs": [
    {
     "name": "stdout",
     "output_type": "stream",
     "text": [
      "Test 0 - 9572 out of 9655 samples or 99.14 percent.\n",
      "Test 1 - 9644 out of 9655 samples or 99.89 percent.\n",
      "Test 2 - 9642 out of 9655 samples or 99.87 percent.\n",
      "Test 3 - 9636 out of 9655 samples or 99.80 percent.\n",
      "Test 4 - 9568 out of 9655 samples or 99.10 percent.\n",
      "Test 5 - 9640 out of 9655 samples or 99.84 percent.\n",
      "Test 6 - 9643 out of 9655 samples or 99.88 percent.\n"
     ]
    },
    {
     "data": {
      "image/png": "[encoded data removed]",
      "text/plain": [
       "<Figure size 1440x360 with 2 Axes>"
      ]
     },
     "metadata": {
      "needs_background": "light"
     },
     "output_type": "display_data"
    }
   ],
   "source": [
    "print_results(results)"
   ]
  },
  {
   "cell_type": "markdown",
   "metadata": {},
   "source": [
    "The following is just another representation of the performane of the two different networks.  It shows which samples have been incorrectly identified (0=correct, 1=incorrect).  The network on the right has manhy more correct than the left"
   ]
  },
  {
   "cell_type": "code",
   "execution_count": 16,
   "metadata": {},
   "outputs": [
    {
     "data": {
      "image/png": "[encoded data removed]",
      "text/plain": [
       "<Figure size 1440x360 with 2 Axes>"
      ]
     },
     "metadata": {
      "needs_background": "light"
     },
     "output_type": "display_data"
    }
   ],
   "source": [
    "plt.figure(figsize=(20, 5))\n",
    "plt.subplot(1, 2, 1)  \n",
    "plt.title('NN Acuracy')\n",
    "plt.xlabel('Sample number')\n",
    "plt.ylabel('correct')\n",
    "plt.plot((Tdata != results[4][3]).astype(int), 'o')\n",
    "plt.grid(True)\n",
    "plt.subplot(1, 2, 2)  \n",
    "plt.title('NN Acuracy')\n",
    "plt.xlabel('Sample number')\n",
    "plt.ylabel('correct')\n",
    "plt.plot((Tdata != results[6][3]).astype(int), 'o')\n",
    "plt.grid(True)"
   ]
  },
  {
   "cell_type": "markdown",
   "metadata": {},
   "source": [
    "#### Best network train/test partition\n",
    "With the best network from the previous experiment, use the partitioned data to see how clcose it matches the previous result."
   ]
  },
  {
   "cell_type": "code",
   "execution_count": 17,
   "metadata": {},
   "outputs": [],
   "source": [
    "%%capture\n",
    "results = []\n",
    "results.append(run_test(num_inputs, [100,100,100,100,100], class_list, Xtrain, Ttrain, Xtest, Ttest, 1000, 'scg',  0.001, 0.0, False))"
   ]
  },
  {
   "cell_type": "code",
   "execution_count": 18,
   "metadata": {},
   "outputs": [
    {
     "name": "stdout",
     "output_type": "stream",
     "text": [
      "1909 out of 1931 samples or 98.86 percent.\n"
     ]
    },
    {
     "data": {
      "image/png": "[encoded data removed]",
      "text/plain": [
       "<Figure size 1440x360 with 2 Axes>"
      ]
     },
     "metadata": {
      "needs_background": "light"
     },
     "output_type": "display_data"
    }
   ],
   "source": [
    "plt.figure(figsize=(20, 5))\n",
    "plt.subplot(1, 2, 1)  \n",
    "plt.title('Error Trae')\n",
    "plt.xlabel('Sample number')\n",
    "plt.ylabel('MSE')\n",
    "plt.plot(results[0][4], '-')\n",
    "plt.grid(True)\n",
    "plt.subplot(1, 2, 2)  \n",
    "plt.title('NN Acuracy')\n",
    "plt.xlabel('Sample number')\n",
    "plt.ylabel('correct')\n",
    "plt.plot((Ttest != results[0][3]).astype(int), 'o')\n",
    "plt.grid(True)\n",
    "print(f'{results[0][0]} out of {results[0][1]} samples or {results[0][2]:.2f} percent.')"
   ]
  },
  {
   "cell_type": "code",
   "execution_count": null,
   "metadata": {},
   "outputs": [],
   "source": []
  }
 ],
 "metadata": {
  "kernelspec": {
   "display_name": "Python 3",
   "language": "python",
   "name": "python3"
  },
  "language_info": {
   "codemirror_mode": {
    "name": "ipython",
    "version": 3
   },
   "file_extension": ".py",
   "mimetype": "text/x-python",
   "name": "python",
   "nbconvert_exporter": "python",
   "pygments_lexer": "ipython3",
   "version": "3.6.2"
  }
 },
 "nbformat": 4,
 "nbformat_minor": 2
}
