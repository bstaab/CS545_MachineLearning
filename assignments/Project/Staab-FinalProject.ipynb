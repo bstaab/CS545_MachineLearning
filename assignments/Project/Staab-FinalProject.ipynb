{
 "cells": [
  {
   "cell_type": "markdown",
   "metadata": {},
   "source": [
    "# Final Project"
   ]
  },
  {
   "cell_type": "code",
   "execution_count": null,
   "metadata": {},
   "outputs": [],
   "source": []
  },
  {
   "cell_type": "markdown",
   "metadata": {},
   "source": [
    "## Import code needed in this notebook"
   ]
  },
  {
   "cell_type": "code",
   "execution_count": 313,
   "metadata": {},
   "outputs": [],
   "source": [
    "import numpy as np\n",
    "import pandas\n",
    "import torch\n",
    "\n",
    "import time\n",
    "import os\n",
    "\n",
    "import matplotlib.pyplot as plt\n",
    "%matplotlib inline"
   ]
  },
  {
   "cell_type": "code",
   "execution_count": 309,
   "metadata": {},
   "outputs": [],
   "source": [
    "# Get a list of all players\n",
    "# Note: We only need the first column ('playerID') from this data set\n",
    "df_players = pandas.read_csv('baseballdatabank-2019.2/baseballdatabank-2019.2/core/People.csv')\n",
    "df_players = df_players['playerID']\n",
    "\n",
    "# Get batting information for all players\n",
    "# Note: For records with missing data, pandas inserts 'NaN', replace\n",
    "#       these values with a 0 for downstream processing.\n",
    "df_batting = pandas.read_csv('baseballdatabank-2019.2/baseballdatabank-2019.2/core/Batting.csv')\n",
    "df_batting.fillna(0, inplace=True)\n",
    "\n",
    "# Get fielding information for all players\n",
    "# Note: For records with missing data, pandas inserts 'NaN', replace\n",
    "#       these values with a 0 for downstream processing.\n",
    "# Note: There may be more than one entry for a specific combination of\n",
    "#       'playerID' and 'yearID'.  This occurs if a player played more than\n",
    "#       one position\n",
    "df_fielding = pandas.read_csv('baseballdatabank-2019.2/baseballdatabank-2019.2/core/Fielding.csv')\n",
    "df_fielding.fillna(0, inplace=True)\n",
    "\n",
    "# Get batting information for all players\n",
    "# The db has records of anyone (players & coaches) who received votes.\n",
    "# We only want players who were voted in\n",
    "df_hof = pandas.read_csv('baseballdatabank-2019.2/baseballdatabank-2019.2/core/HallOfFame.csv')\n",
    "df_hof.fillna(0, inplace=True)\n",
    "df_hof = df_hof.loc[(df_hof['inducted'] == 'Y') & (df_hof['category'] == 'Player')]\n",
    "df_hof = df_hof['playerID']"
   ]
  },
  {
   "cell_type": "code",
   "execution_count": 317,
   "metadata": {
    "scrolled": false
   },
   "outputs": [],
   "source": [
    "# Create new dataframe to hold career stats\n",
    "df_career = pandas.DataFrame()\n",
    "if os.path.isfile('df_career.csv'):\n",
    "    df_career = pandas.read_csv('df_career.csv')\n",
    "else:\n",
    "    for player in df_players:\n",
    "        # Get all fielding data for this player\n",
    "        df_tmp = df_fielding.loc[df_fielding['playerID'] == player]\n",
    "\n",
    "        # Sum each column\n",
    "        ds = df_tmp.sum()\n",
    "\n",
    "        # The player name is a string and is concatenated when summed\n",
    "        # replace with a single instance of the players name\n",
    "        ds['playerID'] = player\n",
    "\n",
    "        # This might not be necessary, but we'll set the 'stint' field\n",
    "        # the total number of years played (a.k.a. number of uniques years)\n",
    "        ds['stint'] = df_tmp['yearID'].nunique()\n",
    "\n",
    "        # Remove the data points I don't care about\n",
    "        ds.drop(['yearID', 'teamID', 'lgID', 'POS'], inplace=True, errors='ignore')\n",
    "\n",
    "        # Add data set to data frame\n",
    "        df_career = df_career.append(ds, ignore_index=True)\n",
    "\n",
    "    # Save to file so we only need to generate once    \n",
    "    df_career.to_csv('df_career.csv')"
   ]
  },
  {
   "cell_type": "code",
   "execution_count": 316,
   "metadata": {},
   "outputs": [
    {
     "data": {
      "text/plain": [
       "19617"
      ]
     },
     "execution_count": 316,
     "metadata": {},
     "output_type": "execute_result"
    }
   ],
   "source": [
    "df_career.count()[0]"
   ]
  },
  {
   "cell_type": "code",
   "execution_count": 301,
   "metadata": {},
   "outputs": [
    {
     "data": {
      "text/plain": [
       "256"
      ]
     },
     "execution_count": 301,
     "metadata": {},
     "output_type": "execute_result"
    }
   ],
   "source": [
    "df_hof.count()[0]"
   ]
  },
  {
   "cell_type": "code",
   "execution_count": 306,
   "metadata": {},
   "outputs": [
    {
     "name": "stdout",
     "output_type": "stream",
     "text": [
      "   playerID  yearID votedBy  ballots  needed  votes inducted category  \\\n",
      "1  ruthba01    1936   BBWAA    226.0   170.0  215.0        Y   Player   \n",
      "\n",
      "  needed_note  \n",
      "1           0  \n"
     ]
    }
   ],
   "source": [
    "print(df_hof.loc[[1]])"
   ]
  },
  {
   "cell_type": "code",
   "execution_count": 311,
   "metadata": {},
   "outputs": [
    {
     "data": {
      "text/html": [
       "<div>\n",
       "<style scoped>\n",
       "    .dataframe tbody tr th:only-of-type {\n",
       "        vertical-align: middle;\n",
       "    }\n",
       "\n",
       "    .dataframe tbody tr th {\n",
       "        vertical-align: top;\n",
       "    }\n",
       "\n",
       "    .dataframe thead th {\n",
       "        text-align: right;\n",
       "    }\n",
       "</style>\n",
       "<table border=\"1\" class=\"dataframe\">\n",
       "  <thead>\n",
       "    <tr style=\"text-align: right;\">\n",
       "      <th></th>\n",
       "      <th>A</th>\n",
       "      <th>CS</th>\n",
       "      <th>DP</th>\n",
       "      <th>E</th>\n",
       "      <th>G</th>\n",
       "      <th>GS</th>\n",
       "      <th>InnOuts</th>\n",
       "      <th>PB</th>\n",
       "      <th>PO</th>\n",
       "      <th>SB</th>\n",
       "      <th>WP</th>\n",
       "      <th>ZR</th>\n",
       "      <th>playerID</th>\n",
       "      <th>stint</th>\n",
       "    </tr>\n",
       "  </thead>\n",
       "  <tbody>\n",
       "    <tr>\n",
       "      <td>0</td>\n",
       "      <td>29.0</td>\n",
       "      <td>0.0</td>\n",
       "      <td>2.0</td>\n",
       "      <td>3.0</td>\n",
       "      <td>331.0</td>\n",
       "      <td>0.0</td>\n",
       "      <td>1011.0</td>\n",
       "      <td>0.0</td>\n",
       "      <td>11.0</td>\n",
       "      <td>0.0</td>\n",
       "      <td>0.0</td>\n",
       "      <td>0.0</td>\n",
       "      <td>aardsda01</td>\n",
       "      <td>9.0</td>\n",
       "    </tr>\n",
       "    <tr>\n",
       "      <td>1</td>\n",
       "      <td>429.0</td>\n",
       "      <td>0.0</td>\n",
       "      <td>218.0</td>\n",
       "      <td>144.0</td>\n",
       "      <td>3020.0</td>\n",
       "      <td>2977.0</td>\n",
       "      <td>78414.0</td>\n",
       "      <td>0.0</td>\n",
       "      <td>7436.0</td>\n",
       "      <td>0.0</td>\n",
       "      <td>0.0</td>\n",
       "      <td>0.0</td>\n",
       "      <td>aaronha01</td>\n",
       "      <td>23.0</td>\n",
       "    </tr>\n",
       "    <tr>\n",
       "      <td>2</td>\n",
       "      <td>113.0</td>\n",
       "      <td>0.0</td>\n",
       "      <td>124.0</td>\n",
       "      <td>22.0</td>\n",
       "      <td>387.0</td>\n",
       "      <td>206.0</td>\n",
       "      <td>6472.0</td>\n",
       "      <td>0.0</td>\n",
       "      <td>1317.0</td>\n",
       "      <td>0.0</td>\n",
       "      <td>0.0</td>\n",
       "      <td>0.0</td>\n",
       "      <td>aaronto01</td>\n",
       "      <td>7.0</td>\n",
       "    </tr>\n",
       "    <tr>\n",
       "      <td>3</td>\n",
       "      <td>135.0</td>\n",
       "      <td>0.0</td>\n",
       "      <td>10.0</td>\n",
       "      <td>13.0</td>\n",
       "      <td>448.0</td>\n",
       "      <td>91.0</td>\n",
       "      <td>3328.0</td>\n",
       "      <td>0.0</td>\n",
       "      <td>67.0</td>\n",
       "      <td>0.0</td>\n",
       "      <td>0.0</td>\n",
       "      <td>0.0</td>\n",
       "      <td>aasedo01</td>\n",
       "      <td>13.0</td>\n",
       "    </tr>\n",
       "    <tr>\n",
       "      <td>4</td>\n",
       "      <td>1.0</td>\n",
       "      <td>0.0</td>\n",
       "      <td>3.0</td>\n",
       "      <td>1.0</td>\n",
       "      <td>9.0</td>\n",
       "      <td>4.0</td>\n",
       "      <td>138.0</td>\n",
       "      <td>0.0</td>\n",
       "      <td>37.0</td>\n",
       "      <td>0.0</td>\n",
       "      <td>0.0</td>\n",
       "      <td>0.0</td>\n",
       "      <td>abadan01</td>\n",
       "      <td>2.0</td>\n",
       "    </tr>\n",
       "    <tr>\n",
       "      <td>...</td>\n",
       "      <td>...</td>\n",
       "      <td>...</td>\n",
       "      <td>...</td>\n",
       "      <td>...</td>\n",
       "      <td>...</td>\n",
       "      <td>...</td>\n",
       "      <td>...</td>\n",
       "      <td>...</td>\n",
       "      <td>...</td>\n",
       "      <td>...</td>\n",
       "      <td>...</td>\n",
       "      <td>...</td>\n",
       "      <td>...</td>\n",
       "      <td>...</td>\n",
       "    </tr>\n",
       "    <tr>\n",
       "      <td>19612</td>\n",
       "      <td>1.0</td>\n",
       "      <td>1.0</td>\n",
       "      <td>0.0</td>\n",
       "      <td>2.0</td>\n",
       "      <td>13.0</td>\n",
       "      <td>1.0</td>\n",
       "      <td>114.0</td>\n",
       "      <td>1.0</td>\n",
       "      <td>31.0</td>\n",
       "      <td>2.0</td>\n",
       "      <td>1.0</td>\n",
       "      <td>0.0</td>\n",
       "      <td>zupofr01</td>\n",
       "      <td>3.0</td>\n",
       "    </tr>\n",
       "    <tr>\n",
       "      <td>19613</td>\n",
       "      <td>415.0</td>\n",
       "      <td>0.0</td>\n",
       "      <td>84.0</td>\n",
       "      <td>23.0</td>\n",
       "      <td>201.0</td>\n",
       "      <td>136.0</td>\n",
       "      <td>3844.0</td>\n",
       "      <td>0.0</td>\n",
       "      <td>267.0</td>\n",
       "      <td>0.0</td>\n",
       "      <td>0.0</td>\n",
       "      <td>0.0</td>\n",
       "      <td>zuvelpa01</td>\n",
       "      <td>9.0</td>\n",
       "    </tr>\n",
       "    <tr>\n",
       "      <td>19614</td>\n",
       "      <td>145.0</td>\n",
       "      <td>0.0</td>\n",
       "      <td>10.0</td>\n",
       "      <td>7.0</td>\n",
       "      <td>265.0</td>\n",
       "      <td>31.0</td>\n",
       "      <td>1847.0</td>\n",
       "      <td>0.0</td>\n",
       "      <td>45.0</td>\n",
       "      <td>0.0</td>\n",
       "      <td>0.0</td>\n",
       "      <td>0.0</td>\n",
       "      <td>zuverge01</td>\n",
       "      <td>8.0</td>\n",
       "    </tr>\n",
       "    <tr>\n",
       "      <td>19615</td>\n",
       "      <td>37.0</td>\n",
       "      <td>0.0</td>\n",
       "      <td>10.0</td>\n",
       "      <td>25.0</td>\n",
       "      <td>342.0</td>\n",
       "      <td>27.0</td>\n",
       "      <td>654.0</td>\n",
       "      <td>0.0</td>\n",
       "      <td>755.0</td>\n",
       "      <td>0.0</td>\n",
       "      <td>0.0</td>\n",
       "      <td>0.0</td>\n",
       "      <td>zwilldu01</td>\n",
       "      <td>4.0</td>\n",
       "    </tr>\n",
       "    <tr>\n",
       "      <td>19616</td>\n",
       "      <td>6.0</td>\n",
       "      <td>0.0</td>\n",
       "      <td>0.0</td>\n",
       "      <td>1.0</td>\n",
       "      <td>70.0</td>\n",
       "      <td>1.0</td>\n",
       "      <td>218.0</td>\n",
       "      <td>0.0</td>\n",
       "      <td>1.0</td>\n",
       "      <td>0.0</td>\n",
       "      <td>0.0</td>\n",
       "      <td>0.0</td>\n",
       "      <td>zychto01</td>\n",
       "      <td>3.0</td>\n",
       "    </tr>\n",
       "  </tbody>\n",
       "</table>\n",
       "<p>19617 rows × 14 columns</p>\n",
       "</div>"
      ],
      "text/plain": [
       "           A   CS     DP      E       G      GS  InnOuts   PB      PO   SB  \\\n",
       "0       29.0  0.0    2.0    3.0   331.0     0.0   1011.0  0.0    11.0  0.0   \n",
       "1      429.0  0.0  218.0  144.0  3020.0  2977.0  78414.0  0.0  7436.0  0.0   \n",
       "2      113.0  0.0  124.0   22.0   387.0   206.0   6472.0  0.0  1317.0  0.0   \n",
       "3      135.0  0.0   10.0   13.0   448.0    91.0   3328.0  0.0    67.0  0.0   \n",
       "4        1.0  0.0    3.0    1.0     9.0     4.0    138.0  0.0    37.0  0.0   \n",
       "...      ...  ...    ...    ...     ...     ...      ...  ...     ...  ...   \n",
       "19612    1.0  1.0    0.0    2.0    13.0     1.0    114.0  1.0    31.0  2.0   \n",
       "19613  415.0  0.0   84.0   23.0   201.0   136.0   3844.0  0.0   267.0  0.0   \n",
       "19614  145.0  0.0   10.0    7.0   265.0    31.0   1847.0  0.0    45.0  0.0   \n",
       "19615   37.0  0.0   10.0   25.0   342.0    27.0    654.0  0.0   755.0  0.0   \n",
       "19616    6.0  0.0    0.0    1.0    70.0     1.0    218.0  0.0     1.0  0.0   \n",
       "\n",
       "        WP   ZR   playerID  stint  \n",
       "0      0.0  0.0  aardsda01    9.0  \n",
       "1      0.0  0.0  aaronha01   23.0  \n",
       "2      0.0  0.0  aaronto01    7.0  \n",
       "3      0.0  0.0   aasedo01   13.0  \n",
       "4      0.0  0.0   abadan01    2.0  \n",
       "...    ...  ...        ...    ...  \n",
       "19612  1.0  0.0   zupofr01    3.0  \n",
       "19613  0.0  0.0  zuvelpa01    9.0  \n",
       "19614  0.0  0.0  zuverge01    8.0  \n",
       "19615  0.0  0.0  zwilldu01    4.0  \n",
       "19616  0.0  0.0   zychto01    3.0  \n",
       "\n",
       "[19617 rows x 14 columns]"
      ]
     },
     "execution_count": 311,
     "metadata": {},
     "output_type": "execute_result"
    }
   ],
   "source": [
    "df_career"
   ]
  },
  {
   "cell_type": "code",
   "execution_count": 312,
   "metadata": {},
   "outputs": [],
   "source": []
  },
  {
   "cell_type": "code",
   "execution_count": null,
   "metadata": {},
   "outputs": [],
   "source": []
  },
  {
   "cell_type": "code",
   "execution_count": 314,
   "metadata": {},
   "outputs": [
    {
     "name": "stdout",
     "output_type": "stream",
     "text": [
      "True\n"
     ]
    }
   ],
   "source": [
    "if os.path.isfile('df_career.csv'):\n",
    "    print(\"True\")\n",
    "else:\n",
    "    print(\"false\")"
   ]
  },
  {
   "cell_type": "code",
   "execution_count": null,
   "metadata": {},
   "outputs": [],
   "source": []
  },
  {
   "cell_type": "code",
   "execution_count": null,
   "metadata": {},
   "outputs": [],
   "source": []
  },
  {
   "cell_type": "code",
   "execution_count": null,
   "metadata": {},
   "outputs": [],
   "source": []
  },
  {
   "cell_type": "code",
   "execution_count": null,
   "metadata": {},
   "outputs": [],
   "source": []
  },
  {
   "cell_type": "code",
   "execution_count": 285,
   "metadata": {},
   "outputs": [],
   "source": [
    "foo = df_fielding.loc[df_fielding['playerID'] == 'yelicch01']\n",
    "#foo"
   ]
  },
  {
   "cell_type": "code",
   "execution_count": 176,
   "metadata": {},
   "outputs": [
    {
     "data": {
      "text/plain": [
       "'yelicch01yelicch01yelicch01yelicch01yelicch01yelicch01'"
      ]
     },
     "execution_count": 176,
     "metadata": {},
     "output_type": "execute_result"
    }
   ],
   "source": [
    "df_fielding.loc[df_fielding['playerID'] == 'yelicch01'].sum()['playerID']"
   ]
  },
  {
   "cell_type": "code",
   "execution_count": 177,
   "metadata": {},
   "outputs": [
    {
     "data": {
      "text/plain": [
       "teamID    MIAMIAMIAMIAMIAMIL\n",
       "dtype: object"
      ]
     },
     "execution_count": 177,
     "metadata": {},
     "output_type": "execute_result"
    }
   ],
   "source": [
    "foo.iloc[:,3:4].sum(axis=0)"
   ]
  },
  {
   "cell_type": "code",
   "execution_count": null,
   "metadata": {},
   "outputs": [],
   "source": []
  },
  {
   "cell_type": "code",
   "execution_count": null,
   "metadata": {},
   "outputs": [],
   "source": []
  },
  {
   "cell_type": "code",
   "execution_count": null,
   "metadata": {},
   "outputs": [],
   "source": []
  },
  {
   "cell_type": "code",
   "execution_count": null,
   "metadata": {},
   "outputs": [],
   "source": []
  },
  {
   "cell_type": "code",
   "execution_count": null,
   "metadata": {},
   "outputs": [],
   "source": []
  },
  {
   "cell_type": "code",
   "execution_count": null,
   "metadata": {},
   "outputs": [],
   "source": []
  },
  {
   "cell_type": "code",
   "execution_count": null,
   "metadata": {},
   "outputs": [],
   "source": []
  },
  {
   "cell_type": "code",
   "execution_count": null,
   "metadata": {},
   "outputs": [],
   "source": []
  },
  {
   "cell_type": "code",
   "execution_count": null,
   "metadata": {},
   "outputs": [],
   "source": []
  },
  {
   "cell_type": "code",
   "execution_count": null,
   "metadata": {},
   "outputs": [],
   "source": []
  }
 ],
 "metadata": {
  "kernelspec": {
   "display_name": "Python 3",
   "language": "python",
   "name": "python3"
  },
  "language_info": {
   "codemirror_mode": {
    "name": "ipython",
    "version": 3
   },
   "file_extension": ".py",
   "mimetype": "text/x-python",
   "name": "python",
   "nbconvert_exporter": "python",
   "pygments_lexer": "ipython3",
   "version": "3.6.2"
  }
 },
 "nbformat": 4,
 "nbformat_minor": 2
}
