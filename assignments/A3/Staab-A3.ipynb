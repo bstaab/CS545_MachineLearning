{
 "cells": [
  {
   "cell_type": "markdown",
   "metadata": {},
   "source": [
    "# A3.3 Classification\n",
    "\n",
    "* 3.3 Changed `_objective_to_actual` back to simpler form.  Source is later in this notebook.  An error in code cell [43] has been corrected, but this does not affect the output of any other code cells. Also, a simple error in `optimizers.py` has been fixed so download `A3code.zip` again and unzip it.  And `A3grader.zip` is finally available.\n",
    "* 3.2: Added the code for `_objective_to_actual` and more calls to set the random number seed each place it is needed to help you test your code. Also made small change in `neuralnetworks.py`, so please download `A3code.zip` again and unzip it.\n",
    "* 3.1: Replaced example output from `python neuralnetworks.py` with correct values.  Added call to `np.random.seed` to set the seed value for the random number generator so your example runs will produce same output as the output included here."
   ]
  },
  {
   "cell_type": "markdown",
   "metadata": {},
   "source": [
    "*by Chuck Anderson for [CS545: Machine Learning](https://www.cs.colostate.edu/~anderson/cs545) at Colorado State University*"
   ]
  },
  {
   "cell_type": "markdown",
   "metadata": {},
   "source": [
    "In this assignment you will define a new class named `NeuralNetworkClassifier` that extends the given class `NeuralNetwork`.  Your new class will reuse most of the code in its parent class, but you will have to define the parts of the code that differ to allow the network to do classification. \n",
    "\n",
    "To learn a bit about how to call methods in a parent class, take a look at this\n",
    "[introduction to inheritance](https://realpython.com/python-super/) and examples of using `super()`."
   ]
  },
  {
   "cell_type": "markdown",
   "metadata": {},
   "source": [
    "Start by downloading [A3code.zip](https://www.cs.colostate.edu/~anderson/cs545/notebooks/A3code.zip).  Unzip this and you should see these files:\n",
    "\n",
    "*  `mlutilities.py`\n",
    "*  `neuralnetworks.py`\n",
    "*  `optimizers.py`"
   ]
  },
  {
   "cell_type": "markdown",
   "metadata": {},
   "source": [
    "If you just run `neuralnetworks.py` you should see the following result. Your times will be different but the RMSE values should be very close to these.\n",
    "\n",
    "```\n",
    "$ python neuralnetworks.py \n",
    "Called np.random.seed(42)\n",
    "scg  [] use_torch=False RMSE 7.266 took 0.001 seconds\n",
    "scg  [5, 5] use_torch=False RMSE 0.809 took 0.100 seconds\n",
    "sgd  [5, 5] use_torch=False RMSE 0.635 took 0.035 seconds\n",
    "adam [5, 5] use_torch=False RMSE 0.196 took 0.037 seconds\n",
    "scg  [] use_torch=True RMSE 7.266 took 2.429 seconds\n",
    "scg  [5, 5] use_torch=True RMSE 0.220 took 6.137 seconds\n",
    "sgd  [5, 5] use_torch=True RMSE 0.757 took 1.983 seconds\n",
    "adam [5, 5] use_torch=True RMSE 0.240 took 1.947 seconds\n",
    "\n",
    "\n",
    "```"
   ]
  },
  {
   "cell_type": "code",
   "execution_count": 2,
   "metadata": {},
   "outputs": [
    {
     "name": "stdout",
     "output_type": "stream",
     "text": [
      "Called np.random.seed(42)\n",
      "scg  [] use_torch=False RMSE 7.266 took 0.001 seconds\n",
      "scg  [5, 5] use_torch=False RMSE 0.809 took 0.091 seconds\n",
      "sgd  [5, 5] use_torch=False RMSE 0.635 took 0.042 seconds\n",
      "adam [5, 5] use_torch=False RMSE 0.196 took 0.044 seconds\n",
      "scg  [] use_torch=True RMSE 7.266 took 2.083 seconds\n",
      "scg  [5, 5] use_torch=True RMSE 0.220 took 5.472 seconds\n",
      "sgd  [5, 5] use_torch=True RMSE 0.757 took 1.790 seconds\n",
      "adam [5, 5] use_torch=True RMSE 0.240 took 1.806 seconds\n"
     ]
    }
   ],
   "source": [
    "!python neuralnetworks.py"
   ]
  },
  {
   "cell_type": "markdown",
   "metadata": {},
   "source": [
    "# Changes Required\n",
    "\n",
    "The first line of your new class definition will be\n",
    "\n",
    "```\n",
    "   .\n",
    "   .\n",
    "   .\n",
    "import neuralnetworks as nn\n",
    "\n",
    "class NeuralNetworkClassifier(nn.NeuralNetwork):\n",
    "   .\n",
    "   .\n",
    "   .```\n",
    "\n",
    "Only one change is required in the arguments for all functions, and the change is in the constructor arguments.  The constructor must be dchanged from how it is defined in the `NeuralNetwork` class\n",
    "```\n",
    "    def __init__(self, n_inputs, n_hiddens_list, n_outputs, use_torch=False):\n",
    "```\n",
    "to\n",
    "```\n",
    "    def __init__(self, n_inputs, n_hiddens_list, classes, use_torch=False):\n",
    "```\n",
    "where ```classes``` is just a list of class integer names, like `[1, 2, 3]`."
   ]
  },
  {
   "cell_type": "markdown",
   "metadata": {},
   "source": [
    "The only methods that you will have to include in your new `NeuralNetworkClassifier` are\n",
    "```\n",
    "__init__\n",
    "__repr__\n",
    "_standardizeT\n",
    "_unstandardizeT\n",
    "_forward_pass\n",
    "_objectiveF\n",
    "_objective_to_actual\n",
    "train\n",
    "use\n",
    "```\n",
    "\n",
    "You may introduce new methods that these use, such as\n",
    "```\n",
    "_make_indicator_variables```"
   ]
  },
  {
   "cell_type": "markdown",
   "metadata": {},
   "source": [
    "## Definition of `NeuralNetworkClassifier`"
   ]
  },
  {
   "cell_type": "markdown",
   "metadata": {},
   "source": [
    "Here is a start at defining your new class.  This bit of code includes everything you will need in the constructor."
   ]
  },
  {
   "cell_type": "code",
   "execution_count": 3,
   "metadata": {},
   "outputs": [],
   "source": [
    "import numpy as np\n",
    "import matplotlib.pyplot as plt\n",
    "import copy\n",
    "import sys\n",
    "\n",
    "import torch\n",
    "import mlutilities as ml  # for ml.draw\n",
    "import optimizers as opt  # for opt.sgd, opt.adam, and opt.scg\n",
    "\n",
    "import neuralnetworks as nn\n",
    "\n",
    "# Extend the nn.NeuralNetwork class to reuse much of its implementation\n",
    "# Only those methods that must be altered to do classification are defined in NeuralNetworkClassifier\n",
    "class NeuralNetworkClassifier(nn.NeuralNetwork):\n",
    "\n",
    "    # Constructor\n",
    "    def __init__(self, n_inputs, n_hiddens_list, classes, use_torch=False):\n",
    "\n",
    "        # Force n_hidens_list to be a list\n",
    "        if not isinstance(n_hiddens_list, list):\n",
    "            raise Exception('NeuralNetworkClassifier: n_hiddens_list must be a list.')\n",
    " \n",
    "        # Call the constructor for NeuralNetwork, passing in the number of unique class names (ints)\n",
    "        # as the number of outputs\n",
    "        super().__init__(n_inputs, n_hiddens_list, len(classes), use_torch)\n",
    "\n",
    "        # Store as member variables other things needed by instances of this class.\n",
    "        self.classes = np.array(classes) # to allow argmax in use()\n",
    "        \n",
    "        if use_torch:\n",
    "            self.log = torch.log\n",
    "            self.exp = torch.exp\n",
    "        else:\n",
    "            self.log = np.log\n",
    "            self.exp = np.exp\n",
    "\n",
    "    # insert the rest of your class methods here.\n",
    "    def __repr__(self):\n",
    "        str = f'{type(self).__name__}({self.n_inputs}, {self.n_hiddens_list}, {self.classes}, use_torch={self.use_torch})'\n",
    "        if self.trained:\n",
    "            str += f'\\n   Network was trained for {self.n_epochs} epochs'\n",
    "            str += f' that took {self.training_time:.4f} seconds. Final objective value is {self.error_trace[-1]:.3f}'\n",
    "        else:\n",
    "            str += '  Network is not trained.'\n",
    "        return str\n",
    "    \n",
    "    def _standardizeT(self, T):\n",
    "        return T\n",
    "    \n",
    "    def _unstandardizeT(self, T):\n",
    "        return T\n",
    "    \n",
    "    def _forward_pass(self, X):\n",
    "        Y, Z = super()._forward_pass(X)\n",
    "        Y = self.g(Y)\n",
    "        \n",
    "        return Y, Z\n",
    "        \n",
    "    def _objectiveF(self, w, X, T):\n",
    "        # Base implementation is:\n",
    "        #   self._unpack(w)\n",
    "        #   Y, _ = self._forward_pass(X)\n",
    "        #   return 0.5 * self.mean((T - Y)**2)\n",
    "        #\n",
    "        self._unpack(w)\n",
    "        Y, _ = self._forward_pass(X)\n",
    "        #return -np.mean(np.log(Y) * T_indicator_vars)\n",
    "        return -np.mean(np.log(Y) * T)\n",
    "        \n",
    "    def _objective_to_actual(self, neg_mean_log_likelihood):\n",
    "        return self.exp(- neg_mean_log_likelihood)\n",
    "    \n",
    "    def train(self, X, T, n_epochs, method='scg',\n",
    "              verbose=False, save_weights_history=False,\n",
    "              learning_rate=0.001, momentum_rate=0.0): # only for sgd and adam\n",
    "        \n",
    "        T_indicator_vars = self._make_indicator_variables(T)\n",
    "        return super().train(X, T_indicator_vars, n_epochs, method,\n",
    "                          verbose, save_weights_history,\n",
    "                          learning_rate, momentum_rate)\n",
    "    \n",
    "    def train__ORIGINAL(self, X, T, n_epochs, method='scg',\n",
    "              verbose=False, save_weights_history=False,\n",
    "              learning_rate=0.001, momentum_rate=0.0): # only for sgd and adam\n",
    "\n",
    "        if X.shape[1] != self.n_inputs:\n",
    "            raise Exception(f'train: number of columns in X ({X.shape[1]}) not equal to number of network inputs ({self.n_inputs})')\n",
    "        \n",
    "        if self.use_torch:\n",
    "            X = torch.tensor(X, dtype=torch.float)  # 32 bit\n",
    "            T = torch.tensor(T, dtype=torch.float)\n",
    "\n",
    "        # Convert target values to \n",
    "        T = self._make_indicator_variables(T)\n",
    "        ####    \n",
    "            \n",
    "        self._setup_standardize(X, T)\n",
    "        X = self._standardizeX(X)\n",
    "        T = self._standardizeT(T)\n",
    "        \n",
    "        try:\n",
    "            algo = [opt.sgd, opt.adam, opt.scg][['sgd', 'adam', 'scg'].index(method)]\n",
    "        except:\n",
    "            raise Exception(\"train: method={method} not one of 'scg', 'sgd' or 'adam'\")            \n",
    "\n",
    "        result = algo(self._pack(self.Vs, self.W),\n",
    "                      self._objectiveF,                  # Need to fix this\n",
    "                      [X, T], \n",
    "                      n_epochs, \n",
    "                      self._gradientF,                   # USE BASE CLASS IMPLEMENTATION\n",
    "                      eval_f=self._objective_to_actual,  # GIVEN BY INSTRUCTOR\n",
    "                      learning_rate=learning_rate,      \n",
    "                      momentum_rate=momentum_rate,\n",
    "                      verbose=verbose, \n",
    "                      use_torch=self.use_torch,\n",
    "                      save_wtrace=save_weights_history)\n",
    "\n",
    "        self._unpack(result['w'])\n",
    "        self.reason = result['reason']\n",
    "        self.error_trace = result['ftrace'] # * self.Tstds # to _unstandardize the MSEs\n",
    "        self.n_epochs = len(self.error_trace) - 1\n",
    "        self.trained = True\n",
    "        self.weight_history = result['wtrace'] if save_weights_history else None\n",
    "        self.training_time = result['time']\n",
    "        return self\n",
    "    \n",
    "    def use_orig(self, X, all_outputs=False):\n",
    "        # BASE IMPLEMENTATION\n",
    "        #  if self.use_torch:\n",
    "        #      if not isinstance(X, torch.Tensor):\n",
    "        #          X = torch.tensor(X, dtype=torch.float)\n",
    "        #  X = self._standardizeX(X)\n",
    "        #  Y, Z = self._forward_pass(X)\n",
    "        #  Y = self._unstandardizeT(Y)\n",
    "        #  if self.use_torch:\n",
    "        #      Y = Y.detach().cpu().numpy()\n",
    "        #      Z = [Zi.detach().cpu().numpy() for Zi in Z]\n",
    "        #  return (Y, Z[1:]) if all_outputs else Y\n",
    "        \n",
    "        return super().use(X, all_outputs)\n",
    "       #return np.argmax(Y,axis=1)\n",
    "        \n",
    "    def use(self, X, all_outputs=False):\n",
    "        if self.use_torch:\n",
    "            if not isinstance(X, torch.Tensor):\n",
    "                X = torch.tensor(X, dtype=torch.float)\n",
    "        X = self._standardizeX(X)\n",
    "        Y, Z = self._forward_pass(X)\n",
    "        Y = self._unstandardizeT(Y)\n",
    "        Y_classes = np.argmax(Y,axis=1).reshape((-1, 1))\n",
    "        if self.use_torch:\n",
    "            Y = Y.detach().cpu().numpy()\n",
    "            Z = [Zi.detach().cpu().numpy() for Zi in Z]\n",
    "        #return (Y, Z[1:]) if all_outputs else Y\n",
    "        return (Y_classes, Y, Z[1:]) if all_outputs else Y_classes, Y\n",
    "        \n",
    "    # Function to convert a list of target values into an array \n",
    "    # of 'indicator variables'\n",
    "    def _make_indicator_variables(self, T):\n",
    "        # Make sure T is two-dimensiona. Should be nSamples x 1.\n",
    "        if T.ndim == 1:\n",
    "            T = T.reshape((-1,1))    \n",
    "        return (T == np.unique(T)).astype(int)\n",
    "    \n",
    "    def g(self, Y):\n",
    "        fs = np.exp(Y)\n",
    "        denom = np.sum(fs, axis=1).reshape((-1,1))\n",
    "        gs = fs / denom\n",
    "        return gs"
   ]
  },
  {
   "cell_type": "markdown",
   "metadata": {},
   "source": [
    "## Example Tests\n",
    "\n",
    "Here are some tests of your code and what the results should show.  First the original `NeuralNetwork` class methods are called then the new ones you define in `NeuralNetworkClassifier`."
   ]
  },
  {
   "cell_type": "code",
   "execution_count": 4,
   "metadata": {},
   "outputs": [],
   "source": [
    "import numpy as np\n",
    "import matplotlib.pyplot as plt\n",
    "%matplotlib inline\n",
    "\n",
    "import neuralnetworks as nn"
   ]
  },
  {
   "cell_type": "markdown",
   "metadata": {},
   "source": [
    "Here is some toy data.  Input samples have two components, and all values are from 0 to 1.9.  Two targets are defined. The first is the square of of the first input component.  The second is the sine of the second component."
   ]
  },
  {
   "cell_type": "code",
   "execution_count": 5,
   "metadata": {},
   "outputs": [
    {
     "data": {
      "text/plain": [
       "((10, 2), (10, 2))"
      ]
     },
     "execution_count": 5,
     "metadata": {},
     "output_type": "execute_result"
    }
   ],
   "source": [
    "X = np.arange(20).reshape((10, 2)) * 0.1\n",
    "T = np.hstack((X[:, 0:1]**2, np.sin(X[:, 1:2])))\n",
    "X.shape, T.shape"
   ]
  },
  {
   "cell_type": "code",
   "execution_count": 6,
   "metadata": {},
   "outputs": [
    {
     "data": {
      "text/plain": [
       "array([[0. , 0.1],\n",
       "       [0.2, 0.3],\n",
       "       [0.4, 0.5],\n",
       "       [0.6, 0.7],\n",
       "       [0.8, 0.9],\n",
       "       [1. , 1.1],\n",
       "       [1.2, 1.3],\n",
       "       [1.4, 1.5],\n",
       "       [1.6, 1.7],\n",
       "       [1.8, 1.9]])"
      ]
     },
     "execution_count": 6,
     "metadata": {},
     "output_type": "execute_result"
    }
   ],
   "source": [
    "X"
   ]
  },
  {
   "cell_type": "code",
   "execution_count": 7,
   "metadata": {},
   "outputs": [
    {
     "data": {
      "text/plain": [
       "array([[0.        , 0.09983342],\n",
       "       [0.04      , 0.29552021],\n",
       "       [0.16      , 0.47942554],\n",
       "       [0.36      , 0.64421769],\n",
       "       [0.64      , 0.78332691],\n",
       "       [1.        , 0.89120736],\n",
       "       [1.44      , 0.96355819],\n",
       "       [1.96      , 0.99749499],\n",
       "       [2.56      , 0.99166481],\n",
       "       [3.24      , 0.94630009]])"
      ]
     },
     "execution_count": 7,
     "metadata": {},
     "output_type": "execute_result"
    }
   ],
   "source": [
    "T"
   ]
  },
  {
   "cell_type": "code",
   "execution_count": 8,
   "metadata": {},
   "outputs": [
    {
     "data": {
      "image/png": "[encoded data removed]",
      "text/plain": [
       "<Figure size 432x288 with 1 Axes>"
      ]
     },
     "metadata": {
      "needs_background": "light"
     },
     "output_type": "display_data"
    }
   ],
   "source": [
    "plt.plot(T)\n",
    "plt.xlabel('Sample Index')\n",
    "plt.legend(['Square', 'Sine']);"
   ]
  },
  {
   "cell_type": "code",
   "execution_count": 9,
   "metadata": {},
   "outputs": [
    {
     "data": {
      "text/plain": [
       "NeuralNetwork(2, [10, 10], 2, use_torch=False)  Network is not trained."
      ]
     },
     "execution_count": 9,
     "metadata": {},
     "output_type": "execute_result"
    }
   ],
   "source": [
    "np.random.seed(42)  # only to help you compare your output to mine.  Do not use otherwise.\n",
    "\n",
    "nnet = nn.NeuralNetwork(2, [10, 10], 2)\n",
    "nnet"
   ]
  },
  {
   "cell_type": "code",
   "execution_count": 10,
   "metadata": {},
   "outputs": [
    {
     "data": {
      "text/plain": [
       "NeuralNetwork(2, [10, 10], 2, use_torch=False)\n",
       "   Network was trained for 50 epochs that took 0.0311 seconds. Final objective value is 0.074"
      ]
     },
     "execution_count": 10,
     "metadata": {},
     "output_type": "execute_result"
    }
   ],
   "source": [
    "nnet.train(X, T, 50, method='scg')\n",
    "nnet"
   ]
  },
  {
   "cell_type": "code",
   "execution_count": 11,
   "metadata": {},
   "outputs": [
    {
     "data": {
      "image/png": "[encoded data removed]",
      "text/plain": [
       "<Figure size 432x288 with 1 Axes>"
      ]
     },
     "metadata": {
      "needs_background": "light"
     },
     "output_type": "display_data"
    }
   ],
   "source": [
    "plt.plot(nnet.get_error_trace())\n",
    "plt.xlabel('Epoch')\n",
    "plt.ylabel('RMSE');"
   ]
  },
  {
   "cell_type": "code",
   "execution_count": 12,
   "metadata": {},
   "outputs": [
    {
     "data": {
      "text/plain": [
       "NeuralNetwork(2, [10, 10], 2, use_torch=False)\n",
       "   Network was trained for 50 epochs that took 0.0311 seconds. Final objective value is 0.074"
      ]
     },
     "execution_count": 12,
     "metadata": {},
     "output_type": "execute_result"
    }
   ],
   "source": [
    "nnet"
   ]
  },
  {
   "cell_type": "code",
   "execution_count": 13,
   "metadata": {},
   "outputs": [
    {
     "data": {
      "image/png": "[encoded data removed]",
      "text/plain": [
       "<Figure size 432x288 with 1 Axes>"
      ]
     },
     "metadata": {
      "needs_background": "light"
     },
     "output_type": "display_data"
    }
   ],
   "source": [
    "Y = nnet.use(X)\n",
    "plt.plot(T)\n",
    "plt.plot(Y, '--')\n",
    "plt.legend(['$T_0$', '$T_1$', '$Y_0$', '$Y_1']);"
   ]
  },
  {
   "cell_type": "markdown",
   "metadata": {},
   "source": [
    "Now with SGD."
   ]
  },
  {
   "cell_type": "code",
   "execution_count": 14,
   "metadata": {},
   "outputs": [
    {
     "name": "stdout",
     "output_type": "stream",
     "text": [
      "NeuralNetwork(2, [10, 10], 2, use_torch=False)\n",
      "   Network was trained for 50 epochs that took 0.0155 seconds. Final objective value is 0.212\n"
     ]
    },
    {
     "data": {
      "image/png": "[encoded data removed]",
      "text/plain": [
       "<Figure size 432x288 with 1 Axes>"
      ]
     },
     "metadata": {
      "needs_background": "light"
     },
     "output_type": "display_data"
    }
   ],
   "source": [
    "np.random.seed(42)  # only to help you compare your output to mine.  Do not use otherwise.\n",
    "\n",
    "nnet = nn.NeuralNetwork(2, [10, 10], 2)\n",
    "nnet.train(X, T, 50, method='sgd', learning_rate=0.1, momentum_rate=0.5)\n",
    "print(nnet)\n",
    "plt.plot(nnet.get_error_trace())\n",
    "plt.xlabel('Epoch')\n",
    "plt.ylabel('RMSE');"
   ]
  },
  {
   "cell_type": "code",
   "execution_count": 15,
   "metadata": {},
   "outputs": [
    {
     "data": {
      "image/png": "[encoded data removed]",
      "text/plain": [
       "<Figure size 432x288 with 1 Axes>"
      ]
     },
     "metadata": {
      "needs_background": "light"
     },
     "output_type": "display_data"
    }
   ],
   "source": [
    "Y = nnet.use(X)\n",
    "plt.plot(T)\n",
    "plt.plot(Y, '--')\n",
    "plt.legend(['$T_0$', '$T_1$', '$Y_0$', '$Y_1']);"
   ]
  },
  {
   "cell_type": "markdown",
   "metadata": {},
   "source": [
    "and with Adam"
   ]
  },
  {
   "cell_type": "code",
   "execution_count": 16,
   "metadata": {
    "scrolled": true
   },
   "outputs": [
    {
     "name": "stdout",
     "output_type": "stream",
     "text": [
      "NeuralNetwork(2, [10, 10], 2, use_torch=False)\n",
      "   Network was trained for 50 epochs that took 0.0150 seconds. Final objective value is 0.037\n"
     ]
    },
    {
     "data": {
      "image/png": "[encoded data removed]",
      "text/plain": [
       "<Figure size 432x288 with 1 Axes>"
      ]
     },
     "metadata": {
      "needs_background": "light"
     },
     "output_type": "display_data"
    }
   ],
   "source": [
    "np.random.seed(42)  # only to help you compare your output to mine.  Do not use otherwise.\n",
    "\n",
    "nnet = nn.NeuralNetwork(2, [10, 10], 2)\n",
    "nnet.train(X, T, 50, method='adam', learning_rate=0.1)\n",
    "print(nnet)\n",
    "plt.plot(nnet.get_error_trace())\n",
    "plt.xlabel('Epoch')\n",
    "plt.ylabel('RMSE');"
   ]
  },
  {
   "cell_type": "code",
   "execution_count": 17,
   "metadata": {},
   "outputs": [
    {
     "data": {
      "image/png": "[encoded data removed]",
      "text/plain": [
       "<Figure size 432x288 with 1 Axes>"
      ]
     },
     "metadata": {
      "needs_background": "light"
     },
     "output_type": "display_data"
    }
   ],
   "source": [
    "Y = nnet.use(X)\n",
    "plt.plot(T)\n",
    "plt.plot(Y, '--')\n",
    "plt.legend(['$T_0$', '$T_1$', '$Y_0$', '$Y_1']);"
   ]
  },
  {
   "cell_type": "markdown",
   "metadata": {},
   "source": [
    "To test the use of pytorch, add `use_torch=True` to the constructor."
   ]
  },
  {
   "cell_type": "code",
   "execution_count": 18,
   "metadata": {
    "scrolled": true
   },
   "outputs": [
    {
     "name": "stdout",
     "output_type": "stream",
     "text": [
      "NeuralNetwork(2, [10, 10], 2, use_torch=True)\n",
      "   Network was trained for 50 epochs that took 0.1549 seconds. Final objective value is 0.036\n"
     ]
    },
    {
     "data": {
      "image/png": "[encoded data removed]",
      "text/plain": [
       "<Figure size 432x288 with 1 Axes>"
      ]
     },
     "metadata": {
      "needs_background": "light"
     },
     "output_type": "display_data"
    }
   ],
   "source": [
    "np.random.seed(42)  # only to help you compare your output to mine.  Do not use otherwise.\n",
    "\n",
    "nnet = nn.NeuralNetwork(2, [10, 10], 2, use_torch=True)\n",
    "nnet.train(X, T, 50, method='adam', learning_rate=0.1)\n",
    "print(nnet)\n",
    "plt.plot(nnet.get_error_trace())\n",
    "plt.xlabel('Epoch')\n",
    "plt.ylabel('RMSE');"
   ]
  },
  {
   "cell_type": "code",
   "execution_count": 19,
   "metadata": {},
   "outputs": [
    {
     "data": {
      "image/png": "[encoded data removed]",
      "text/plain": [
       "<Figure size 432x288 with 1 Axes>"
      ]
     },
     "metadata": {
      "needs_background": "light"
     },
     "output_type": "display_data"
    }
   ],
   "source": [
    "Y = nnet.use(X)\n",
    "plt.plot(T)\n",
    "plt.plot(Y, '--')\n",
    "plt.legend(['$T_0$', '$T_1$', '$Y_0$', '$Y_1']);"
   ]
  },
  {
   "cell_type": "markdown",
   "metadata": {},
   "source": [
    "Now for some tests on the individual new class methods.  First we create some toy classification data.  Each sample has two inputs, randomly chosen from integers 0, 1, and 2.  Target class is 1 if the two input samples are equal, 0 if they are not."
   ]
  },
  {
   "cell_type": "code",
   "execution_count": 20,
   "metadata": {},
   "outputs": [
    {
     "name": "stdout",
     "output_type": "stream",
     "text": [
      "x = [2 0], t = [0]\n",
      "x = [2 2], t = [1]\n",
      "x = [0 0], t = [1]\n",
      "x = [2 1], t = [0]\n",
      "x = [2 2], t = [1]\n",
      "x = [2 2], t = [1]\n",
      "x = [0 2], t = [0]\n",
      "x = [1 0], t = [0]\n",
      "x = [1 1], t = [1]\n",
      "x = [1 1], t = [1]\n",
      "x = [0 0], t = [1]\n",
      "x = [1 1], t = [1]\n",
      "x = [0 0], t = [1]\n",
      "x = [0 2], t = [0]\n",
      "x = [2 2], t = [1]\n",
      "x = [1 2], t = [0]\n",
      "x = [1 1], t = [1]\n",
      "x = [2 1], t = [0]\n",
      "x = [2 2], t = [1]\n",
      "x = [0 2], t = [0]\n"
     ]
    }
   ],
   "source": [
    "np.random.seed(42)  # only to help you compare your output to mine.  Do not use otherwise.\n",
    "\n",
    "n_samples = 20\n",
    "X = np.random.choice(3, (n_samples, 2))\n",
    "T = (X[:, 0:1] == X[:, 1:2]).astype(int)  # where the two inputs are equal\n",
    "classes = [0, 1]\n",
    "\n",
    "for x, t in zip(X, T):\n",
    "    print(f'x = {x}, t = {t}')"
   ]
  },
  {
   "cell_type": "code",
   "execution_count": 21,
   "metadata": {},
   "outputs": [
    {
     "name": "stdout",
     "output_type": "stream",
     "text": [
      "8 not equal, 12 equal\n"
     ]
    }
   ],
   "source": [
    "print(f'{np.sum(T==0)} not equal, {np.sum(T==1)} equal')"
   ]
  },
  {
   "cell_type": "markdown",
   "metadata": {},
   "source": [
    "# bstaab - new nn"
   ]
  },
  {
   "cell_type": "code",
   "execution_count": 22,
   "metadata": {},
   "outputs": [
    {
     "data": {
      "text/plain": [
       "NeuralNetworkClassifier(2, [10, 10], [0 1], use_torch=False)  Network is not trained."
      ]
     },
     "execution_count": 22,
     "metadata": {},
     "output_type": "execute_result"
    }
   ],
   "source": [
    "np.random.seed(42)  # only to help you compare your output to mine.  Do not use otherwise.\n",
    "\n",
    "nnet_new = NeuralNetworkClassifier(2, [10, 10], [0, 1])\n",
    "nnet_new"
   ]
  },
  {
   "cell_type": "markdown",
   "metadata": {},
   "source": [
    "We will not be standardizing targets T for this network, so we must redefine the two relevant functions so they just return their argument."
   ]
  },
  {
   "cell_type": "code",
   "execution_count": null,
   "metadata": {},
   "outputs": [],
   "source": [
    "nnet_new._standardizeT(T)"
   ]
  },
  {
   "cell_type": "code",
   "execution_count": null,
   "metadata": {},
   "outputs": [],
   "source": [
    "nnet_new._unstandardizeT(T)"
   ]
  },
  {
   "cell_type": "markdown",
   "metadata": {},
   "source": [
    "The standardization functions from the parent class will be available to us."
   ]
  },
  {
   "cell_type": "code",
   "execution_count": 24,
   "metadata": {},
   "outputs": [
    {
     "data": {
      "text/plain": [
       "array([[ 1.08347268, -1.47709789],\n",
       "       [ 1.08347268,  0.98473193],\n",
       "       [-1.32424438, -1.47709789],\n",
       "       [ 1.08347268, -0.24618298],\n",
       "       [ 1.08347268,  0.98473193],\n",
       "       [ 1.08347268,  0.98473193],\n",
       "       [-1.32424438,  0.98473193],\n",
       "       [-0.12038585, -1.47709789],\n",
       "       [-0.12038585, -0.24618298],\n",
       "       [-0.12038585, -0.24618298],\n",
       "       [-1.32424438, -1.47709789],\n",
       "       [-0.12038585, -0.24618298],\n",
       "       [-1.32424438, -1.47709789],\n",
       "       [-1.32424438,  0.98473193],\n",
       "       [ 1.08347268,  0.98473193],\n",
       "       [-0.12038585,  0.98473193],\n",
       "       [-0.12038585, -0.24618298],\n",
       "       [ 1.08347268, -0.24618298],\n",
       "       [ 1.08347268,  0.98473193],\n",
       "       [-1.32424438,  0.98473193]])"
      ]
     },
     "execution_count": 24,
     "metadata": {},
     "output_type": "execute_result"
    }
   ],
   "source": [
    "nnet_new._setup_standardize(X, T)\n",
    "Xst = nnet_new._standardizeX(X)\n",
    "Xst"
   ]
  },
  {
   "cell_type": "markdown",
   "metadata": {},
   "source": [
    "In this test of `_forward_pass` your results will differ, because they depend on the randomly-initialized weight values."
   ]
  },
  {
   "cell_type": "code",
   "execution_count": 25,
   "metadata": {
    "scrolled": false
   },
   "outputs": [
    {
     "data": {
      "text/plain": [
       "array([[0.55163905, 0.44836095],\n",
       "       [0.52855705, 0.47144295],\n",
       "       [0.59590952, 0.40409048],\n",
       "       [0.5358871 , 0.4641129 ],\n",
       "       [0.52855705, 0.47144295],\n",
       "       [0.52855705, 0.47144295],\n",
       "       [0.59746461, 0.40253539],\n",
       "       [0.57163885, 0.42836115],\n",
       "       [0.56395347, 0.43604653],\n",
       "       [0.56395347, 0.43604653],\n",
       "       [0.59590952, 0.40409048],\n",
       "       [0.56395347, 0.43604653],\n",
       "       [0.59590952, 0.40409048],\n",
       "       [0.59746461, 0.40253539],\n",
       "       [0.52855705, 0.47144295],\n",
       "       [0.56007003, 0.43992997],\n",
       "       [0.56395347, 0.43604653],\n",
       "       [0.5358871 , 0.4641129 ],\n",
       "       [0.52855705, 0.47144295],\n",
       "       [0.59746461, 0.40253539]])"
      ]
     },
     "execution_count": 25,
     "metadata": {},
     "output_type": "execute_result"
    }
   ],
   "source": [
    "Y, Z = nnet_new._forward_pass(Xst)\n",
    "Y"
   ]
  },
  {
   "cell_type": "code",
   "execution_count": 26,
   "metadata": {
    "scrolled": true
   },
   "outputs": [
    {
     "data": {
      "text/plain": [
       "0.35253287777714165"
      ]
     },
     "execution_count": 26,
     "metadata": {},
     "output_type": "execute_result"
    }
   ],
   "source": [
    "w = nnet_new._pack(nnet_new.Vs, nnet_new.W)\n",
    "\n",
    "T_indicator_vars = np.hstack((1 - T, T))  # this only works for this particular two-class toy data\n",
    "\n",
    "nnet_new._objectiveF(w, X, T_indicator_vars)"
   ]
  },
  {
   "cell_type": "code",
   "execution_count": 28,
   "metadata": {},
   "outputs": [
    {
     "data": {
      "text/plain": [
       "((20, 1), (20, 2))"
      ]
     },
     "execution_count": 28,
     "metadata": {},
     "output_type": "execute_result"
    }
   ],
   "source": [
    "Y_classes, Y = nnet_new.use(X)\n",
    "Y_classes.shape, Y.shape"
   ]
  },
  {
   "cell_type": "markdown",
   "metadata": {},
   "source": [
    "The conversion from objective function, which is being minimized, to the \"mean\" likelihood of the data that we wish to maximize, is done by your new definition of `_objective_to_actual`.  This function is given as its argument the output from `_objectiveF` which is the negative mean log likelihood.  It should convert this to just likelihood. Do this by removing the operations in reverse order.  This is confusing a number of you, so I will give you the correct code here.\n",
    "\n",
    "\n",
    "    def _objective_to_actual(self, neg_mean_log_likelihood):\n",
    "        return self.exp(- neg_mean_log_likelihood)"
   ]
  },
  {
   "cell_type": "markdown",
   "metadata": {},
   "source": [
    "Now, for the workhorses, the functions the user of your class will use."
   ]
  },
  {
   "cell_type": "code",
   "execution_count": 29,
   "metadata": {},
   "outputs": [
    {
     "data": {
      "text/plain": [
       "NeuralNetworkClassifier(2, [10, 10], [0 1], use_torch=False)\n",
       "   Network was trained for 66 epochs that took 0.0485 seconds. Final objective value is 1.000"
      ]
     },
     "execution_count": 29,
     "metadata": {},
     "output_type": "execute_result"
    }
   ],
   "source": [
    "nnet_new.train(X, T, 100)"
   ]
  },
  {
   "cell_type": "code",
   "execution_count": 30,
   "metadata": {},
   "outputs": [
    {
     "data": {
      "text/plain": [
       "((20, 1), (20, 2))"
      ]
     },
     "execution_count": 30,
     "metadata": {},
     "output_type": "execute_result"
    }
   ],
   "source": [
    "Y_classes, Y = nnet_new.use(X)\n",
    "Y_classes.shape, Y.shape"
   ]
  },
  {
   "cell_type": "markdown",
   "metadata": {},
   "source": [
    "Let's plot target and predicted classes. Shift the predicted class a bit upward to we can see it."
   ]
  },
  {
   "cell_type": "code",
   "execution_count": 31,
   "metadata": {},
   "outputs": [
    {
     "data": {
      "image/png": "[encoded data removed]",
      "text/plain": [
       "<Figure size 1080x360 with 2 Axes>"
      ]
     },
     "metadata": {
      "needs_background": "light"
     },
     "output_type": "display_data"
    }
   ],
   "source": [
    "plt.figure(figsize=(15, 5))\n",
    "plt.subplot(1, 2, 1)\n",
    "plt.plot(nnet_new.get_error_trace())\n",
    "plt.xlabel('epoch')\n",
    "plt.ylabel('Likelihood')\n",
    "\n",
    "plt.subplot(1, 2, 2)\n",
    "plt.plot(T, 'o-')\n",
    "plt.plot(Y_classes + 0.05, 'o-')\n",
    "plt.xlabel('Sample Index')\n",
    "plt.ylabel('Class')\n",
    "plt.legend(['Target Class', 'Predicted Class']);"
   ]
  },
  {
   "cell_type": "markdown",
   "metadata": {},
   "source": [
    "## Real Data Set\n",
    "\n",
    "Now download a dataset for a classification problem from the [UCI Machine Learning Repository](https://archive.ics.uci.edu/ml/datasets.php).  Choose one you find interesting. Or you may use data you find elsewhere that you choose to work with.\n",
    "\n",
    "Load the data into `numpy` arrays for `X` and `T`.  Use your `NeuralNetworkClassifier` to model the data.  Train on some or all of the data and calculate the number of samples that you correctly classify.  Compare the accuracy for several sizes of networks, numbers of epochs, and optimization algorithms.  Discuss what you find.  Are you able to model the data accurately?"
   ]
  },
  {
   "cell_type": "markdown",
   "metadata": {},
   "source": []
  },
  {
   "cell_type": "markdown",
   "metadata": {},
   "source": [
    "The data set I'm using is https://archive.ics.uci.edu/ml/datasets/Wine\n",
    "NOTE: 1st attribute is class identifier (1-3)  \n",
    "      Number of instances  \n",
    "         class 1 59  \n",
    "\t     class 2 71  \n",
    "\t     class 3 48  \n",
    "The analysis determined the quantities of 13 constituents found in each of the three types of wines"
   ]
  },
  {
   "cell_type": "code",
   "execution_count": 32,
   "metadata": {},
   "outputs": [
    {
     "name": "stdout",
     "output_type": "stream",
     "text": [
      "X.shape((178, 13)), T.shape((178, 1)))\n"
     ]
    }
   ],
   "source": [
    "# Load data from the CSV file\n",
    "data = np.loadtxt('wine.data', delimiter=\",\")\n",
    "#np.random.shuffle(data)\n",
    "\n",
    "# The first column is the class - Take all rows, first column\n",
    "T = data[:,0].reshape(-1,1).astype(int)\n",
    "\n",
    "# Data is everything except first column - Take all rows, all but first colum\n",
    "X = data[:,1:]\n",
    "print(f'X.shape({X.shape}), T.shape({T.shape}))')"
   ]
  },
  {
   "cell_type": "code",
   "execution_count": 33,
   "metadata": {},
   "outputs": [],
   "source": [
    "# Get class list from the Target Data\n",
    "class_list = list(np.unique(T))"
   ]
  },
  {
   "cell_type": "code",
   "execution_count": 34,
   "metadata": {},
   "outputs": [
    {
     "data": {
      "text/plain": [
       "NeuralNetworkClassifier(13, [10, 10], [1 2 3], use_torch=False)  Network is not trained."
      ]
     },
     "execution_count": 34,
     "metadata": {},
     "output_type": "execute_result"
    }
   ],
   "source": [
    "nnet_wine = NeuralNetworkClassifier(13, [10, 10], class_list)\n",
    "nnet_wine"
   ]
  },
  {
   "cell_type": "code",
   "execution_count": 35,
   "metadata": {},
   "outputs": [
    {
     "name": "stderr",
     "output_type": "stream",
     "text": [
      "A3grader.py:166: RuntimeWarning: overflow encountered in exp\n",
      "  print('{} FINAL GRADE is  _  / 100'.format(name))\n",
      "A3grader.py:168: RuntimeWarning: invalid value encountered in true_divide\n",
      "  \n",
      "A3grader.py:68: RuntimeWarning: divide by zero encountered in log\n",
      "  not isinstance(node, ast.Import)):  #  and\n",
      "A3grader.py:68: RuntimeWarning: invalid value encountered in multiply\n",
      "  not isinstance(node, ast.Import)):  #  and\n"
     ]
    },
    {
     "data": {
      "text/plain": [
       "NeuralNetworkClassifier(13, [10, 10], [1 2 3], use_torch=False)\n",
       "   Network was trained for 57 epochs that took 0.0824 seconds. Final objective value is 1.000"
      ]
     },
     "execution_count": 35,
     "metadata": {},
     "output_type": "execute_result"
    }
   ],
   "source": [
    "nnet_wine.train(X, T, 100)"
   ]
  },
  {
   "cell_type": "code",
   "execution_count": 36,
   "metadata": {},
   "outputs": [],
   "source": [
    "nnet_wine._setup_standardize(X, T)\n",
    "Xst = nnet_wine._standardizeX(X)\n",
    "#Xst"
   ]
  },
  {
   "cell_type": "code",
   "execution_count": 37,
   "metadata": {},
   "outputs": [],
   "source": [
    "Y, Z = nnet_wine._forward_pass(Xst)"
   ]
  },
  {
   "cell_type": "code",
   "execution_count": 38,
   "metadata": {},
   "outputs": [
    {
     "data": {
      "text/plain": [
       "((178, 1), (178, 3))"
      ]
     },
     "execution_count": 38,
     "metadata": {},
     "output_type": "execute_result"
    }
   ],
   "source": [
    "Y_classes, Y = nnet_wine.use(X)\n",
    "Y_classes.shape, Y.shape"
   ]
  },
  {
   "cell_type": "code",
   "execution_count": 40,
   "metadata": {},
   "outputs": [
    {
     "data": {
      "text/plain": [
       "array([0, 1, 2])"
      ]
     },
     "execution_count": 40,
     "metadata": {},
     "output_type": "execute_result"
    }
   ],
   "source": [
    "np.unique(Y_classes)"
   ]
  },
  {
   "cell_type": "code",
   "execution_count": null,
   "metadata": {},
   "outputs": [],
   "source": []
  },
  {
   "cell_type": "code",
   "execution_count": 39,
   "metadata": {},
   "outputs": [
    {
     "data": {
      "image/png": "[encoded data removed]",
      "text/plain": [
       "<Figure size 1080x360 with 2 Axes>"
      ]
     },
     "metadata": {
      "needs_background": "light"
     },
     "output_type": "display_data"
    }
   ],
   "source": [
    "plt.figure(figsize=(15, 5))\n",
    "plt.subplot(1, 2, 1)\n",
    "plt.plot(nnet_new.get_error_trace())\n",
    "plt.xlabel('epoch')\n",
    "plt.ylabel('Likelihood')\n",
    "\n",
    "plt.subplot(1, 2, 2)\n",
    "plt.plot(T, 'o-')\n",
    "plt.plot(Y_classes, 'o-')\n",
    "plt.xlabel('Sample Index')\n",
    "plt.ylabel('Class')\n",
    "plt.legend(['Target Class', 'Predicted Class']);"
   ]
  },
  {
   "cell_type": "code",
   "execution_count": null,
   "metadata": {},
   "outputs": [],
   "source": []
  },
  {
   "cell_type": "code",
   "execution_count": null,
   "metadata": {},
   "outputs": [],
   "source": []
  },
  {
   "cell_type": "code",
   "execution_count": null,
   "metadata": {},
   "outputs": [],
   "source": []
  },
  {
   "cell_type": "code",
   "execution_count": null,
   "metadata": {},
   "outputs": [],
   "source": []
  },
  {
   "cell_type": "code",
   "execution_count": null,
   "metadata": {},
   "outputs": [],
   "source": []
  },
  {
   "cell_type": "markdown",
   "metadata": {},
   "source": [
    "# Grading\n",
    "\n",
    "Download [A3grader.zip](https://www.cs.colostate.edu/~anderson/cs545/notebooks/A3grader.zip) and extract A3grader.py from it. Run the code in the following cell to demonstrate an example grading session. You should see a perfect execution score of 80/80 if your functions are defined correctly. Other tests will be performed on your checked in notebook to make up the 80 execution points. The remaining 20 points will be based on the results you obtain from the classification data you download and your discussion of the results."
   ]
  },
  {
   "cell_type": "code",
   "execution_count": 1,
   "metadata": {},
   "outputs": [
    {
     "name": "stdout",
     "output_type": "stream",
     "text": [
      "\n",
      "======================= Code Execution =======================\n",
      "\n",
      "Extracting python code from notebook named 'Staab-A3.ipynb' and storing in notebookcode.py\n",
      "Removing all statements that are not function or class defs or import statements.\n",
      "\n",
      "Testing if your NeuralNetworkClassifier can learn to detect vowels when given\n",
      "their ascii codes.\n",
      "\n",
      "import numpy as np\n",
      "ascii_code = list(range(65, 91)) + list(range(97, 123))\n",
      "chars = [chr(n).lower() for n in ascii_code]\n",
      "vowel = [c in ['a', 'e', 'i', 'o', 'u'] for c in chars]\n",
      "X = np.array(ascii_code).reshape((-1, 1))\n",
      "T = np.array(vowel).reshape((-1, 1))\n",
      "classes = np.unique(T)\n",
      "\n",
      "np.random.seed(120)\n",
      "nnet = NeuralNetworkClassifier(X.shape[1], [50, 20, 20], classes)\n",
      "nnet.train(X, T, 10000, verbose=True)\n",
      "Yc, Y = nnet.use(X)\n",
      "n_correct = (Yc == T).sum()\n",
      "print(f'{n_correct} out of {T.shape[0]} samples, or {n_correct/T.shape[0]*100:.2f} percent.')\n",
      "SCG: Iteration 1000 ObjectiveF=0.79863 Scale=1.000e-15 Seconds=1.290\n",
      "SCG: Iteration 2000 ObjectiveF=0.80751 Scale=1.000e-15 Seconds=1.368\n",
      "SCG: Iteration 3000 ObjectiveF=0.81634 Scale=1.000e-15 Seconds=1.382\n"
     ]
    },
    {
     "name": "stderr",
     "output_type": "stream",
     "text": [
      "notebookcodeStripped:261: RuntimeWarning: overflow encountered in exp\n",
      "notebookcodeStripped:263: RuntimeWarning: invalid value encountered in true_divide\n",
      "notebookcodeStripped:163: RuntimeWarning: divide by zero encountered in log\n",
      "notebookcodeStripped:163: RuntimeWarning: invalid value encountered in multiply\n"
     ]
    },
    {
     "name": "stdout",
     "output_type": "stream",
     "text": [
      "SCG: Iteration 4000 ObjectiveF=0.82552 Scale=1.000e-15 Seconds=1.387\n",
      "SCG: Iteration 5000 ObjectiveF=0.84690 Scale=1.000e-15 Seconds=1.366\n",
      "SCG: Iteration 6000 ObjectiveF=0.85865 Scale=1.000e-15 Seconds=1.402\n",
      "SCG: Iteration 7000 ObjectiveF=0.86317 Scale=1.000e-15 Seconds=1.403\n",
      "SCG: Iteration 8000 ObjectiveF=0.88484 Scale=1.000e-15 Seconds=1.383\n",
      "SCG: Iteration 9000 ObjectiveF=0.94793 Scale=1.000e-15 Seconds=1.346\n",
      "SCG: Iteration 10000 ObjectiveF=0.96082 Scale=1.000e-15 Seconds=1.374\n",
      "51 out of 52 samples, or 98.08 percent.\n",
      "\n",
      "---  0/80 points. Returned incorrect value. n_correct should be 48\n",
      "\n",
      "======================================================================\n",
      "A3 Execution Grade is 0 / 80\n",
      "======================================================================\n",
      "\n",
      " __ / 10 You obtained data for a classification problem and set up\n",
      "         X and T matrices correctly.\n",
      "\n",
      " __ / 10 You compared several different network sizes, numbers of\n",
      "         epochs, and optimization algoritms and described the results.\n",
      "\n",
      "======================================================================\n",
      "A3 FINAL GRADE is  _  / 100\n",
      "======================================================================\n",
      "\n",
      "Extra Credit:\n",
      "1. For the data set you have downloaded, randomly partition the data into about\n",
      "   80% for training and 20% for testing. Discuss the percent of samples correctly\n",
      "   classified for train and test partitions and how variations in netowrk size, \n",
      "   epochs, and optimization algorithm effect the results.\n",
      "2. Develop a new version of optimizers.py, neuralnetworks.py and your\n",
      "   NeuralNetworkClassifier class that will run on a GPU using pytorch. \n",
      "   Add a keyword argument where neded called use_gpu that can be set to True to\n",
      "   run on GPU.\n",
      "\n",
      "A3 EXTRA CREDIT is 0 / 2\n"
     ]
    }
   ],
   "source": [
    "%run -i A3grader.py"
   ]
  },
  {
   "cell_type": "markdown",
   "metadata": {},
   "source": [
    "# Extra Credit\n",
    "\n",
    "1. For the data set you have downloaded, randomly partition the data into about 80% for training and 20% for testing.  Discuss the percent of samples correctly classified for train and test partitions and how variations in netowrk size, epochs, and optimization algorithm effect the results.\n",
    "2. Develop a new version of `optimizers.py`, `neuralnetworks.py` and your `NeuralNetworkClassifier` class that will run on a GPU using pytorch.  Add a keyword argument where neded called `use_gpu` that can be set to `True` to run on GPU."
   ]
  }
 ],
 "metadata": {
  "kernelspec": {
   "display_name": "Python 3",
   "language": "python",
   "name": "python3"
  },
  "language_info": {
   "codemirror_mode": {
    "name": "ipython",
    "version": 3
   },
   "file_extension": ".py",
   "mimetype": "text/x-python",
   "name": "python",
   "nbconvert_exporter": "python",
   "pygments_lexer": "ipython3",
   "version": "3.6.2"
  }
 },
 "nbformat": 4,
 "nbformat_minor": 2
}
