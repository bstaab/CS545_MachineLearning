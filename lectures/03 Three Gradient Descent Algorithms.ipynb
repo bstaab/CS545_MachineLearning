{
 "cells": [
  {
   "cell_type": "markdown",
   "metadata": {},
   "source": [
    "# Three Gradient Descent Algorithms\n",
    "\n",
    "## SGD, Adam, and SCG"
   ]
  },
  {
   "cell_type": "code",
   "execution_count": 1,
   "metadata": {},
   "outputs": [],
   "source": [
    "import numpy as np\n",
    "import pandas\n",
    "\n",
    "import matplotlib.pyplot as plt\n",
    "%matplotlib inline"
   ]
  },
  {
   "cell_type": "code",
   "execution_count": 2,
   "metadata": {},
   "outputs": [
    {
     "name": "stdout",
     "output_type": "stream",
     "text": [
      "  % Total    % Received % Xferd  Average Speed   Time    Time     Time  Current\n",
      "                                 Dload  Upload   Total   Spent    Left  Speed\n",
      "100 1507k  100 1507k    0     0  1637k      0 --:--:-- --:--:-- --:--:-- 1635k\n",
      "Archive:  AirQualityUCI.zip\n",
      "  inflating: AirQualityUCI.csv       \n",
      "  inflating: AirQualityUCI.xlsx      \n"
     ]
    }
   ],
   "source": [
    "!curl -O https://archive.ics.uci.edu/ml/machine-learning-databases/00360/AirQualityUCI.zip\n",
    "!unzip -o AirQualityUCI.zip"
   ]
  },
  {
   "cell_type": "code",
   "execution_count": 3,
   "metadata": {},
   "outputs": [
    {
     "data": {
      "text/plain": [
       "(87, 2)"
      ]
     },
     "execution_count": 3,
     "metadata": {},
     "output_type": "execute_result"
    }
   ],
   "source": [
    "data = pandas.read_csv('AirQualityUCI.csv', delimiter=';', decimal=',', usecols=range(15), na_values=-200)\n",
    "data = data[['Time', 'CO(GT)']]\n",
    "data = data [:23*4]\n",
    "data = data.dropna(axis=0)\n",
    "data.shape"
   ]
  },
  {
   "cell_type": "code",
   "execution_count": 4,
   "metadata": {},
   "outputs": [
    {
     "data": {
      "text/plain": [
       "array([[18. ,  2.6],\n",
       "       [19. ,  2. ],\n",
       "       [20. ,  2.2],\n",
       "       [21. ,  2.2],\n",
       "       [22. ,  1.6],\n",
       "       [23. ,  1.2],\n",
       "       [ 0. ,  1.2],\n",
       "       [ 1. ,  1. ],\n",
       "       [ 2. ,  0.9],\n",
       "       [ 3. ,  0.6]])"
      ]
     },
     "execution_count": 4,
     "metadata": {},
     "output_type": "execute_result"
    }
   ],
   "source": [
    "hour = [int(t[:2]) for t in data['Time']]\n",
    "X = np.array(hour).reshape(-1, 1)\n",
    "CO = data['CO(GT)']\n",
    "T = np.array(CO).reshape(-1, 1)\n",
    "np.hstack((X, T))[:10]  # show the first 10 samples of hour, CO"
   ]
  },
  {
   "cell_type": "code",
   "execution_count": 5,
   "metadata": {},
   "outputs": [],
   "source": [
    "def cubic_model(W, X):\n",
    "    # print('model W', W, 'X5', X[:5])\n",
    "    return np.hstack((X, X**2, X**3)) @ W[1:, :] + W[0, :]\n",
    "\n",
    "def cubic_model_gradient(W, model_not_used, X, T):\n",
    "    dEdY = -2 * (T - cubic_model(W, X))\n",
    "    all_but_bias = np.hstack((X, X**2, X**3))\n",
    "    dYdW = np.insert(all_but_bias, 0, 1, axis=1)\n",
    "    result = dEdY.T @ dYdW / X.shape[0]\n",
    "    return result.T\n",
    "\n",
    "def mse(W, model, X, T):\n",
    "    # print('W', W)\n",
    "    Y = model(W, X)\n",
    "    # print('X[:5]', X[:5])\n",
    "    # print('Y[:5]', Y[:5])\n",
    "    return np.mean((T - Y)**2)"
   ]
  },
  {
   "cell_type": "markdown",
   "metadata": {},
   "source": [
    "## Stochastic Gradient Descent (SGD)"
   ]
  },
  {
   "cell_type": "markdown",
   "metadata": {},
   "source": [
    "Use the cell magic command `%%writefile` to save this function for use in future lectures."
   ]
  },
  {
   "cell_type": "code",
   "execution_count": 6,
   "metadata": {},
   "outputs": [
    {
     "name": "stdout",
     "output_type": "stream",
     "text": [
      "Overwriting optimizers.py\n"
     ]
    }
   ],
   "source": [
    "%%writefile optimizers.py\n",
    "\n",
    "import numpy as np\n",
    "import sys\n",
    "import copy\n",
    "import time\n",
    "import math  # for math.ceil\n",
    "\n",
    "def sgd(w, error_f, error_gradient_f, fargs=[], n_iterations=100, eval_f=lambda x: x,\n",
    "        learning_rate=0.001, momentum_rate=0.0, save_wtrace=False, verbose=False):\n",
    "\n",
    "    w = w.copy()\n",
    "    \n",
    "    startTime = time.time()\n",
    "    startTimeLastVerbose = startTime\n",
    "    \n",
    "    nW = len(w)\n",
    "\n",
    "    wtrace = [w.copy()] if save_wtrace else None\n",
    "    ftrace = [eval_f(error_f(w, *fargs))]\n",
    "    \n",
    "    w_change = 0\n",
    "    for iteration in range(n_iterations):\n",
    "        fnow = error_f(w, *fargs)  # to calculate layer outputs for gradient calculation\n",
    "        grad = error_gradient_f(w, *fargs)\n",
    "        w_change = -learning_rate * grad + momentum_rate * w_change\n",
    "        w += w_change\n",
    "        if save_wtrace:\n",
    "            wtrace.append(w.copy())\n",
    "        ftrace.append(eval_f(fnow))\n",
    "\n",
    "        iterations_per_print = math.ceil(n_iterations/10)\n",
    "        if verbose and (iteration + 1) % max(1, iterations_per_print) == 0:\n",
    "            seconds = time.time() - startTimeLastVerbose\n",
    "            print(f'SGD: Iteration {iteration+1:d} ObjectiveF={eval_f(fnow):.5f} Seconds={seconds:.3f}')\n",
    "            startTimeLastVerbose = time.time()\n",
    "\n",
    "    return {'w': w,\n",
    "            'f': error_f(w, *fargs),\n",
    "            'n_iterations': iteration,\n",
    "            'wtrace': np.array(wtrace)[:iteration + 1,:] if save_wtrace else None,\n",
    "            'ftrace': np.array(ftrace)[:iteration + 1],\n",
    "            'reason': 'iterations',\n",
    "            'time': time.time() - startTime}\n"
   ]
  },
  {
   "cell_type": "code",
   "execution_count": 12,
   "metadata": {},
   "outputs": [],
   "source": [
    "import optimizers as opt"
   ]
  },
  {
   "cell_type": "code",
   "execution_count": 13,
   "metadata": {
    "scrolled": false
   },
   "outputs": [
    {
     "name": "stdout",
     "output_type": "stream",
     "text": [
      "SGD: Iteration 2000 ObjectiveF=2.58176 Seconds=0.405\n",
      "SGD: Iteration 4000 ObjectiveF=2.13536 Seconds=0.293\n",
      "SGD: Iteration 6000 ObjectiveF=1.90689 Seconds=0.303\n",
      "SGD: Iteration 8000 ObjectiveF=1.78992 Seconds=0.336\n",
      "SGD: Iteration 10000 ObjectiveF=1.73000 Seconds=0.487\n",
      "SGD: Iteration 12000 ObjectiveF=1.69928 Seconds=0.526\n",
      "SGD: Iteration 14000 ObjectiveF=1.68349 Seconds=0.293\n",
      "SGD: Iteration 16000 ObjectiveF=1.67535 Seconds=0.447\n",
      "SGD: Iteration 18000 ObjectiveF=1.67111 Seconds=0.279\n",
      "SGD: Iteration 20000 ObjectiveF=1.66887 Seconds=0.552\n"
     ]
    }
   ],
   "source": [
    "result = opt.sgd(np.zeros((4, 1)), mse, cubic_model_gradient, fargs=[cubic_model, X, T],\n",
    "                 n_iterations=20000, learning_rate=1e-8, momentum_rate=0.8, verbose=True)"
   ]
  },
  {
   "cell_type": "code",
   "execution_count": 9,
   "metadata": {},
   "outputs": [
    {
     "data": {
      "text/plain": [
       "dict_keys(['w', 'f', 'n_iterations', 'wtrace', 'ftrace', 'reason', 'time'])"
      ]
     },
     "execution_count": 9,
     "metadata": {},
     "output_type": "execute_result"
    }
   ],
   "source": [
    "result.keys()"
   ]
  },
  {
   "cell_type": "code",
   "execution_count": 10,
   "metadata": {
    "scrolled": false
   },
   "outputs": [
    {
     "data": {
      "image/png": "[encoded data removed]",
      "text/plain": [
       "<Figure size 864x360 with 2 Axes>"
      ]
     },
     "metadata": {
      "needs_background": "light"
     },
     "output_type": "display_data"
    }
   ],
   "source": [
    "def plot_result(result):\n",
    "    plt.figure(figsize=(12, 5))\n",
    "    plt.subplot(1, 2, 1)\n",
    "    plt.plot(result['ftrace'])\n",
    "\n",
    "    plt.subplot(1, 2, 2)\n",
    "    plt.plot(X, T, '.')\n",
    "    xs = np.linspace(0, 23, 100).reshape((-1, 1))\n",
    "    W = result['w']\n",
    "    plt.plot(xs, cubic_model(W, xs))\n",
    "    \n",
    "plot_result(result)"
   ]
  },
  {
   "cell_type": "markdown",
   "metadata": {},
   "source": [
    "## Adaptive Moment Estimation (Adam)"
   ]
  },
  {
   "cell_type": "code",
   "execution_count": 18,
   "metadata": {},
   "outputs": [
    {
     "name": "stdout",
     "output_type": "stream",
     "text": [
      "Appending to optimizers.py\n"
     ]
    }
   ],
   "source": [
    "%%writefile -a optimizers.py\n",
    "\n",
    "def adam(w, error_f, error_gradient_f, fargs=[], n_iterations=100, eval_f=lambda x: x,\n",
    "         learning_rate=0.001, save_wtrace=False, verbose=False):\n",
    "\n",
    "    w = w.copy()\n",
    "    \n",
    "    startTime = time.time()\n",
    "    startTimeLastVerbose = startTime\n",
    "    \n",
    "    beta1 = 0.9\n",
    "    beta2 = 0.999\n",
    "    alpha = learning_rate\n",
    "    epsilon = 10e-8\n",
    "    nW = len(w)\n",
    "    g = np.zeros((nW, 1))\n",
    "    g2 = np.zeros((nW, 1))\n",
    "    beta1t = beta1\n",
    "    beta2t = beta2\n",
    "\n",
    "    wtrace = [w.copy()] if save_wtrace else None\n",
    "    ftrace = [eval_f(error_f(w, *fargs))]\n",
    "    \n",
    "    for iteration in range(n_iterations):\n",
    "        fnow = error_f(w, *fargs)  # to calculate layer outputs for gradient calculation\n",
    "        grad = error_gradient_f(w, *fargs)\n",
    "        g = beta1 * g + (1 - beta1) * grad\n",
    "        g2 = beta2 * g2 + (1 - beta2) * grad * grad\n",
    "\n",
    "        beta1t *= beta1\n",
    "        beta2t *= beta2\n",
    "        alphat = alpha * np.sqrt(1 - beta2t) / (1 - beta1t)\n",
    "        # print(w.shape, g.shape, g2.shape)\n",
    "        w -= alphat * g / (np.sqrt(g2) + epsilon)\n",
    "        if save_wtrace:\n",
    "            wtrace.append(w.copy())\n",
    "        ftrace.append(eval_f(fnow))\n",
    "\n",
    "        iterations_per_print = math.ceil(n_iterations/10)\n",
    "        if verbose and (iteration + 1) % max(1, iterations_per_print) == 0:\n",
    "            seconds = time.time() - startTimeLastVerbose\n",
    "            print(f'Adam: Iteration {iteration+1:d} ObjectiveF={eval_f(fnow):.5f} Seconds={seconds:.3f}')\n",
    "            startTimeLastVerbose = time.time()\n",
    "\n",
    "    return {'w': w,\n",
    "            'f': error_f(w, *fargs),\n",
    "            'n_iterations': iteration,\n",
    "            'wtrace': np.array(wtrace)[:iteration + 1,:] if save_wtrace else None,\n",
    "            'ftrace': np.array(ftrace)[:iteration + 1],\n",
    "            'reason': 'iterations',\n",
    "            'time': time.time() - startTime}\n"
   ]
  },
  {
   "cell_type": "code",
   "execution_count": 19,
   "metadata": {},
   "outputs": [
    {
     "data": {
      "text/plain": [
       "<module 'optimizers' from '/home/anderson/cs545/notebooks/optimizers.py'>"
      ]
     },
     "execution_count": 19,
     "metadata": {},
     "output_type": "execute_result"
    }
   ],
   "source": [
    "import importlib\n",
    "importlib.reload(opt)"
   ]
  },
  {
   "cell_type": "code",
   "execution_count": 20,
   "metadata": {
    "scrolled": false
   },
   "outputs": [
    {
     "name": "stdout",
     "output_type": "stream",
     "text": [
      "Adam: Iteration 1000 ObjectiveF=1.37135 Seconds=0.218\n",
      "Adam: Iteration 2000 ObjectiveF=1.25237 Seconds=0.144\n",
      "Adam: Iteration 3000 ObjectiveF=1.20784 Seconds=0.165\n",
      "Adam: Iteration 4000 ObjectiveF=1.17899 Seconds=0.145\n",
      "Adam: Iteration 5000 ObjectiveF=1.15958 Seconds=0.174\n",
      "Adam: Iteration 6000 ObjectiveF=1.14664 Seconds=0.150\n",
      "Adam: Iteration 7000 ObjectiveF=1.13816 Seconds=0.187\n",
      "Adam: Iteration 8000 ObjectiveF=1.13268 Seconds=0.157\n",
      "Adam: Iteration 9000 ObjectiveF=1.12920 Seconds=0.180\n",
      "Adam: Iteration 10000 ObjectiveF=1.12695 Seconds=0.180\n"
     ]
    }
   ],
   "source": [
    "result = opt.adam(np.zeros((4, 1)), mse, cubic_model_gradient, fargs=[cubic_model, X, T],\n",
    "                  n_iterations=10000, learning_rate=1e-3, verbose=True)"
   ]
  },
  {
   "cell_type": "code",
   "execution_count": 21,
   "metadata": {
    "scrolled": false
   },
   "outputs": [
    {
     "data": {
      "image/png": "[encoded data removed]",
      "text/plain": [
       "<Figure size 864x360 with 2 Axes>"
      ]
     },
     "metadata": {
      "needs_background": "light"
     },
     "output_type": "display_data"
    }
   ],
   "source": [
    "plot_result(result)"
   ]
  },
  {
   "cell_type": "markdown",
   "metadata": {},
   "source": [
    "## Scaled Conjugate Gradient (SCG)"
   ]
  },
  {
   "cell_type": "code",
   "execution_count": 22,
   "metadata": {},
   "outputs": [
    {
     "name": "stdout",
     "output_type": "stream",
     "text": [
      "Appending to optimizers.py\n"
     ]
    }
   ],
   "source": [
    "%%writefile -a optimizers.py\n",
    "\n",
    "######################################################################\n",
    "# Scaled Conjugate Gradient algorithm from\n",
    "#  \"A Scaled Conjugate Gradient Algorithm for Fast Supervised Learning\"\n",
    "#  by Martin F. Moller\n",
    "#  Neural Networks, vol. 6, pp. 525-533, 1993\n",
    "#\n",
    "#  Adapted by Chuck Anderson from the Matlab implementation by Nabney\n",
    "#   as part of the netlab library.\n",
    "#\n",
    "\n",
    "\n",
    "def scg(w, error_f, error_gradient_f, fargs=[], n_iterations=100, eval_f=lambda x: x,\n",
    "        save_wtrace=False, verbose=False):\n",
    "\n",
    "    float_precision = sys.float_info.epsilon\n",
    "\n",
    "    w = w.copy()\n",
    "    sigma0 = 1.0e-6\n",
    "    fold = error_f(w, *fargs)\n",
    "    fnow = fold\n",
    "    gradnew = error_gradient_f(w, *fargs)\n",
    "    gradold = copy.deepcopy(gradnew)\n",
    "    d = -gradnew      # Initial search direction.\n",
    "    success = True    # Force calculation of directional derivs.\n",
    "    nsuccess = 0      # nsuccess counts number of successes.\n",
    "    beta = 1.0e-6     # Initial scale parameter. Lambda in Moeller.\n",
    "    betamin = 1.0e-15 # Lower bound on scale.\n",
    "    betamax = 1.0e20  # Upper bound on scale.\n",
    "    nvars = len(w)\n",
    "    iteration = 1     # count of number of iterations\n",
    "\n",
    "    wtrace = [w.copy()] if save_wtrace else None\n",
    "    ftrace = [eval_f(fold)]\n",
    "\n",
    "    thisIteration = 1\n",
    "    startTime = time.time()\n",
    "    startTimeLastVerbose = startTime\n",
    "\n",
    "    # Main optimization loop.\n",
    "    while thisIteration <= n_iterations:\n",
    "\n",
    "        # Calculate first and second directional derivatives.\n",
    "        if success:\n",
    "            mu = d.T @ gradnew\n",
    "            if mu >= 0:\n",
    "                d = -gradnew\n",
    "                mu = d.T @ gradnew\n",
    "            kappa = d.T @ d\n",
    "            if math.isnan(kappa):\n",
    "                print('kappa', kappa)\n",
    "\n",
    "            if kappa < float_precision:\n",
    "                return {'w': w,\n",
    "                        'f': fnow,\n",
    "                        'n_iterations': iteration,\n",
    "                        'wtrace': np.array(wtrace)[:iteration + 1, :] if save_wtrace else None, \n",
    "                        'ftrace': np.array(ftrace)[:iteration + 1],\n",
    "                        'reason': 'limit on machine precision',\n",
    "                        'time': time.time() - startTime}\n",
    "            sigma = sigma0 / math.sqrt(kappa)\n",
    "\n",
    "            w_smallstep = w + sigma * d\n",
    "            error_f(w_smallstep, *fargs)  # forward pass through model for intermediate variable values for gradient\n",
    "            g_smallstep = error_gradient_f(w_smallstep, *fargs)\n",
    "            theta = d.T @ (g_smallstep - gradnew) / sigma\n",
    "            if math.isnan(theta):\n",
    "                print(f'theta {theta} sigma {sigma} d[0] {d[0]} g_smallstep[0] {g_smallstep[0]} gradnew[0] {gradnew[0]}')\n",
    "\n",
    "        ## Increase effective curvature and evaluate step size alpha.\n",
    "        delta = theta + beta * kappa\n",
    "        if math.isnan(delta):\n",
    "            print(f'delta is NaN theta {theta} beta {beta} kappa {kappa}')\n",
    "        elif delta <= 0:\n",
    "            delta = beta * kappa\n",
    "            beta = beta - theta / kappa\n",
    "\n",
    "        if delta == 0:\n",
    "            success = False\n",
    "            fnow = fold\n",
    "        else:\n",
    "            alpha = -mu / delta\n",
    "            ## Calculate the comparison ratio Delta\n",
    "            wnew = w + alpha * d\n",
    "            fnew = error_f(wnew, *fargs)\n",
    "            Delta = 2 * (fnew - fold) / (alpha * mu)\n",
    "            if not math.isnan(Delta) and Delta  >= 0:\n",
    "                success = True\n",
    "                nsuccess += 1\n",
    "                w[:] = wnew\n",
    "                fnow = fnew\n",
    "            else:\n",
    "                success = False\n",
    "                fnow = fold\n",
    "\n",
    "        iterations_per_print = math.ceil(n_iterations/10)\n",
    "        if verbose and thisIteration % max(1, iterations_per_print) == 0:\n",
    "            seconds = time.time() - startTimeLastVerbose\n",
    "            print(f'SCG: Iteration {iteration:d} ObjectiveF={eval_f(fnow):.5f} Scale={beta:.3e} Seconds={seconds:.3f}')\n",
    "            startTimeLastVerbose = time.time()\n",
    "        if save_wtrace:\n",
    "            wtrace.append(w.copy())\n",
    "        ftrace.append(eval_f(fnow))\n",
    "\n",
    "        if success:\n",
    "\n",
    "            fold = fnew\n",
    "            gradold[:] = gradnew\n",
    "            gradnew[:] = error_gradient_f(w, *fargs)\n",
    "\n",
    "            # If the gradient is zero then we are done.\n",
    "            gg = gradnew.T @ gradnew\n",
    "            if gg == 0:\n",
    "                return {'w': w,\n",
    "                        'f': fnow,\n",
    "                        'n_iterations': iteration,\n",
    "                        'wtrace': np.array(wtrace)[:iteration + 1, :] if save_wtrace else None,\n",
    "                        'ftrace': np.array(ftrace)[:iteration + 1],\n",
    "                        'reason': 'zero gradient',\n",
    "                        'time': time.time() - startTime}\n",
    "\n",
    "        if math.isnan(Delta) or Delta < 0.25:\n",
    "            beta = min(4.0 * beta, betamax)\n",
    "        elif Delta > 0.75:\n",
    "            beta = max(0.5 * beta, betamin)\n",
    "\n",
    "        # Update search direction using Polak-Ribiere formula, or re-start\n",
    "        # in direction of negative gradient after nparams steps.\n",
    "        if nsuccess == nvars:\n",
    "            d[:] = -gradnew\n",
    "            nsuccess = 0\n",
    "        elif success:\n",
    "            gamma = (gradold - gradnew).T @ (gradnew / mu)\n",
    "            d[:] = gamma * d - gradnew\n",
    "\n",
    "        thisIteration += 1\n",
    "        iteration += 1\n",
    "\n",
    "        # If we get here, then we haven't terminated in the given number of iterations.\n",
    "\n",
    "    return {'w': w,\n",
    "            'f': fnow,\n",
    "            'n_iterations': iteration,\n",
    "            'wtrace': np.array(wtrace)[:iteration + 1,:] if save_wtrace else None,\n",
    "            'ftrace': np.array(ftrace)[:iteration + 1],\n",
    "            'reason': 'did not converge',\n",
    "            'time': time.time() - startTime}\n"
   ]
  },
  {
   "cell_type": "code",
   "execution_count": 23,
   "metadata": {},
   "outputs": [
    {
     "data": {
      "text/plain": [
       "<module 'optimizers' from '/home/anderson/cs545/notebooks/optimizers.py'>"
      ]
     },
     "execution_count": 23,
     "metadata": {},
     "output_type": "execute_result"
    }
   ],
   "source": [
    "importlib.reload(opt)"
   ]
  },
  {
   "cell_type": "code",
   "execution_count": 24,
   "metadata": {
    "scrolled": false
   },
   "outputs": [
    {
     "name": "stdout",
     "output_type": "stream",
     "text": [
      "SCG: Iteration 20 ObjectiveF=1.12561 Scale=1.907e-12 Seconds=0.025\n",
      "SCG: Iteration 40 ObjectiveF=1.12315 Scale=1.000e-15 Seconds=0.028\n",
      "SCG: Iteration 60 ObjectiveF=1.12292 Scale=1.000e-15 Seconds=0.022\n",
      "SCG: Iteration 80 ObjectiveF=1.12290 Scale=1.000e-15 Seconds=0.022\n",
      "SCG: Iteration 100 ObjectiveF=1.12290 Scale=1.000e-15 Seconds=0.033\n",
      "SCG: Iteration 120 ObjectiveF=1.12290 Scale=1.000e-15 Seconds=0.019\n",
      "SCG: Iteration 140 ObjectiveF=1.12290 Scale=1.638e-11 Seconds=0.014\n",
      "SCG: Iteration 160 ObjectiveF=1.12290 Scale=1.801e+01 Seconds=0.003\n",
      "SCG: Iteration 180 ObjectiveF=1.12290 Scale=7.556e+07 Seconds=0.009\n",
      "SCG: Iteration 200 ObjectiveF=1.12290 Scale=1.038e+19 Seconds=0.009\n"
     ]
    }
   ],
   "source": [
    "result = opt.scg(np.zeros((4, 1)), mse, cubic_model_gradient, fargs=[cubic_model, X, T],\n",
    "                n_iterations=200, verbose=True)"
   ]
  },
  {
   "cell_type": "code",
   "execution_count": 25,
   "metadata": {
    "scrolled": false
   },
   "outputs": [
    {
     "data": {
      "image/png": "[encoded data removed]",
      "text/plain": [
       "<Figure size 864x360 with 2 Axes>"
      ]
     },
     "metadata": {
      "needs_background": "light"
     },
     "output_type": "display_data"
    }
   ],
   "source": [
    "plot_result(result)"
   ]
  },
  {
   "cell_type": "markdown",
   "metadata": {},
   "source": [
    "Running the three optimizations again, and superimposing their results on the plots."
   ]
  },
  {
   "cell_type": "code",
   "execution_count": 26,
   "metadata": {},
   "outputs": [],
   "source": [
    "result_sgd = opt.sgd(np.zeros((4, 1)), \n",
    "                     mse, cubic_model_gradient, fargs=[cubic_model, X, T],\n",
    "                     n_iterations=20000, learning_rate=1e-8, momentum_rate=0.8)"
   ]
  },
  {
   "cell_type": "code",
   "execution_count": 27,
   "metadata": {},
   "outputs": [],
   "source": [
    "result_adam = opt.adam(np.zeros((4, 1)), \n",
    "                       mse, cubic_model_gradient, fargs=[cubic_model, X, T],\n",
    "                        n_iterations=10000, learning_rate=1e-3)"
   ]
  },
  {
   "cell_type": "code",
   "execution_count": 28,
   "metadata": {},
   "outputs": [],
   "source": [
    "result_scg = opt.scg(np.zeros((4, 1)),\n",
    "                     mse, cubic_model_gradient, fargs=[cubic_model, X, T],\n",
    "                     n_iterations=200)"
   ]
  },
  {
   "cell_type": "code",
   "execution_count": 29,
   "metadata": {},
   "outputs": [
    {
     "data": {
      "image/png": "[encoded data removed]",
      "text/plain": [
       "<Figure size 864x360 with 2 Axes>"
      ]
     },
     "metadata": {
      "needs_background": "light"
     },
     "output_type": "display_data"
    }
   ],
   "source": [
    "plt.figure(figsize=(12, 5))\n",
    "plt.subplot(1, 2, 1)\n",
    "plt.plot(result_sgd['ftrace'], label='SGD')\n",
    "plt.plot(result_adam['ftrace'], label='Adam')\n",
    "plt.plot(result_scg['ftrace'], label='SCG')\n",
    "plt.legend()\n",
    "\n",
    "plt.subplot(1, 2, 2)\n",
    "plt.plot(X, T, '.')\n",
    "xs = np.linspace(0, 23, 100).reshape((-1, 1))\n",
    "plt.plot(xs, cubic_model(result_sgd['w'], xs), label='SGD')\n",
    "plt.plot(xs, cubic_model(result_adam['w'], xs), label='Adam')\n",
    "plt.plot(xs, cubic_model(result_scg['w'], xs), label='SCG')\n",
    "plt.legend();"
   ]
  },
  {
   "cell_type": "code",
   "execution_count": null,
   "metadata": {},
   "outputs": [],
   "source": []
  }
 ],
 "metadata": {
  "kernelspec": {
   "display_name": "Python 3",
   "language": "python",
   "name": "python3"
  },
  "language_info": {
   "codemirror_mode": {
    "name": "ipython",
    "version": 3
   },
   "file_extension": ".py",
   "mimetype": "text/x-python",
   "name": "python",
   "nbconvert_exporter": "python",
   "pygments_lexer": "ipython3",
   "version": "3.7.4"
  }
 },
 "nbformat": 4,
 "nbformat_minor": 2
}
