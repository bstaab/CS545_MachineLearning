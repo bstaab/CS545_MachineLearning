{
 "cells": [
  {
   "cell_type": "markdown",
   "metadata": {
    "slideshow": {
     "slide_type": "slide"
    }
   },
   "source": [
    "# Welcome to CS545: Machine Learning\n",
    "\n",
    "## Instructors\n",
    "\n",
    "- [Chuck Anderson](http://www.cs.colostate.edu/~anderson) and [Dejan Markovikj](https://www.linkedin.com/in/markovikj)"
   ]
  },
  {
   "cell_type": "markdown",
   "metadata": {
    "slideshow": {
     "slide_type": "slide"
    }
   },
   "source": [
    "## Lectures\n",
    "- Tuesday and Thursday: 8:00 - 9:15, Room 130 CS Building\n",
    "    - Online section students can watch lecture videos through Echo360 in Canvas\n",
    "- Presentation and discussions of lecture notes and assignments and all other topics of interest to you!\n",
    "- Last three weeks will be short presentations by you. "
   ]
  },
  {
   "cell_type": "markdown",
   "metadata": {
    "slideshow": {
     "slide_type": "slide"
    }
   },
   "source": [
    "## Grading\n",
    "\n",
    "- Assignments: combinations of python implementations and applications of machine learning algorithms with text, math and visualizations that explain the algorithms and results\n",
    "- About 7 assignments plus one more of your own design.  Same assignments for on-campus and online students.\n",
    "- Check in solutions through Canvas as jupyter notebooks\n",
    "- Short (about 15 minute) presentation to the class on a topic of interest to you. (Not required for online students.)\n",
    "- No exams or quizzes!"
   ]
  },
  {
   "cell_type": "markdown",
   "metadata": {
    "slideshow": {
     "slide_type": "slide"
    }
   },
   "source": [
    "## What is Python?  \n",
    "## What is jupyter? \n",
    "## And what do you mean by \"machine learning\"?\n",
    "## Arrrggghh!!"
   ]
  },
  {
   "cell_type": "markdown",
   "metadata": {
    "slideshow": {
     "slide_type": "slide"
    }
   },
   "source": [
    "## Machine Learning\n",
    "\n",
    "Supervised Learning\n",
    "- Given samples of inputs and correct outputs, find a computational model that takes an input and produces approximately correct outputs, even for other inputs.\n",
    "- For example, predict stock prices, or classify a patient's symptoms into likely diagnoses."
   ]
  },
  {
   "cell_type": "markdown",
   "metadata": {
    "slideshow": {
     "slide_type": "slide"
    }
   },
   "source": []
  },
  {
   "cell_type": "markdown",
   "metadata": {
    "slideshow": {
     "slide_type": "slide"
    }
   },
   "source": [
    "## Machine Learning\n",
    "\n",
    "Unsupervised Learning\n",
    "- Given samples of input data, find similarities, dissimilarities, anomolies, trends, and low-dimensional representations of the data.\n",
    "- For example, identify network attacks, or a faulty sensor."
   ]
  },
  {
   "cell_type": "markdown",
   "metadata": {
    "slideshow": {
     "slide_type": "slide"
    }
   },
   "source": [
    "## Machine Learning\n",
    "\n",
    "Reinforcement Learning\n",
    "- Given a system or device with observable and action variables, find computational model that generates accepts sequences of observable values and produces sequences of action values that optimize the system's or device's behavior over time.\n",
    "- For example, learn to take shortest paths, or learn to play chess."
   ]
  },
  {
   "cell_type": "markdown",
   "metadata": {
    "slideshow": {
     "slide_type": "slide"
    }
   },
   "source": [
    "## Machine Learning\n",
    "\n",
    "Algorithms we will focus on\n",
    "- Regression\n",
    "- Classification\n",
    "- Clustering\n",
    "- Q-Learning, Policy Gradients\n",
    "\n",
    "All using deep learning (artificial neural networks), implemented ourselves using `numpy` and using public frameworks, such as `pytorch` and `tensorflow`"
   ]
  },
  {
   "cell_type": "markdown",
   "metadata": {
    "slideshow": {
     "slide_type": "slide"
    }
   },
   "source": [
    "## Python\n",
    "\n",
    "If you have no or just a little experience with python, it may be difficult for you to gain the necessary experience fast enough.\n",
    "\n",
    "1. True or False: Python code must be compiled before being run.\n",
    "2. True or False: Variables in python can be assigned values of any type.\n",
    "3. True or False: Python is to be avoided for big machine learning tasks because execution is so slow.\n",
    "4. True or False: Python is free and available on all platforms.\n",
    "5. True of False: Knowing python will not help you get a job."
   ]
  },
  {
   "cell_type": "markdown",
   "metadata": {
    "slideshow": {
     "slide_type": "slide"
    }
   },
   "source": [
    "[Popularity of Python](http://pypl.github.io/PYPL.html) judged by accesses of tutorials on github.\n",
    "\n",
    "[Popularity of Python for Deep Learning](https://www.techrepublic.com/article/github-the-top-10-programming-languages-for-machine-learning/)"
   ]
  },
  {
   "cell_type": "markdown",
   "metadata": {
    "slideshow": {
     "slide_type": "slide"
    }
   },
   "source": [
    "## Python Packages We Will Use\n",
    "\n",
    "    numpy\n",
    "    matplotlib\n",
    "    pandas\n",
    "    pytorch\n",
    "    tensorflow  \n",
    "    \n",
    "and others"
   ]
  },
  {
   "cell_type": "code",
   "execution_count": 26,
   "metadata": {
    "slideshow": {
     "slide_type": "slide"
    }
   },
   "outputs": [
    {
     "data": {
      "image/png": "[encoded data removed]",
      "text/plain": [
       "<Figure size 432x288 with 1 Axes>"
      ]
     },
     "metadata": {
      "needs_background": "light"
     },
     "output_type": "display_data"
    }
   ],
   "source": [
    "import numpy as np\n",
    "import matplotlib.pyplot as plt\n",
    "%matplotlib inline\n",
    "\n",
    "plt.plot(np.sin(0.1 * np.arange(100)));"
   ]
  },
  {
   "cell_type": "markdown",
   "metadata": {
    "slideshow": {
     "slide_type": "slide"
    }
   },
   "source": [
    "## jupyter notebook\n",
    "\n",
    "Finally, we have\n",
    "- literate programming\n",
    "- executable documents\n",
    "- reproducible results\n",
    "- super tutorials\n",
    "- excellent lab notebook for computer scientists\n",
    "- executable lecture notes!\n",
    "\n",
    "Github, and other services, can render them in browsers."
   ]
  },
  {
   "cell_type": "markdown",
   "metadata": {
    "slideshow": {
     "slide_type": "slide"
    }
   },
   "source": [
    "## Let's see what you know.\n",
    "\n",
    "Find a friend and step up to a whiteboard to write python code to implement the following things.\n",
    "\n",
    "1. Assign to variable `W` a 5 x 2 matrix (`numpy` array)  of random values between -0.1 and 0.1\n",
    "2. Assign to variable `X` a 10 x 5 matrix of random values between 0 and 10.\n",
    "3. Multiply two matrices, `X` and `W`.\n",
    "4. Take the transpose of `XW`.\n",
    "5. Multiply all elements of matrix `X` by 2 and subtract 1 from all elements."
   ]
  },
  {
   "cell_type": "code",
   "execution_count": 27,
   "metadata": {
    "slideshow": {
     "slide_type": "slide"
    }
   },
   "outputs": [],
   "source": [
    "# 1. Assign to variable W a 5 x 2 matrix (numpy array) of random values between -0.1 and 0.1\n",
    "\n"
   ]
  },
  {
   "cell_type": "code",
   "execution_count": 28,
   "metadata": {
    "slideshow": {
     "slide_type": "slide"
    }
   },
   "outputs": [],
   "source": [
    "# 2. Assign to variable X a 10 x 5 matrix of random values between 0 and 10."
   ]
  },
  {
   "cell_type": "code",
   "execution_count": 29,
   "metadata": {
    "slideshow": {
     "slide_type": "slide"
    }
   },
   "outputs": [],
   "source": [
    "# 3. Multiply two matrices, X and W."
   ]
  },
  {
   "cell_type": "code",
   "execution_count": 30,
   "metadata": {
    "slideshow": {
     "slide_type": "slide"
    }
   },
   "outputs": [],
   "source": [
    "# 4. Take the transpose of XW."
   ]
  },
  {
   "cell_type": "code",
   "execution_count": 31,
   "metadata": {
    "slideshow": {
     "slide_type": "slide"
    }
   },
   "outputs": [],
   "source": [
    "# 5. Multiply all elements of matrix X by 2 and subtract 1 from all elements."
   ]
  },
  {
   "cell_type": "code",
   "execution_count": 32,
   "metadata": {
    "slideshow": {
     "slide_type": "slide"
    }
   },
   "outputs": [],
   "source": [
    "# Iteratively make small adjustments to an initial matrix `W` to make it converge on values in matrix `Z`."
   ]
  },
  {
   "cell_type": "markdown",
   "metadata": {
    "slideshow": {
     "slide_type": "slide"
    }
   },
   "source": [
    "# A Curious Story of High-Dimensional Spaces\n",
    "\n",
    "Here is a wild statement.  In a high-dimensional space, most of the points are the surface of the hypercube shell!\n",
    "\n",
    "Huh?  As discussed at [this stackexchange post](https://datascience.stackexchange.com/questions/27388/what-does-it-mean-when-we-say-most-of-the-points-in-a-hypercube-are-at-the-bound), consider the volume of the hypercube in $d$-dimensional space with each side of the hypercube being of length 1.\n",
    "\n",
    "$$ 1 \\cdot 1 \\cdot 1 \\cdot \\ldots \\cdot 1 = 1^d$$\n",
    "\n",
    "Nothing surprising here."
   ]
  },
  {
   "cell_type": "markdown",
   "metadata": {
    "slideshow": {
     "slide_type": "slide"
    }
   },
   "source": [
    "Now, let's look at the volume of the \"interior\" of this hypercube.  Let's define the interior as the space from 0.01 to 0.99 along each dimension. This would be\n",
    "\n",
    "$$ 0.98 \\cdot 0.98 \\cdot 0.98 \\ldots \\cdot 0.98 = 0.98^d$$\n",
    "\n",
    "So what?  Well, let's look at the results of these calculations.  First lets consider two dimensions."
   ]
  },
  {
   "cell_type": "code",
   "execution_count": 41,
   "metadata": {
    "slideshow": {
     "slide_type": "-"
    }
   },
   "outputs": [
    {
     "data": {
      "text/plain": [
       "0.9603999999999999"
      ]
     },
     "execution_count": 41,
     "metadata": {},
     "output_type": "execute_result"
    }
   ],
   "source": [
    "0.98**2"
   ]
  },
  {
   "cell_type": "code",
   "execution_count": 33,
   "metadata": {
    "slideshow": {
     "slide_type": "slide"
    }
   },
   "outputs": [
    {
     "name": "stdout",
     "output_type": "stream",
     "text": [
      "Total volume 1.  Interior volume 0.9603999999999999\n"
     ]
    }
   ],
   "source": [
    "d = 2\n",
    "print(f'Total volume {1**d}.  Interior volume {0.98**d}')"
   ]
  },
  {
   "cell_type": "markdown",
   "metadata": {
    "slideshow": {
     "slide_type": "slide"
    }
   },
   "source": [
    "How about 10 dimensions, or 50?"
   ]
  },
  {
   "cell_type": "code",
   "execution_count": 34,
   "metadata": {
    "slideshow": {
     "slide_type": "slide"
    }
   },
   "outputs": [
    {
     "name": "stdout",
     "output_type": "stream",
     "text": [
      "Total volume 1.  Interior volume 0.8170728068875467\n"
     ]
    }
   ],
   "source": [
    "d = 10\n",
    "print(f'Total volume {1**d}.  Interior volume {0.98**d}')"
   ]
  },
  {
   "cell_type": "code",
   "execution_count": 35,
   "metadata": {
    "slideshow": {
     "slide_type": "slide"
    }
   },
   "outputs": [
    {
     "name": "stdout",
     "output_type": "stream",
     "text": [
      "Total volume 1.  Interior volume 0.36416968008711675\n"
     ]
    }
   ],
   "source": [
    "d = 50\n",
    "print(f'Total volume {1**d}.  Interior volume {0.98**d}')"
   ]
  },
  {
   "cell_type": "markdown",
   "metadata": {
    "slideshow": {
     "slide_type": "slide"
    }
   },
   "source": [
    "Okay, this is getting tedious.  Let's automate this and calculate interior volume for a range of dimensions up to 100, and plot it. "
   ]
  },
  {
   "cell_type": "code",
   "execution_count": 36,
   "metadata": {
    "scrolled": false,
    "slideshow": {
     "slide_type": "slide"
    }
   },
   "outputs": [
    {
     "data": {
      "image/png": "[encoded data removed]",
      "text/plain": [
       "<Figure size 432x288 with 1 Axes>"
      ]
     },
     "metadata": {
      "needs_background": "light"
     },
     "output_type": "display_data"
    }
   ],
   "source": [
    "def interior_volume(d):\n",
    "    return (1 - 0.01 * 2) ** d\n",
    "\n",
    "dims = np.arange(1, 100, 1)\n",
    "plt.plot(dims, interior_volume(dims))\n",
    "plt.xlabel('dimensions')\n",
    "plt.ylabel('interior volume')\n",
    "plt.grid('on')"
   ]
  },
  {
   "cell_type": "markdown",
   "metadata": {
    "slideshow": {
     "slide_type": "slide"
    }
   },
   "source": [
    "Keep going, up to 1000 dimensions."
   ]
  },
  {
   "cell_type": "code",
   "execution_count": 47,
   "metadata": {
    "scrolled": false,
    "slideshow": {
     "slide_type": "slide"
    }
   },
   "outputs": [
    {
     "data": {
      "image/png": "[encoded data removed]",
      "text/plain": [
       "<Figure size 432x288 with 1 Axes>"
      ]
     },
     "metadata": {
      "needs_background": "light"
     },
     "output_type": "display_data"
    }
   ],
   "source": [
    "def interior_volume(d):\n",
    "    return 0.98 ** d\n",
    "\n",
    "dims = np.arange(1, 1000, 1)\n",
    "plt.plot(dims, interior_volume(dims))\n",
    "plt.xlabel('dimensions')\n",
    "plt.ylabel('interior volume')\n",
    "plt.grid('on')\n",
    "\n",
    "plt.text(500, 0.6, 'WHOA!', fontsize=40);"
   ]
  },
  {
   "cell_type": "code",
   "execution_count": 38,
   "metadata": {
    "slideshow": {
     "slide_type": "slide"
    }
   },
   "outputs": [
    {
     "data": {
      "text/plain": [
       "1.6829673572159252e-09"
      ]
     },
     "execution_count": 38,
     "metadata": {},
     "output_type": "execute_result"
    }
   ],
   "source": [
    "interior_volume(1000)"
   ]
  },
  {
   "cell_type": "markdown",
   "metadata": {
    "slideshow": {
     "slide_type": "slide"
    }
   },
   "source": [
    "Go back to definition of `interior_volume` and try a thinner shell."
   ]
  }
 ],
 "metadata": {
  "celltoolbar": "Slideshow",
  "kernelspec": {
   "display_name": "Python 3",
   "language": "python",
   "name": "python3"
  },
  "language_info": {
   "codemirror_mode": {
    "name": "ipython",
    "version": 3
   },
   "file_extension": ".py",
   "mimetype": "text/x-python",
   "name": "python",
   "nbconvert_exporter": "python",
   "pygments_lexer": "ipython3",
   "version": "3.6.8"
  }
 },
 "nbformat": 4,
 "nbformat_minor": 2
}
