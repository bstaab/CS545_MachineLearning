{
 "cells": [
  {
   "cell_type": "markdown",
   "metadata": {},
   "source": [
    "# Pytorch: nn Module"
   ]
  },
  {
   "cell_type": "markdown",
   "metadata": {},
   "source": [
    "The `torch.tensor` is just a small part of `pytorch`.  The main contribution of the `pytorch` package is its `nn` module that is used to construct and train many kinds of neural networks.\n",
    "\n",
    "Here we apply it to the two problems, one regression and one classification problem."
   ]
  },
  {
   "cell_type": "code",
   "execution_count": 28,
   "metadata": {},
   "outputs": [],
   "source": [
    "import numpy as np\n",
    "import pandas\n",
    "import torch\n",
    "\n",
    "import time\n",
    "\n",
    "import matplotlib.pyplot as plt\n",
    "%matplotlib inline"
   ]
  },
  {
   "cell_type": "markdown",
   "metadata": {},
   "source": [
    "## Regression"
   ]
  },
  {
   "cell_type": "markdown",
   "metadata": {},
   "source": [
    "Load data for the air quality regression problem. `torch.nn` expects data to be `float32`."
   ]
  },
  {
   "cell_type": "code",
   "execution_count": 29,
   "metadata": {},
   "outputs": [
    {
     "data": {
      "text/plain": [
       "array([[18. ,  2.6],\n",
       "       [19. ,  2. ],\n",
       "       [20. ,  2.2],\n",
       "       [21. ,  2.2],\n",
       "       [22. ,  1.6],\n",
       "       [23. ,  1.2],\n",
       "       [ 0. ,  1.2],\n",
       "       [ 1. ,  1. ],\n",
       "       [ 2. ,  0.9],\n",
       "       [ 3. ,  0.6]], dtype=float32)"
      ]
     },
     "execution_count": 29,
     "metadata": {},
     "output_type": "execute_result"
    }
   ],
   "source": [
    "data = pandas.read_csv('AirQualityUCI.csv', delimiter=';', decimal=',', usecols=range(15), na_values=-200)\n",
    "data = data[['Time', 'CO(GT)']]\n",
    "data = data [:23*10]\n",
    "data = data.dropna(axis=0)\n",
    "\n",
    "hour = [int(t[:2]) for t in data['Time']]\n",
    "X = np.array(hour).reshape(-1, 1).astype(np.float32)\n",
    "CO = data['CO(GT)']\n",
    "T = np.array(CO).reshape(-1, 1).astype(np.float32)\n",
    "np.hstack((X, T))[:10]  # show the first 10 samples of hour, CO"
   ]
  },
  {
   "cell_type": "markdown",
   "metadata": {},
   "source": [
    "Since we are using `torch`, we must convert our data matrices, `X` and `T`, to `torch.tensors`."
   ]
  },
  {
   "cell_type": "markdown",
   "metadata": {},
   "source": [
    "Must standardize data ourselves."
   ]
  },
  {
   "cell_type": "code",
   "execution_count": 30,
   "metadata": {},
   "outputs": [],
   "source": [
    "Xmean = X.mean()\n",
    "Xstd = X.std()\n",
    "Tmean = T.mean()\n",
    "Tstd = T.std()\n",
    "\n",
    "X = (X - Xmean) / Xstd\n",
    "T = (T - Tmean) / Tstd"
   ]
  },
  {
   "cell_type": "code",
   "execution_count": 31,
   "metadata": {},
   "outputs": [],
   "source": [
    "Xt = torch.tensor(X)\n",
    "Tt = torch.tensor(T)"
   ]
  },
  {
   "cell_type": "code",
   "execution_count": 32,
   "metadata": {},
   "outputs": [],
   "source": [
    "n_inputs = Xt.shape[1]\n",
    "n_hiddens = 10\n",
    "n_outputs = Tt.shape[1]"
   ]
  },
  {
   "cell_type": "markdown",
   "metadata": {},
   "source": [
    "Create the network."
   ]
  },
  {
   "cell_type": "code",
   "execution_count": 33,
   "metadata": {},
   "outputs": [],
   "source": [
    "nnet = torch.nn.Sequential(\n",
    "    torch.nn.Linear(n_inputs, n_hiddens),\n",
    "    torch.nn.Tanh(),\n",
    "    torch.nn.Linear(n_hiddens, n_outputs))"
   ]
  },
  {
   "cell_type": "markdown",
   "metadata": {},
   "source": [
    "Specify the loss function and the optimizer method."
   ]
  },
  {
   "cell_type": "code",
   "execution_count": 34,
   "metadata": {},
   "outputs": [],
   "source": [
    "loss_F = torch.nn.MSELoss()\n",
    "learning_rate = 0.0001\n",
    "optimizer = torch.optim.Adam(nnet.parameters(), lr=learning_rate)"
   ]
  },
  {
   "cell_type": "markdown",
   "metadata": {},
   "source": [
    "Now we can train it."
   ]
  },
  {
   "cell_type": "code",
   "execution_count": 35,
   "metadata": {},
   "outputs": [
    {
     "name": "stdout",
     "output_type": "stream",
     "text": [
      "Epoch 0 error 1.0249958038330078\n",
      "Epoch 1000 error 0.756424069404602\n",
      "Epoch 2000 error 0.7658848166465759\n",
      "Epoch 3000 error 0.7541773319244385\n",
      "Epoch 4000 error 0.7321771383285522\n",
      "Epoch 5000 error 0.7381395697593689\n",
      "Epoch 6000 error 0.7490202784538269\n",
      "Epoch 7000 error 0.7301877737045288\n",
      "Epoch 8000 error 0.7159892320632935\n",
      "Epoch 9000 error 0.7005356550216675\n"
     ]
    }
   ],
   "source": [
    "for epoch in range(10000):\n",
    "    Yt = nnet(Xt)\n",
    "    \n",
    "    error = loss_F(Yt, Tt)\n",
    "    if epoch % 1000 == 0:\n",
    "        print(f'Epoch {epoch} error {error}')\n",
    "        \n",
    "    error.backward()\n",
    "    \n",
    "    optimizer.step()"
   ]
  },
  {
   "cell_type": "code",
   "execution_count": 36,
   "metadata": {},
   "outputs": [
    {
     "data": {
      "image/png": "[encoded data removed]",
      "text/plain": [
       "<Figure size 432x288 with 1 Axes>"
      ]
     },
     "metadata": {
      "needs_background": "light"
     },
     "output_type": "display_data"
    }
   ],
   "source": [
    "xs = np.linspace(0, 23, 100).reshape((-1, 1)).astype(np.float32)\n",
    "xs = (xs - Xmean) / Xstd\n",
    "xst = torch.tensor(xs)\n",
    "Yt = nnet(xst)\n",
    "plt.plot(Xt, Tt, 'k.', label='T')\n",
    "plt.plot(xs, Yt.detach(), label='Y')\n",
    "plt.legend();"
   ]
  },
  {
   "cell_type": "markdown",
   "metadata": {},
   "source": [
    "Here is all the code together in one block. It assumes the data has been defined."
   ]
  },
  {
   "cell_type": "code",
   "execution_count": 37,
   "metadata": {},
   "outputs": [
    {
     "name": "stdout",
     "output_type": "stream",
     "text": [
      "Epoch 0 error 1.5532629489898682\n",
      "Epoch 200 error 0.6968544125556946\n",
      "Epoch 400 error 0.5010784864425659\n",
      "Epoch 600 error 0.3803490102291107\n",
      "Epoch 800 error 0.3677822947502136\n",
      "Epoch 1000 error 0.36495500802993774\n",
      "Epoch 1200 error 0.363966703414917\n",
      "Epoch 1400 error 0.3634241223335266\n",
      "Epoch 1600 error 0.36300355195999146\n",
      "Epoch 1800 error 0.3626324236392975\n"
     ]
    },
    {
     "data": {
      "image/png": "[encoded data removed]",
      "text/plain": [
       "<Figure size 432x288 with 1 Axes>"
      ]
     },
     "metadata": {
      "needs_background": "light"
     },
     "output_type": "display_data"
    }
   ],
   "source": [
    "Xt = torch.tensor(X)\n",
    "Tt = torch.tensor(T)\n",
    "\n",
    "Xtmean = Xt.mean()\n",
    "Xtstd = Xt.std()\n",
    "Ttmean = Tt.mean()\n",
    "Ttstd = Tt.std()\n",
    "\n",
    "Xt = (Xt - Xtmean) / Xtstd\n",
    "Tt = (Tt - Ttmean) / Ttstd\n",
    "\n",
    "n_inputs = Xt.shape[1]\n",
    "n_hiddens = 20\n",
    "n_outputs = Tt.shape[1]\n",
    "\n",
    "nnet = torch.nn.Sequential(\n",
    "    torch.nn.Linear(n_inputs, n_hiddens),\n",
    "    torch.nn.Tanh(),\n",
    "    torch.nn.Linear(n_hiddens, n_outputs))\n",
    "\n",
    "loss_F = torch.nn.MSELoss()\n",
    "learning_rate = 0.01\n",
    "optimizer = torch.optim.Adam(nnet.parameters(), lr=learning_rate)\n",
    "\n",
    "for epoch in range(2000):\n",
    "    \n",
    "    optimizer.zero_grad()\n",
    "        \n",
    "    Yt = nnet(Xt)\n",
    "    \n",
    "    error = loss_F(Yt, Tt)\n",
    "    if epoch % 200 == 0:\n",
    "        print(f'Epoch {epoch} error {error}')\n",
    "        \n",
    "    error.backward()\n",
    "    \n",
    "    optimizer.step()\n",
    "\n",
    "xs = np.linspace(0, 23, 100).reshape((-1, 1)).astype(np.float32)\n",
    "xs = (xs - Xmean) / Xstd\n",
    "xst = torch.tensor(xs)\n",
    "Yt = nnet(xst)\n",
    "plt.plot(Xt, Tt, 'k.', label='T')\n",
    "plt.plot(xs, Yt.detach(), label='Y')\n",
    "plt.legend();"
   ]
  },
  {
   "cell_type": "markdown",
   "metadata": {},
   "source": [
    "# Classification"
   ]
  },
  {
   "cell_type": "markdown",
   "metadata": {},
   "source": [
    "Let's make some simple images of two different types to test the `torch.nn` module way of doing classification.\n",
    "\n",
    "One type of image with be a diamond shape at various positions.  The other type will be a square."
   ]
  },
  {
   "cell_type": "code",
   "execution_count": 38,
   "metadata": {},
   "outputs": [
    {
     "data": {
      "text/plain": [
       "((200, 1, 20, 20), (200, 1), (20, 1, 20, 20), (20, 1))"
      ]
     },
     "execution_count": 38,
     "metadata": {},
     "output_type": "execute_result"
    }
   ],
   "source": [
    "def make_images(nEach):\n",
    "    images = np.zeros((nEach * 2, 1, 20, 20))  # nSamples, nChannels, rows, columns\n",
    "    radii = 3 + np.random.randint(10 - 5, size=(nEach * 2, 1))\n",
    "    centers = np.zeros((nEach * 2, 2))\n",
    "    for i in range(nEach * 2):\n",
    "        r = radii[i, 0]\n",
    "        centers[i, :] = r + 1 + np.random.randint(18 - 2 * r, size=(1, 2))\n",
    "        x = int(centers[i, 0])\n",
    "        y = int(centers[i, 1])\n",
    "        if i < nEach:\n",
    "            # squares\n",
    "            images[i, 0, x - r:x + r, y + r] = 1.0\n",
    "            images[i, 0, x - r:x + r, y - r] = 1.0\n",
    "            images[i, 0, x - r, y - r:y + r] = 1.0\n",
    "            images[i, 0, x + r, y - r:y + r + 1] = 1.0\n",
    "        else:\n",
    "            # diamonds\n",
    "            images[i, 0, range(x - r, x), range(y, y + r)] = 1.0\n",
    "            images[i, 0, range(x - r, x), range(y, y - r, -1)] = 1.0\n",
    "            images[i, 0, range(x, x + r + 1), range(y + r, y - 1, -1)] = 1.0\n",
    "            images[i, 0, range(x, x + r), range(y - r, y)] = 1.0\n",
    "            # images += np.random.randn(*images.shape) * 0.5\n",
    "            T = np.ones((nEach * 2, 1))\n",
    "            T[nEach:] = 2\n",
    "    return images.astype(np.float32), T.astype(np.float32)\n",
    "\n",
    "Xtrain, Ttrain = make_images(100)\n",
    "Xtest, Ttest = make_images(10)\n",
    "Xtrain.shape, Ttrain.shape, Xtest.shape, Ttest.shape"
   ]
  },
  {
   "cell_type": "code",
   "execution_count": 39,
   "metadata": {},
   "outputs": [
    {
     "data": {
      "text/plain": [
       "array([[1.],\n",
       "       [1.],\n",
       "       [1.],\n",
       "       [1.],\n",
       "       [1.],\n",
       "       [1.],\n",
       "       [1.],\n",
       "       [1.],\n",
       "       [1.],\n",
       "       [1.],\n",
       "       [2.],\n",
       "       [2.],\n",
       "       [2.],\n",
       "       [2.],\n",
       "       [2.],\n",
       "       [2.],\n",
       "       [2.],\n",
       "       [2.],\n",
       "       [2.],\n",
       "       [2.]], dtype=float32)"
      ]
     },
     "execution_count": 39,
     "metadata": {},
     "output_type": "execute_result"
    }
   ],
   "source": [
    "Ttest"
   ]
  },
  {
   "cell_type": "code",
   "execution_count": 40,
   "metadata": {},
   "outputs": [
    {
     "data": {
      "image/png": "[encoded data removed]",
      "text/plain": [
       "<Figure size 1080x360 with 20 Axes>"
      ]
     },
     "metadata": {
      "needs_background": "light"
     },
     "output_type": "display_data"
    }
   ],
   "source": [
    "plt.figure(figsize=(15, 5))\n",
    "for i in range(20):\n",
    "    plt.subplot(2, 10, i + 1)\n",
    "    plt.imshow(Xtest[i, 0, :, :], cmap=plt.cm.binary)\n",
    "    plt.title(f'T = {int(Ttest[i, 0])}')\n",
    "    plt.axis('off');"
   ]
  },
  {
   "cell_type": "markdown",
   "metadata": {},
   "source": [
    "To send these images as input into a neural network, each image must be flattened.  In this case, each image will be 20 x 20 or 400 pixel intensities."
   ]
  },
  {
   "cell_type": "code",
   "execution_count": 41,
   "metadata": {},
   "outputs": [
    {
     "data": {
      "text/plain": [
       "[<matplotlib.lines.Line2D at 0x7f8278125780>]"
      ]
     },
     "execution_count": 41,
     "metadata": {},
     "output_type": "execute_result"
    },
    {
     "data": {
      "image/png": "[encoded data removed]",
      "text/plain": [
       "<Figure size 432x288 with 1 Axes>"
      ]
     },
     "metadata": {
      "needs_background": "light"
     },
     "output_type": "display_data"
    }
   ],
   "source": [
    "plt.plot(Xtest[0, 0, :, :].reshape((-1)))"
   ]
  },
  {
   "cell_type": "code",
   "execution_count": 42,
   "metadata": {},
   "outputs": [
    {
     "data": {
      "text/plain": [
       "(200, 400)"
      ]
     },
     "execution_count": 42,
     "metadata": {},
     "output_type": "execute_result"
    }
   ],
   "source": [
    "Xtrain_flat = Xtrain.reshape((-1, 400))\n",
    "Xtrain_flat.shape"
   ]
  },
  {
   "cell_type": "code",
   "execution_count": 43,
   "metadata": {},
   "outputs": [
    {
     "data": {
      "text/plain": [
       "(20, 400)"
      ]
     },
     "execution_count": 43,
     "metadata": {},
     "output_type": "execute_result"
    }
   ],
   "source": [
    "Xtest_flat = Xtest.reshape((-1, 400))\n",
    "Xtest_flat.shape"
   ]
  },
  {
   "cell_type": "code",
   "execution_count": 44,
   "metadata": {},
   "outputs": [
    {
     "data": {
      "text/plain": [
       "array([1., 2.], dtype=float32)"
      ]
     },
     "execution_count": 44,
     "metadata": {},
     "output_type": "execute_result"
    }
   ],
   "source": [
    "classes = np.unique(Ttrain)\n",
    "classes"
   ]
  },
  {
   "cell_type": "code",
   "execution_count": 45,
   "metadata": {},
   "outputs": [
    {
     "data": {
      "text/plain": [
       "array([0, 0, 0, 0, 0, 0, 0, 0, 0, 0, 1, 1, 1, 1, 1, 1, 1, 1, 1, 1])"
      ]
     },
     "execution_count": 45,
     "metadata": {},
     "output_type": "execute_result"
    }
   ],
   "source": [
    "_, Ttrain_0 = np.where(Ttrain == classes)\n",
    "_, Ttest_0 = np.where(Ttest == classes)\n",
    "Ttest_0"
   ]
  },
  {
   "cell_type": "code",
   "execution_count": 46,
   "metadata": {},
   "outputs": [
    {
     "name": "stdout",
     "output_type": "stream",
     "text": [
      "Epoch 0 error 0.69751\n",
      "Epoch 50 error 0.00072\n",
      "Epoch 100 error 0.00031\n",
      "Epoch 150 error 0.00021\n",
      "12 out of 20 test samples correctly classified.\n"
     ]
    },
    {
     "data": {
      "image/png": "[encoded data removed]",
      "text/plain": [
       "<Figure size 1080x360 with 20 Axes>"
      ]
     },
     "metadata": {
      "needs_background": "light"
     },
     "output_type": "display_data"
    }
   ],
   "source": [
    "classes = np.unique(Ttrain)\n",
    "_, Ttrain_0 = np.where(Ttrain == classes)\n",
    "_, Ttest_0 = np.where(Ttest == classes)\n",
    "\n",
    "Xtraint = torch.tensor(Xtrain_flat)\n",
    "Ttraint = torch.tensor(Ttrain_0)\n",
    "Xtestt = torch.tensor(Xtest_flat)\n",
    "Ttestt = torch.tensor(Ttest_0)\n",
    "\n",
    "Xtmean = Xtraint.mean(0)\n",
    "Xtstd = Xtraint.std(0)\n",
    "\n",
    "if False:\n",
    "    Xtraint = (Xtraint - Xtmean) / Xtstd\n",
    "    Xtestt = (Xtestt - Xtmean) / Xtstd\n",
    "\n",
    "n_inputs = Xtraint.shape[1]\n",
    "n_hiddens = 20\n",
    "n_outputs = len(classes)\n",
    "\n",
    "nnet = torch.nn.Sequential(\n",
    "    torch.nn.Linear(n_inputs, n_hiddens),\n",
    "    torch.nn.Tanh(),\n",
    "    torch.nn.Linear(n_hiddens, n_outputs))\n",
    "\n",
    "loss_F = torch.nn.CrossEntropyLoss()\n",
    "\n",
    "learning_rate = 0.01\n",
    "optimizer = torch.optim.Adam(nnet.parameters(), lr=learning_rate)\n",
    "\n",
    "for epoch in range(200):\n",
    "    \n",
    "    optimizer.zero_grad()\n",
    "    \n",
    "    Ytraint = nnet(Xtraint)\n",
    "    \n",
    "    error = loss_F(Ytraint, Ttraint)\n",
    "    if epoch % 50 == 0:\n",
    "        print(f'Epoch {epoch} error {error:.5f}')\n",
    "        \n",
    "    error.backward()\n",
    "    \n",
    "    optimizer.step()\n",
    "\n",
    "Ytestt = nnet(Xtestt)\n",
    "Ytest = Ytestt.detach().numpy()\n",
    "Ytestclasses = classes[Ytest.argmax(axis=1)].reshape((-1, 1))\n",
    "plt.figure(figsize=(15, 5))\n",
    "for i in range(20):\n",
    "    plt.subplot(2, 10, i + 1)\n",
    "    plt.imshow(Xtest[i, 0, :, :], cmap=plt.cm.binary)\n",
    "    plt.title(f'T = {int(Ttest[i, 0])}\\nY = {int(Ytestclasses[i])}')\n",
    "    plt.axis('off')\n",
    "    \n",
    "print(f'{np.sum(Ttest == Ytestclasses)} out of {Ttest.shape[0]} test samples correctly classified.')"
   ]
  },
  {
   "cell_type": "code",
   "execution_count": 47,
   "metadata": {},
   "outputs": [
    {
     "data": {
      "text/plain": [
       "8062"
      ]
     },
     "execution_count": 47,
     "metadata": {},
     "output_type": "execute_result"
    }
   ],
   "source": [
    "def number_of_weights(torch_nnet):\n",
    "    return sum([p.nelement() for p in torch_nnet.parameters()])\n",
    "\n",
    "number_of_weights(nnet)"
   ]
  },
  {
   "cell_type": "markdown",
   "metadata": {},
   "source": [
    "Hard to predict correct class on test data.  The particular sizes and locations of objects in test images may not have been seen in training data.  Need a way to discover small features, like vertical, horizontal, diagonal lines, that would help predict correct class.\n",
    "\n",
    "This is exactly what convolutional units are designed for!"
   ]
  },
  {
   "cell_type": "markdown",
   "metadata": {},
   "source": [
    "# Classification with Convolutional Nets"
   ]
  },
  {
   "cell_type": "code",
   "execution_count": 48,
   "metadata": {},
   "outputs": [
    {
     "data": {
      "text/plain": [
       "torch.Size([200, 400])"
      ]
     },
     "execution_count": 48,
     "metadata": {},
     "output_type": "execute_result"
    }
   ],
   "source": [
    "Xtraint.shape"
   ]
  },
  {
   "cell_type": "code",
   "execution_count": 49,
   "metadata": {},
   "outputs": [
    {
     "name": "stdout",
     "output_type": "stream",
     "text": [
      "Epoch 0 error 0.72324\n",
      "Epoch 50 error 0.00053\n",
      "Epoch 100 error 0.00033\n",
      "Epoch 150 error 0.00025\n",
      "Epoch 200 error 0.00021\n",
      "Epoch 250 error 0.00017\n",
      "Epoch 300 error 0.00014\n",
      "Epoch 350 error 0.00012\n",
      "20 out of 20 test samples correctly classified.\n"
     ]
    },
    {
     "data": {
      "image/png": "[encoded data removed]",
      "text/plain": [
       "<Figure size 1080x360 with 20 Axes>"
      ]
     },
     "metadata": {
      "needs_background": "light"
     },
     "output_type": "display_data"
    }
   ],
   "source": [
    "classes = np.unique(Ttrain)\n",
    "_, Ttrain_0 = np.where(Ttrain == classes)\n",
    "_, Ttest_0 = np.where(Ttest == classes)\n",
    "\n",
    "Xtraint = torch.tensor(Xtrain)\n",
    "Ttraint = torch.tensor(Ttrain_0)\n",
    "Xtestt = torch.tensor(Xtest)\n",
    "Ttestt = torch.tensor(Ttest_0)\n",
    "\n",
    "Xtmean = Xtraint.mean(0)\n",
    "Xtstd = Xtraint.std(0)\n",
    "\n",
    "# Xtraint = (Xtraint - Xtmean) / Xtstd\n",
    "# Xtestt = (Xtestt - Xtmean) / Xtstd\n",
    "Xtraint = Xtraint\n",
    "Xtestt = Xtestt\n",
    "\n",
    "n_channels = Xtraint.shape[1]\n",
    "n_outputs = len(classes)\n",
    "\n",
    "nnet = torch.nn.Sequential()\n",
    "\n",
    "n_units = 1\n",
    "kernel_size = 5\n",
    "kernel_stride = 2\n",
    "nnet.add_module('conv_1', torch.nn.Conv2d(n_channels, n_units, kernel_size, kernel_stride))\n",
    "nnet.add_module('relu_1', torch.nn.ReLU())\n",
    "n_windows = (Xtraint.shape[2] - kernel_size) // kernel_stride + 1\n",
    "\n",
    "if False:\n",
    "    n_units_previous = n_units\n",
    "    n_units = 3\n",
    "    kernel_size = 3\n",
    "    kernel_stride = 1\n",
    "    nnet.add_module('conv_2', torch.nn.Conv2d(n_units_previous, n_units, kernel_size, kernel_stride))\n",
    "    nnet.add_module('relu_2', torch.nn.ReLU())\n",
    "    n_windows = (n_windows - kernel_size) // kernel_stride + 1\n",
    "\n",
    "nnet.add_module('flatten', torch.nn.Flatten())\n",
    "n_units_previous = n_units\n",
    "n_units = 3\n",
    "n_inputs = n_units_previous * n_windows ** 2\n",
    "nnet.add_module('linear_1', torch.nn.Linear(n_inputs, n_units))\n",
    "nnet.add_module('tanh', torch.nn.Tanh())\n",
    "\n",
    "nnet.add_module('linear 2', torch.nn.Linear(n_units, n_outputs))\n",
    "\n",
    "\n",
    "loss_F = torch.nn.CrossEntropyLoss()\n",
    "\n",
    "learning_rate = 0.1\n",
    "optimizer = torch.optim.Adam(nnet.parameters(), lr=learning_rate)\n",
    "\n",
    "for epoch in range(400):\n",
    "    \n",
    "    optimizer.zero_grad()\n",
    "    \n",
    "    Ytraint = nnet(Xtraint)\n",
    "    \n",
    "    error = loss_F(Ytraint, Ttraint)\n",
    "    if epoch % 50 == 0:\n",
    "        print(f'Epoch {epoch} error {error:.5f}')\n",
    "        \n",
    "    error.backward()\n",
    "    \n",
    "    optimizer.step()\n",
    "\n",
    "Ytestt = nnet(Xtestt)\n",
    "Ytest = Ytestt.detach().numpy()\n",
    "Ytestclasses = classes[Ytest.argmax(axis=1)].reshape((-1, 1))\n",
    "plt.figure(figsize=(15, 5))\n",
    "for i in range(20):\n",
    "    plt.subplot(2, 10, i + 1)\n",
    "    plt.imshow(Xtest[i, 0, :, :], cmap=plt.cm.binary)\n",
    "    plt.title(f'T = {int(Ttest[i, 0])}\\nY = {int(Ytestclasses[i])}')\n",
    "    plt.axis('off')\n",
    "    \n",
    "print(f'{np.sum(Ttest == Ytestclasses)} out of {Ttest.shape[0]} test samples correctly classified.')"
   ]
  },
  {
   "cell_type": "code",
   "execution_count": 50,
   "metadata": {},
   "outputs": [
    {
     "data": {
      "text/plain": [
       "229"
      ]
     },
     "execution_count": 50,
     "metadata": {},
     "output_type": "execute_result"
    }
   ],
   "source": [
    "number_of_weights(nnet)"
   ]
  },
  {
   "cell_type": "code",
   "execution_count": 51,
   "metadata": {},
   "outputs": [
    {
     "data": {
      "text/plain": [
       "Parameter containing:\n",
       "tensor([[[[-0.7923, -1.1128, -0.7803, -1.6528,  0.1891],\n",
       "          [ 0.1147,  0.8907,  1.5126, -0.4230,  0.4156],\n",
       "          [ 0.1771,  0.7354,  0.7143,  0.0996,  0.5938],\n",
       "          [-1.3708, -0.3149, -0.8504, -1.3753, -0.3020],\n",
       "          [-0.0388,  0.8889,  0.5732,  0.2721,  0.3973]]]], requires_grad=True)"
      ]
     },
     "execution_count": 51,
     "metadata": {},
     "output_type": "execute_result"
    }
   ],
   "source": [
    "nnet.conv_1.weight"
   ]
  },
  {
   "cell_type": "code",
   "execution_count": 52,
   "metadata": {},
   "outputs": [
    {
     "data": {
      "image/png": "[encoded data removed]",
      "text/plain": [
       "<Figure size 432x288 with 1 Axes>"
      ]
     },
     "metadata": {
      "needs_background": "light"
     },
     "output_type": "display_data"
    }
   ],
   "source": [
    "w = nnet.conv_1.weight.detach()\n",
    "for uniti in range(w.shape[0]):\n",
    "    plt.subplot(1, w.shape[0], uniti + 1)\n",
    "    plt.imshow(w[uniti, 0, :, :], cmap=plt.cm.gray)\n",
    "    plt.axis('off')"
   ]
  },
  {
   "cell_type": "code",
   "execution_count": null,
   "metadata": {},
   "outputs": [],
   "source": []
  }
 ],
 "metadata": {
  "kernelspec": {
   "display_name": "Python 3",
   "language": "python",
   "name": "python3"
  },
  "language_info": {
   "codemirror_mode": {
    "name": "ipython",
    "version": 3
   },
   "file_extension": ".py",
   "mimetype": "text/x-python",
   "name": "python",
   "nbconvert_exporter": "python",
   "pygments_lexer": "ipython3",
   "version": "3.7.3"
  }
 },
 "nbformat": 4,
 "nbformat_minor": 2
}
